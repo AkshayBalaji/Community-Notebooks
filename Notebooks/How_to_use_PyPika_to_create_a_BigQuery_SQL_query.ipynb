{
  "nbformat": 4,
  "nbformat_minor": 0,
  "metadata": {
    "colab": {
      "name": "How to use PyPika_to_create_a_BigQuery_SQL_query.ipynb",
      "provenance": [],
      "authorship_tag": "ABX9TyMWalUgBuKVyDhcpwSFF79G",
      "include_colab_link": true
    },
    "kernelspec": {
      "name": "python3",
      "display_name": "Python 3"
    }
  },
  "cells": [
    {
      "cell_type": "markdown",
      "metadata": {
        "id": "view-in-github",
        "colab_type": "text"
      },
      "source": [
        "<a href=\"https://colab.research.google.com/github/lhagen-isb/Community-Notebooks/blob/master/Notebooks/How_to_use_PyPika_to_create_a_BigQuery_SQL_query.ipynb\" target=\"_parent\"><img src=\"https://colab.research.google.com/assets/colab-badge.svg\" alt=\"Open In Colab\"/></a>"
      ]
    },
    {
      "cell_type": "markdown",
      "metadata": {
        "id": "c_WwxKQHlY5u",
        "colab_type": "text"
      },
      "source": [
        "# ISB-CGC Community Notebooks\n",
        "\n",
        "Check out more notebooks at our [Community Notebooks Repository](https://github.com/isb-cgc/Community-Notebooks)!\n",
        "\n",
        "```\n",
        "Title:   How to use PyPika to build a query\n",
        "Author:  Lauren Hagen\n",
        "Created: 2020-02-13\n",
        "URL:     https://github.com/isb-cgc/Community-Notebooks/blob/master/Notebooks/How to use PyPika_to_create_a_BigQuery_SQL_query.ipynb\n",
        "Purpose: Demonnstrate query creation using PyPika and use query with BigQuery\n",
        "Notes: \n",
        "```\n",
        "***"
      ]
    },
    {
      "cell_type": "markdown",
      "metadata": {
        "id": "Z3O_ygSonqTf",
        "colab_type": "text"
      },
      "source": [
        "# Introduction\n",
        "\n",
        "## Overview\n",
        "In this notebook, we are going to use PyPika package to build a query and then use that query with BigQuery. We are going to create a cohort by selecting clinical signs and then use the cohort to filter the RNA and miRNA gene expression tables from the TARGET data set.\n",
        "\n",
        "## What is PyPika?\n",
        "\n",
        "[PyPika](https://pypika.readthedocs.io/en/latest/index.html) is a Python API for building SQL queries. This package is nice because it allows for queries to be written more like python than SQL. The SQL queries it creates then can be used in BigQuery."
      ]
    },
    {
      "cell_type": "markdown",
      "metadata": {
        "id": "_gP8n99Cs-lB",
        "colab_type": "text"
      },
      "source": [
        "Before we get started, we will need to load the BigQuery module, authenticate ourselves, create a client variable, and load necessary libraries."
      ]
    },
    {
      "cell_type": "code",
      "metadata": {
        "id": "ETmm5nIT0PLw",
        "colab_type": "code",
        "colab": {}
      },
      "source": [
        "# Load the BigQuery Module\n",
        "from google.cloud import bigquery"
      ],
      "execution_count": 0,
      "outputs": []
    },
    {
      "cell_type": "code",
      "metadata": {
        "id": "OFD7t1Ii0WR4",
        "colab_type": "code",
        "colab": {}
      },
      "source": [
        "# Authenticate ourselves\n",
        "!gcloud auth application-default login"
      ],
      "execution_count": 0,
      "outputs": []
    },
    {
      "cell_type": "code",
      "metadata": {
        "id": "OdRUnslx0W1Q",
        "colab_type": "code",
        "colab": {}
      },
      "source": [
        "# Create a variable for which client to use with BigQuery\n",
        "project_num = 'your_project_number' # Replace with your project ID\n",
        "if project_num == 'your_project_number':\n",
        "    print('Please update the project number with your Google Cloud Project')\n",
        "else:\n",
        "    client = bigquery.Client(project_num)"
      ],
      "execution_count": 0,
      "outputs": []
    },
    {
      "cell_type": "code",
      "metadata": {
        "id": "otwoIztiz8kN",
        "colab_type": "code",
        "colab": {}
      },
      "source": [
        "# If needed, install PyPika\n",
        "!pip install pypika"
      ],
      "execution_count": 0,
      "outputs": []
    },
    {
      "cell_type": "code",
      "metadata": {
        "id": "OkpvhZe40R1o",
        "colab_type": "code",
        "colab": {}
      },
      "source": [
        "# Import from PyPika\n",
        "from pypika import Query, Table, Field, Order"
      ],
      "execution_count": 0,
      "outputs": []
    },
    {
      "cell_type": "markdown",
      "metadata": {
        "id": "je16_yBCtX9R",
        "colab_type": "text"
      },
      "source": [
        "# Query Building\n",
        "\n",
        "In this notebook, we will build the final join query by each table first and then combine them for a final query. This query will combine a selection of clinical data with molecular data from the TARGET data set.\n",
        "\n",
        "## Patient Clinical Data Query\n",
        "\n",
        "We want to have a query that filters the TARGET data set for AML with only columns for the case barcode and the remission status of the patient for our cohort. "
      ]
    },
    {
      "cell_type": "code",
      "metadata": {
        "id": "DgUUORtA0hCa",
        "colab_type": "code",
        "colab": {}
      },
      "source": [
        "# Pass the Clincal data table name to the Table class to create a variable\n",
        "clin_table = Table('`isb-cgc.TARGET_bioclin_v0.Clinical`')\n",
        "\n",
        "# Create query with PyPika\n",
        "clin_query = Query.from_(clin_table) \\\n",
        "                  .select('case_barcode, CR_status_at_end_of_course_1, CR_status_at_end_of_course_2') \\\n",
        "                  .where(clin_table.disease_code=='AML')"
      ],
      "execution_count": 0,
      "outputs": []
    },
    {
      "cell_type": "code",
      "metadata": {
        "id": "be_0nDxO-F4z",
        "colab_type": "code",
        "colab": {
          "base_uri": "https://localhost:8080/",
          "height": 55
        },
        "outputId": "3a1d9183-627a-4fdb-c662-ba160889aa38"
      },
      "source": [
        "# Print returned query\n",
        "print(clin_query)"
      ],
      "execution_count": 9,
      "outputs": [
        {
          "output_type": "stream",
          "text": [
            "SELECT \"case_barcode, CR_status_at_end_of_course_1, CR_status_at_end_of_course_2\" FROM \"`isb-cgc.TARGET_bioclin_v0.Clinical`\" WHERE \"disease_code\"='AML'\n"
          ],
          "name": "stdout"
        }
      ]
    },
    {
      "cell_type": "markdown",
      "metadata": {
        "id": "AO9gxoHT-BWx",
        "colab_type": "text"
      },
      "source": [
        "PyPika returns the query with quotation marks around some of the inputs. These need to be removed before the querying BigQuery."
      ]
    },
    {
      "cell_type": "code",
      "metadata": {
        "id": "YXC_CRyA0uR6",
        "colab_type": "code",
        "colab": {}
      },
      "source": [
        "# Remove \" from the string\n",
        "clin_query_clean = str(clin_query).replace('\"', \"\")"
      ],
      "execution_count": 0,
      "outputs": []
    },
    {
      "cell_type": "code",
      "metadata": {
        "id": "56JGPj8f1k_w",
        "colab_type": "code",
        "outputId": "4009e605-52ce-4d85-89e9-6854c014d268",
        "colab": {
          "base_uri": "https://localhost:8080/",
          "height": 35
        }
      },
      "source": [
        "# Print the query that PyPika created to check that it looks good.\n",
        "# We can also cpy the query into the BigQuery UI to check for errors\n",
        "print(clin_query_clean)"
      ],
      "execution_count": 11,
      "outputs": [
        {
          "output_type": "stream",
          "text": [
            "SELECT case_barcode, CR_status_at_end_of_course_1, CR_status_at_end_of_course_2 FROM `isb-cgc.TARGET_bioclin_v0.Clinical` WHERE disease_code='AML'\n"
          ],
          "name": "stdout"
        }
      ]
    },
    {
      "cell_type": "markdown",
      "metadata": {
        "id": "36mFrlOA_KR-",
        "colab_type": "text"
      },
      "source": [
        "We can query BigQuery, then create a data frame with the results though this isn't necessary for creating the final query."
      ]
    },
    {
      "cell_type": "code",
      "metadata": {
        "id": "06aQH3mU00Ya",
        "colab_type": "code",
        "colab": {}
      },
      "source": [
        "# Query BigQuery and create a data frame with the results\n",
        "clin = client.query(clin_query_clean).to_dataframe()"
      ],
      "execution_count": 0,
      "outputs": []
    },
    {
      "cell_type": "code",
      "metadata": {
        "id": "4vExUiCO2YE8",
        "colab_type": "code",
        "outputId": "350b90aa-75c3-44cd-a018-3b32f6801738",
        "colab": {
          "base_uri": "https://localhost:8080/",
          "height": 202
        }
      },
      "source": [
        "# View the first several lines of the returned table\n",
        "clin.head()"
      ],
      "execution_count": 13,
      "outputs": [
        {
          "output_type": "execute_result",
          "data": {
            "text/html": [
              "<div>\n",
              "<style scoped>\n",
              "    .dataframe tbody tr th:only-of-type {\n",
              "        vertical-align: middle;\n",
              "    }\n",
              "\n",
              "    .dataframe tbody tr th {\n",
              "        vertical-align: top;\n",
              "    }\n",
              "\n",
              "    .dataframe thead th {\n",
              "        text-align: right;\n",
              "    }\n",
              "</style>\n",
              "<table border=\"1\" class=\"dataframe\">\n",
              "  <thead>\n",
              "    <tr style=\"text-align: right;\">\n",
              "      <th></th>\n",
              "      <th>case_barcode</th>\n",
              "      <th>CR_status_at_end_of_course_1</th>\n",
              "      <th>CR_status_at_end_of_course_2</th>\n",
              "    </tr>\n",
              "  </thead>\n",
              "  <tbody>\n",
              "    <tr>\n",
              "      <th>0</th>\n",
              "      <td>TARGET-20-PATDMY</td>\n",
              "      <td>CR</td>\n",
              "      <td>CR</td>\n",
              "    </tr>\n",
              "    <tr>\n",
              "      <th>1</th>\n",
              "      <td>TARGET-20-PARHSA</td>\n",
              "      <td>CR</td>\n",
              "      <td>CR</td>\n",
              "    </tr>\n",
              "    <tr>\n",
              "      <th>2</th>\n",
              "      <td>TARGET-20-PARLSW</td>\n",
              "      <td>CR</td>\n",
              "      <td>CR</td>\n",
              "    </tr>\n",
              "    <tr>\n",
              "      <th>3</th>\n",
              "      <td>TARGET-20-PASLHH</td>\n",
              "      <td>CR</td>\n",
              "      <td>CR</td>\n",
              "    </tr>\n",
              "    <tr>\n",
              "      <th>4</th>\n",
              "      <td>TARGET-20-PATKUG</td>\n",
              "      <td>CR</td>\n",
              "      <td>CR</td>\n",
              "    </tr>\n",
              "  </tbody>\n",
              "</table>\n",
              "</div>"
            ],
            "text/plain": [
              "       case_barcode CR_status_at_end_of_course_1 CR_status_at_end_of_course_2\n",
              "0  TARGET-20-PATDMY                           CR                           CR\n",
              "1  TARGET-20-PARHSA                           CR                           CR\n",
              "2  TARGET-20-PARLSW                           CR                           CR\n",
              "3  TARGET-20-PASLHH                           CR                           CR\n",
              "4  TARGET-20-PATKUG                           CR                           CR"
            ]
          },
          "metadata": {
            "tags": []
          },
          "execution_count": 13
        }
      ]
    },
    {
      "cell_type": "markdown",
      "metadata": {
        "id": "NeyqY0hbjFEV",
        "colab_type": "text"
      },
      "source": [
        "## Molecular Data Query\n",
        "\n",
        "Now that we have a list of cases with some clinical information, we can join that table to one of the molecular data sets, such as the TARGET gene expression data."
      ]
    },
    {
      "cell_type": "markdown",
      "metadata": {
        "id": "ZkJTgyGBcMo0",
        "colab_type": "text"
      },
      "source": [
        "We will now build the query for the molecular data set. We are not going to query BigQuery with this query, but it is good to make sure the query looks correct before joining it with another table.\n"
      ]
    },
    {
      "cell_type": "code",
      "metadata": {
        "id": "1OhOJtqwf7H1",
        "colab_type": "code",
        "colab": {}
      },
      "source": [
        "# Pass the Clincal data table name to the Table class to create a variable\n",
        "expr_table = Table('`isb-cgc.TARGET_hg38_data_v0.RNAseq_Gene_Expression`')\n",
        "\n",
        "# Create a query with PyPika\n",
        "expr_query = Query.from_(expr_table) \\\n",
        "                  .select('case_barcode, HTSeq__FPKM_UQ, Ensembl_gene_id, gene_name') \\\n",
        "                  .orderby('HTSeq__FPKM_UQ')"
      ],
      "execution_count": 0,
      "outputs": []
    },
    {
      "cell_type": "code",
      "metadata": {
        "id": "EkvIotGMgn3x",
        "colab_type": "code",
        "colab": {}
      },
      "source": [
        "# Remove \" from the string\n",
        "expr_query_clean = str(expr_query).replace('\"', \"\")"
      ],
      "execution_count": 0,
      "outputs": []
    },
    {
      "cell_type": "code",
      "metadata": {
        "id": "eVcp0gFXgs_h",
        "colab_type": "code",
        "outputId": "f3e93587-f91e-45ee-e114-cbb63d974d14",
        "colab": {
          "base_uri": "https://localhost:8080/",
          "height": 34
        }
      },
      "source": [
        "# View the created query\n",
        "print(expr_query_clean)"
      ],
      "execution_count": 0,
      "outputs": [
        {
          "output_type": "stream",
          "text": [
            "SELECT case_barcode, HTSeq__FPKM_UQ, Ensembl_gene_id, gene_name FROM `isb-cgc.TARGET_hg38_data_v0.RNAseq_Gene_Expression` ORDER BY HTSeq__FPKM_UQ\n"
          ],
          "name": "stdout"
        }
      ]
    },
    {
      "cell_type": "markdown",
      "metadata": {
        "id": "lpztZOEziHH_",
        "colab_type": "text"
      },
      "source": [
        "# Create the Final Query\n",
        "\n",
        "Finally, we will create a query to join the two tables. BigQuery and PyPika support all join types, though, for this query, we are using the standard inner join. This query returns a large number of lines and can be slow to bring into Collaboratory, so we will limit the number of lines returned to 100."
      ]
    },
    {
      "cell_type": "code",
      "metadata": {
        "id": "JDo0XlKYjEE4",
        "colab_type": "code",
        "colab": {}
      },
      "source": [
        "# Create a query with PyPika\n",
        "join_query = Query.from_(expr_table) \\\n",
        "  .join(clin_table).on(expr_table.case_barcode == clin_table.case_barcode) \\\n",
        "  .select('case_barcode', 'HTSeq__FPKM_UQ', 'Ensembl_gene_id', 'gene_name') \\\n",
        "  .select(clin_table.CR_status_at_end_of_course_1, clin_table.CR_status_at_end_of_course_2) \\\n",
        "  .where(clin_table.disease_code=='AML') \\\n",
        "  .limit(100)"
      ],
      "execution_count": 0,
      "outputs": []
    },
    {
      "cell_type": "code",
      "metadata": {
        "id": "LBUB5EmMkLJl",
        "colab_type": "code",
        "colab": {}
      },
      "source": [
        "# Replace the \" in the query\n",
        "join_query_clean = str(join_query).replace('\"', \"\")"
      ],
      "execution_count": 0,
      "outputs": []
    },
    {
      "cell_type": "code",
      "metadata": {
        "id": "q3e8414pkQEU",
        "colab_type": "code",
        "outputId": "5b9f0e0d-101a-4221-8b0d-cfbac05334bd",
        "colab": {
          "base_uri": "https://localhost:8080/",
          "height": 54
        }
      },
      "source": [
        "# View the created query\n",
        "print(join_query_clean)"
      ],
      "execution_count": 0,
      "outputs": [
        {
          "output_type": "stream",
          "text": [
            "SELECT `isb-cgc.TARGET_hg38_data_v0.RNAseq_Gene_Expression`.case_barcode,`isb-cgc.TARGET_hg38_data_v0.RNAseq_Gene_Expression`.HTSeq__FPKM_UQ,`isb-cgc.TARGET_hg38_data_v0.RNAseq_Gene_Expression`.Ensembl_gene_id,`isb-cgc.TARGET_hg38_data_v0.RNAseq_Gene_Expression`.gene_name,`isb-cgc.TARGET_bioclin_v0.Clinical`.CR_status_at_end_of_course_1,`isb-cgc.TARGET_bioclin_v0.Clinical`.CR_status_at_end_of_course_2 FROM `isb-cgc.TARGET_hg38_data_v0.RNAseq_Gene_Expression` JOIN `isb-cgc.TARGET_bioclin_v0.Clinical` ON `isb-cgc.TARGET_hg38_data_v0.RNAseq_Gene_Expression`.case_barcode=`isb-cgc.TARGET_bioclin_v0.Clinical`.case_barcode WHERE `isb-cgc.TARGET_bioclin_v0.Clinical`.disease_code='AML' LIMIT 100\n"
          ],
          "name": "stdout"
        }
      ]
    },
    {
      "cell_type": "markdown",
      "metadata": {
        "id": "CX6Kh5pK2r0L",
        "colab_type": "text"
      },
      "source": [
        "There! We now have a query that joins the two tables. We can now query BigQuery and view the results."
      ]
    },
    {
      "cell_type": "code",
      "metadata": {
        "id": "6y6KUk-t3O7D",
        "colab_type": "code",
        "colab": {}
      },
      "source": [
        "# Query BigQuery and create a data frame\n",
        "final = client.query(join_query_clean).to_dataframe()"
      ],
      "execution_count": 0,
      "outputs": []
    },
    {
      "cell_type": "code",
      "metadata": {
        "id": "Noo9eRhe3WvF",
        "colab_type": "code",
        "outputId": "8fbcb238-890b-4769-fdf9-0cc001c0573d",
        "colab": {
          "base_uri": "https://localhost:8080/",
          "height": 204
        }
      },
      "source": [
        "# View the first several lines of the data frame\n",
        "final.head()"
      ],
      "execution_count": 0,
      "outputs": [
        {
          "output_type": "execute_result",
          "data": {
            "text/html": [
              "<div>\n",
              "<style scoped>\n",
              "    .dataframe tbody tr th:only-of-type {\n",
              "        vertical-align: middle;\n",
              "    }\n",
              "\n",
              "    .dataframe tbody tr th {\n",
              "        vertical-align: top;\n",
              "    }\n",
              "\n",
              "    .dataframe thead th {\n",
              "        text-align: right;\n",
              "    }\n",
              "</style>\n",
              "<table border=\"1\" class=\"dataframe\">\n",
              "  <thead>\n",
              "    <tr style=\"text-align: right;\">\n",
              "      <th></th>\n",
              "      <th>case_barcode</th>\n",
              "      <th>HTSeq__FPKM_UQ</th>\n",
              "      <th>Ensembl_gene_id</th>\n",
              "      <th>gene_name</th>\n",
              "      <th>CR_status_at_end_of_course_1</th>\n",
              "      <th>CR_status_at_end_of_course_2</th>\n",
              "    </tr>\n",
              "  </thead>\n",
              "  <tbody>\n",
              "    <tr>\n",
              "      <th>0</th>\n",
              "      <td>TARGET-20-PAPWHS</td>\n",
              "      <td>392731.987867</td>\n",
              "      <td>ENSG00000173598</td>\n",
              "      <td>NUDT4</td>\n",
              "      <td>CR</td>\n",
              "      <td>CR</td>\n",
              "    </tr>\n",
              "    <tr>\n",
              "      <th>1</th>\n",
              "      <td>TARGET-20-PAPWHS</td>\n",
              "      <td>13617.578556</td>\n",
              "      <td>ENSG00000204745</td>\n",
              "      <td>AC083899.3</td>\n",
              "      <td>CR</td>\n",
              "      <td>CR</td>\n",
              "    </tr>\n",
              "    <tr>\n",
              "      <th>2</th>\n",
              "      <td>TARGET-20-PAPWHS</td>\n",
              "      <td>87978.648259</td>\n",
              "      <td>ENSG00000235183</td>\n",
              "      <td>RP11-613C6.4</td>\n",
              "      <td>CR</td>\n",
              "      <td>CR</td>\n",
              "    </tr>\n",
              "    <tr>\n",
              "      <th>3</th>\n",
              "      <td>TARGET-20-PAPWHS</td>\n",
              "      <td>258701.117197</td>\n",
              "      <td>ENSG00000177917</td>\n",
              "      <td>ARL6IP6</td>\n",
              "      <td>CR</td>\n",
              "      <td>CR</td>\n",
              "    </tr>\n",
              "    <tr>\n",
              "      <th>4</th>\n",
              "      <td>TARGET-20-PAPWHS</td>\n",
              "      <td>8689.796007</td>\n",
              "      <td>ENSG00000181085</td>\n",
              "      <td>MAPK15</td>\n",
              "      <td>CR</td>\n",
              "      <td>CR</td>\n",
              "    </tr>\n",
              "  </tbody>\n",
              "</table>\n",
              "</div>"
            ],
            "text/plain": [
              "       case_barcode  ...  CR_status_at_end_of_course_2\n",
              "0  TARGET-20-PAPWHS  ...                            CR\n",
              "1  TARGET-20-PAPWHS  ...                            CR\n",
              "2  TARGET-20-PAPWHS  ...                            CR\n",
              "3  TARGET-20-PAPWHS  ...                            CR\n",
              "4  TARGET-20-PAPWHS  ...                            CR\n",
              "\n",
              "[5 rows x 6 columns]"
            ]
          },
          "metadata": {
            "tags": []
          },
          "execution_count": 139
        }
      ]
    },
    {
      "cell_type": "markdown",
      "metadata": {
        "id": "UdODK5dqPwHT",
        "colab_type": "text"
      },
      "source": [
        "It's that simple! Please let us know if you have any questions at feedback@isb-cgc.org."
      ]
    }
  ]
}