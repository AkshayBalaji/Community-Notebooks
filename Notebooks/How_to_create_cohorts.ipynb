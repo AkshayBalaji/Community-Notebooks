{
  "nbformat": 4,
  "nbformat_minor": 0,
  "metadata": {
    "colab": {
      "name": "Exploring TCGA Clinical Data and Creating Cohorts.ipynb",
      "version": "0.3.2",
      "provenance": [],
      "collapsed_sections": [],
      "toc_visible": true,
      "include_colab_link": true
    },
    "language_info": {
      "codemirror_mode": {
        "name": "ipython",
        "version": 2
      },
      "file_extension": ".py",
      "mimetype": "text/x-python",
      "name": "python",
      "nbconvert_exporter": "python",
      "pygments_lexer": "ipython2",
      "version": "2.7.9"
    },
    "kernelspec": {
      "display_name": "Python 2",
      "language": "python",
      "name": "python2"
    }
  },
  "cells": [
    {
      "cell_type": "markdown",
      "metadata": {
        "id": "view-in-github",
        "colab_type": "text"
      },
      "source": [
        "<a href=\"https://colab.research.google.com/github/lhagen-isb/Community-Notebooks/blob/master/Beta/Exploring_TCGA_Clinical_Data_and_Creating_Cohorts.ipynb\" target=\"_parent\"><img src=\"https://colab.research.google.com/assets/colab-badge.svg\" alt=\"Open In Colab\"/></a>"
      ]
    },
    {
      "cell_type": "markdown",
      "metadata": {
        "id": "Ona5p1IgVCrb",
        "colab_type": "text"
      },
      "source": [
        "# Creating TCGA cohorts\n",
        "\n",
        "This notebook will show you how to create a TCGA cohort using the publicly available TCGA BigQuery tables that the [ISB-CGC](http://isb-cgc.org) project has produced based on the open-access [TCGA](http://cancergenome.nih.gov/) data available at the [Data Portal](https://tcga-data.nci.nih.gov/tcga/).  You will need to have access to a Google Cloud Platform (GCP) project in order to use BigQuery.  If you don't already have one, you can sign up for a [free-trial](https://cloud.google.com/free-trial/).\n",
        "\n",
        "We are not attempting to provide a thorough BigQuery or IPython tutorial here, as a wealth of such information already exists.  Here are some links to some resources that you might find useful: \n",
        "* [BigQuery](https://cloud.google.com/bigquery/what-is-bigquery)\n",
        "* the BigQuery [web UI](https://console.cloud.google.com/bigquery) \n",
        "    * where you can run queries interactively\n",
        "* [Jupyter Notebooks](http://jupyter.org/)\n",
        "* [Google Cloud Datalab](https://cloud.google.com/datalab/) \n",
        "    * interactive cloud-based platform for analyzing data built on the Jupyter Notebooks\n",
        "* [Google Colaboratory](https://colab.research.google.com/)\n",
        "    * Free Jupyter Notebook environment that runs in your browser\n",
        "\n",
        "There are also many tutorials and samples available on github (see, in particular, the [datalab](https://github.com/GoogleCloudPlatform/datalab) repo, the [Google Genomics](  https://github.com/googlegenomics) project), and our own [Community Notebooks](https://github.com/isb-cgc/Community-Notebooks).\n",
        "\n",
        "OK then, let's get started!  In order to work with BigQuery, the first thing you need to do is import the bigquery module:"
      ]
    },
    {
      "cell_type": "code",
      "metadata": {
        "id": "MFLeeww_VCrh",
        "colab_type": "code",
        "colab": {}
      },
      "source": [
        "from google.cloud import bigquery"
      ],
      "execution_count": 0,
      "outputs": []
    },
    {
      "cell_type": "markdown",
      "metadata": {
        "id": "64nmsYB1VMta",
        "colab_type": "text"
      },
      "source": [
        "Next we will need to Authorize our access to BigQuery and the Google Cloud. For more information see ['Quick Start Guide to ISB-CGC'](INSERT LINK) and alternative authentication methods can be found [here](https://googleapis.github.io/google-cloud-python/latest/core/auth.html)."
      ]
    },
    {
      "cell_type": "code",
      "metadata": {
        "id": "QgN9GwOZ2ttz",
        "colab_type": "code",
        "outputId": "8f5771ce-c93e-4893-b2bd-927c4540f544",
        "colab": {
          "base_uri": "https://localhost:8080/",
          "height": 360
        },
        "cellView": "code"
      },
      "source": [
        "#@title Default title text\n",
        "!gcloud auth application-default login"
      ],
      "execution_count": 0,
      "outputs": [
        {
          "output_type": "stream",
          "text": [
            "Go to the following link in your browser:\n",
            "\n",
            "    https://accounts.google.com/o/oauth2/auth?redirect_uri=urn%3Aietf%3Awg%3Aoauth%3A2.0%3Aoob&prompt=select_account&response_type=code&client_id=764086051850-6qr4p6gpi6hn506pt8ejuq83di341hur.apps.googleusercontent.com&scope=https%3A%2F%2Fwww.googleapis.com%2Fauth%2Fuserinfo.email+https%3A%2F%2Fwww.googleapis.com%2Fauth%2Fcloud-platform&access_type=offline\n",
            "\n",
            "\n",
            "Enter verification code: 4/ZwE1UWpR6CYqyXz4JZWW9oGQ3nV2_wehPckfS_YA7vzCERAyp9Z9gW4\n",
            "\n",
            "Credentials saved to file: [/content/.config/application_default_credentials.json]\n",
            "\n",
            "These credentials will be used by any library that requests\n",
            "Application Default Credentials.\n",
            "\n",
            "To generate an access token for other uses, run:\n",
            "  gcloud auth application-default print-access-token\n",
            "\n",
            "\n",
            "To take a quick anonymous survey, run:\n",
            "  $ gcloud alpha survey\n",
            "\n"
          ],
          "name": "stdout"
        }
      ]
    },
    {
      "cell_type": "code",
      "metadata": {
        "colab_type": "code",
        "id": "DNqD9CkHb34J",
        "colab": {}
      },
      "source": [
        "# Create a variable for which client to use with BigQuery\n",
        "client = bigquery.Client('PROJECT ID') # Replace PROJECT ID with your project ID\n",
        "# Create a reference for the data set you are going to be using\n",
        "dataset_ref = client.dataset('TCGA_bioclin_v0', project='PROJECT ID') #replace PROJECT ID with your project ID"
      ],
      "execution_count": 0,
      "outputs": []
    },
    {
      "cell_type": "markdown",
      "metadata": {
        "id": "I4qZY5-6VCrl",
        "colab_type": "text"
      },
      "source": [
        "The next thing you need to know is how to access the specific tables you are interested in.  BigQuery tables are organized into datasets, and datasets are owned by a specific GCP project.  The tables we will be working with in this notebook are in a dataset called **`TCGA_bioclin_v0`**, owned by the **`isb-cgc`** project.  A full table identifier is of the form `<project_id>.<dataset_id>.<table_id>`.  Let's start by getting some basic information about the tables in this dataset:"
      ]
    },
    {
      "cell_type": "code",
      "metadata": {
        "id": "oziRRi6HVCrl",
        "colab_type": "code",
        "outputId": "a3a6d7e1-3278-4fa7-b632-90af795e4bb2",
        "colab": {
          "base_uri": "https://localhost:8080/",
          "height": 68
        }
      },
      "source": [
        "# For each table in the dataset print the number of rows,\n",
        "# number of bytes and the name of the table\n",
        "for t in client.list_tables(dataset_ref):\n",
        "  table_ref = dataset_ref.table(t.table_id)\n",
        "  table = client.get_table(table_ref)\n",
        "  print '%10d rows  %12d bytes   %s' \\\n",
        "      % (table.num_rows, table.num_bytes, t.table_id)"
      ],
      "execution_count": 0,
      "outputs": [
        {
          "output_type": "stream",
          "text": [
            "      6322 rows       1725830 bytes   Annotations\n",
            "     23797 rows       7308232 bytes   Biospecimen\n",
            "     11315 rows       4801321 bytes   Clinical\n"
          ],
          "name": "stdout"
        }
      ]
    },
    {
      "cell_type": "markdown",
      "metadata": {
        "id": "HWeQAgBhVCrq",
        "colab_type": "text"
      },
      "source": [
        "In this tutorial, we are going to look at a few different ways that we can use the information in these tables to create cohorts.  Now, you maybe asking what we mean by \"cohort\" and why you might be interested in *creating* one, or maybe what it even means to \"create\" a cohort.  The TCGA dataset includes clinical, biospecimen, and molecular data from over 10,000 cancer patients who agreed to be a part of this landmark research project to build [The Cancer Genome Atlas](http://cancergenome.nih.gov/).  This large dataset was originally organized and studied according to [cancer type](http://cancergenome.nih.gov/cancersselected) but now that this multi-year project is nearing completion, with over 30 types of cancer and over 10,000 tumors analyzed, **you** have the opportunity to look at this dataset from whichever angle most interests you.  Maybe you are particularly interested in early-onset cancers, or gastro-intestinal cancers, or a specific type of genetic mutation.  This is where the idea of a \"cohort\" comes in.  The original TCGA \"cohorts\" were based on cancer type (aka \"study\"), but now you can define a cohort based on virtually any clinical or molecular feature by querying these BigQuery tables.  A cohort is simply a list of samples, using the [TCGA barcode](https://docs.gdc.cancer.gov/Encyclopedia/pages/TCGA_Barcode/) system.  Once you have created a cohort you can use it in any number of ways: you could further explore the data available for one cohort, or compare one cohort to another, for example.\n",
        "\n",
        "In the rest of this tutorial, we will create several different cohorts based on different motivating research questions.  We hope that these examples will provide you with a starting point from which you can build, to answer your own research questions."
      ]
    },
    {
      "cell_type": "markdown",
      "metadata": {
        "id": "MzG3wtPPVCrq",
        "colab_type": "text"
      },
      "source": [
        "## Exploring the Clinical data table\n",
        "Let's start by looking at the clinical data table.  The TCGA dataset contains a few very basic clinical data elements for almost all patients, and contains additional information for some tumor types only.  For example smoking history information is generally available only for lung cancer patients, and BMI (body mass index) is only available for tumor types where that is a known significant risk factor.  Let's take a look at the clinical data table and see how many different pieces of information are available to us:"
      ]
    },
    {
      "cell_type": "markdown",
      "metadata": {
        "id": "ORGzgvAp43DQ",
        "colab_type": "text"
      },
      "source": [
        "#### Get Table Schema"
      ]
    },
    {
      "cell_type": "code",
      "metadata": {
        "id": "S9xWqzdDVCrr",
        "colab_type": "code",
        "outputId": "7340023f-90b3-4ae4-fc40-a4f2952d9bb1",
        "colab": {
          "base_uri": "https://localhost:8080/",
          "height": 204
        },
        "cellView": "code"
      },
      "source": [
        "# Magic command of bigquery with the project id as PROJECT_ID and create a Pandas Dataframe\n",
        "%%bigquery --project PROJECT ID\n",
        "# Then query the table for the column names\n",
        "SELECT column_name\n",
        "FROM `isb-cgc`.TCGA_bioclin_v0.INFORMATION_SCHEMA.COLUMNS\n",
        "WHERE table_name = 'Clinical'\n",
        "\n",
        "# Syntax of the above query\n",
        "# SELECT * \n",
        "# FROM `project_name.dataset_name.INFORMATION_SCHEMA.COLUMNS`\n",
        "# WHERE table_catalog=project_name and table_schema=dataset_name and table_name=table_name"
      ],
      "execution_count": 0,
      "outputs": [
        {
          "output_type": "execute_result",
          "data": {
            "text/html": [
              "<div>\n",
              "<style scoped>\n",
              "    .dataframe tbody tr th:only-of-type {\n",
              "        vertical-align: middle;\n",
              "    }\n",
              "\n",
              "    .dataframe tbody tr th {\n",
              "        vertical-align: top;\n",
              "    }\n",
              "\n",
              "    .dataframe thead th {\n",
              "        text-align: right;\n",
              "    }\n",
              "</style>\n",
              "<table border=\"1\" class=\"dataframe\">\n",
              "  <thead>\n",
              "    <tr style=\"text-align: right;\">\n",
              "      <th></th>\n",
              "      <th>column_name</th>\n",
              "    </tr>\n",
              "  </thead>\n",
              "  <tbody>\n",
              "    <tr>\n",
              "      <th>0</th>\n",
              "      <td>program_name</td>\n",
              "    </tr>\n",
              "    <tr>\n",
              "      <th>1</th>\n",
              "      <td>case_barcode</td>\n",
              "    </tr>\n",
              "    <tr>\n",
              "      <th>2</th>\n",
              "      <td>case_gdc_id</td>\n",
              "    </tr>\n",
              "    <tr>\n",
              "      <th>3</th>\n",
              "      <td>program_dbgap_accession_number</td>\n",
              "    </tr>\n",
              "    <tr>\n",
              "      <th>4</th>\n",
              "      <td>project_short_name</td>\n",
              "    </tr>\n",
              "  </tbody>\n",
              "</table>\n",
              "</div>"
            ],
            "text/plain": [
              "                      column_name\n",
              "0                    program_name\n",
              "1                    case_barcode\n",
              "2                     case_gdc_id\n",
              "3  program_dbgap_accession_number\n",
              "4              project_short_name"
            ]
          },
          "metadata": {
            "tags": []
          },
          "execution_count": 7
        }
      ]
    },
    {
      "cell_type": "markdown",
      "metadata": {
        "id": "i_5Put7BVCru",
        "colab_type": "text"
      },
      "source": [
        "That's a lot of fields!  We can also get at the schema programmatically:"
      ]
    },
    {
      "cell_type": "markdown",
      "metadata": {
        "id": "UrwKZynh4-Ul",
        "colab_type": "text"
      },
      "source": [
        "#### Programmatically Get Schema"
      ]
    },
    {
      "cell_type": "code",
      "metadata": {
        "id": "9u6WH10zVCru",
        "colab_type": "code",
        "outputId": "4b7d308e-b717-4bb2-c69b-71207ae5ff9b",
        "colab": {
          "base_uri": "https://localhost:8080/",
          "height": 136
        },
        "cellView": "code"
      },
      "source": [
        "# Create a reference for the table\n",
        "table_ref = dataset_ref.table('Clinical')\n",
        "\n",
        "# Get the table\n",
        "table = client.get_table(table_ref)\n",
        "# Create a list of the field names\n",
        "fieldNames = list(map(lambda tsf: tsf.name, table.schema))\n",
        "#Create a list of the field types\n",
        "fieldTypes = list(map(lambda tsf: tsf.field_type, table.schema))\n",
        "# Print the number of fields and the first 5 fields\n",
        "print \" This table has %d fields. \" % ( len(fieldNames) )\n",
        "print \" The first few field names and types are: \"\n",
        "for i in range(5):\n",
        "  print fieldNames[i], fieldTypes[i]"
      ],
      "execution_count": 0,
      "outputs": [
        {
          "output_type": "stream",
          "text": [
            " This table has 73 fields. \n",
            " The first few field names and types are: \n",
            "program_name STRING\n",
            "case_barcode STRING\n",
            "case_gdc_id STRING\n",
            "program_dbgap_accession_number STRING\n",
            "project_short_name STRING\n"
          ],
          "name": "stdout"
        }
      ]
    },
    {
      "cell_type": "markdown",
      "metadata": {
        "id": "Q9yuPEMnVCrx",
        "colab_type": "text"
      },
      "source": [
        "Let's look at these fields and see which ones might be the most \"interesting\", by looking at how many times they are filled-in (not NULL), or how much variation exists in the values.  If we wanted to look at just a single field, \"tobacco_smoking_history\" for example, we could use a very simple query to get a basic summary:"
      ]
    },
    {
      "cell_type": "code",
      "metadata": {
        "id": "Gvfk6WN2VCrx",
        "colab_type": "code",
        "outputId": "1e32d47f-d67b-41b0-b6cf-83c0dceb55b8",
        "colab": {
          "base_uri": "https://localhost:8080/",
          "height": 235
        }
      },
      "source": [
        "%%bigquery --project PROJECT ID\n",
        "SELECT tobacco_smoking_history,\n",
        "COUNT(*) AS n\n",
        "FROM `isb-cgc.TCGA_bioclin_v0.Clinical`\n",
        "GROUP BY tobacco_smoking_history\n",
        "ORDER BY n DESC"
      ],
      "execution_count": 0,
      "outputs": [
        {
          "output_type": "execute_result",
          "data": {
            "text/html": [
              "<div>\n",
              "<style scoped>\n",
              "    .dataframe tbody tr th:only-of-type {\n",
              "        vertical-align: middle;\n",
              "    }\n",
              "\n",
              "    .dataframe tbody tr th {\n",
              "        vertical-align: top;\n",
              "    }\n",
              "\n",
              "    .dataframe thead th {\n",
              "        text-align: right;\n",
              "    }\n",
              "</style>\n",
              "<table border=\"1\" class=\"dataframe\">\n",
              "  <thead>\n",
              "    <tr style=\"text-align: right;\">\n",
              "      <th></th>\n",
              "      <th>tobacco_smoking_history</th>\n",
              "      <th>n</th>\n",
              "    </tr>\n",
              "  </thead>\n",
              "  <tbody>\n",
              "    <tr>\n",
              "      <th>0</th>\n",
              "      <td>NaN</td>\n",
              "      <td>8316</td>\n",
              "    </tr>\n",
              "    <tr>\n",
              "      <th>1</th>\n",
              "      <td>1.0</td>\n",
              "      <td>865</td>\n",
              "    </tr>\n",
              "    <tr>\n",
              "      <th>2</th>\n",
              "      <td>4.0</td>\n",
              "      <td>799</td>\n",
              "    </tr>\n",
              "    <tr>\n",
              "      <th>3</th>\n",
              "      <td>2.0</td>\n",
              "      <td>710</td>\n",
              "    </tr>\n",
              "    <tr>\n",
              "      <th>4</th>\n",
              "      <td>3.0</td>\n",
              "      <td>568</td>\n",
              "    </tr>\n",
              "    <tr>\n",
              "      <th>5</th>\n",
              "      <td>5.0</td>\n",
              "      <td>57</td>\n",
              "    </tr>\n",
              "  </tbody>\n",
              "</table>\n",
              "</div>"
            ],
            "text/plain": [
              "   tobacco_smoking_history     n\n",
              "0                      NaN  8316\n",
              "1                      1.0   865\n",
              "2                      4.0   799\n",
              "3                      2.0   710\n",
              "4                      3.0   568\n",
              "5                      5.0    57"
            ]
          },
          "metadata": {
            "tags": []
          },
          "execution_count": 71
        }
      ]
    },
    {
      "cell_type": "markdown",
      "metadata": {
        "id": "WW68khu1VCr0",
        "colab_type": "text"
      },
      "source": [
        "But if we want to loop over *all* fields and get a sense of which fields might provide us with useful criteria for specifying a cohort, we'll want to automate that.  We'll put a threshold on the minimum number of patients that we expect information for, and the maximum number of unique values (since fields such as the \"ParticipantBarcode\" will be unique for every patient and, although we will need that field later, it's probably not useful for defining a cohort)."
      ]
    },
    {
      "cell_type": "markdown",
      "metadata": {
        "id": "q4tK5sIO5DZy",
        "colab_type": "text"
      },
      "source": [
        "#### Find Interesting Fields"
      ]
    },
    {
      "cell_type": "code",
      "metadata": {
        "id": "ThNJemi6VCr1",
        "colab_type": "code",
        "outputId": "4e4aeee7-08e1-43cb-f53d-751c78845185",
        "colab": {
          "base_uri": "https://localhost:8080/",
          "height": 309
        },
        "cellView": "code"
      },
      "source": [
        "# Get the number of rows\n",
        "numPatients = table.num_rows\n",
        "# Print the total number of patients\n",
        "print(\" The %s table describes a total of %d patients. \" % ( table.table_id, numPatients ))\n",
        "\n",
        "# let's set a threshold for the minimum number of values that a field should have,\n",
        "# the maximum number of unique values, and either the highest cancer type or\n",
        "# the mean and sigma of the row.\n",
        "minNumPatients = int(numPatients*0.80)\n",
        "maxNumValues = 50\n",
        "\n",
        "# Create a variable to be filled in by the for loop with the number\n",
        "# interesting features\n",
        "numInteresting = 0\n",
        "# Create a list to hold the results from the loop below\n",
        "iList = []\n",
        "\n",
        "# Loop over the fields and find the number of values with the number of unique\n",
        "# values and the \n",
        "for iField in range(len(fieldNames)):\n",
        "  aField = fieldNames[iField]\n",
        "  aType = fieldTypes[iField]\n",
        "  qString = \"SELECT {0} FROM `isb-cgc.TCGA_bioclin_v0.Clinical`\".format(aField)\n",
        "  df = client.query(qString).result().to_dataframe()\n",
        "  summary = df[str(aField)].describe()\n",
        "  if ( aType == \"STRING\" ):\n",
        "    topFrac = float(summary['freq'])/float(summary['count'])\n",
        "    if ( summary['count'] >= minNumPatients ):\n",
        "      if ( summary['unique'] <= maxNumValues and summary['unique'] > 1 ):\n",
        "        if ( topFrac < 0.90 ):\n",
        "          numInteresting += 1\n",
        "          iList += [aField]\n",
        "          print(\"     > %s has %d values with %d unique (%s occurs %d times) \" % (str(aField), summary['count'], summary['unique'], summary['top'], summary['freq']))\n",
        "  else:\n",
        "    if ( summary['count'] >= minNumPatients ):\n",
        "      if ( summary['std'] > 0.1 ):\n",
        "        numInteresting += 1\n",
        "        iList += [aField]\n",
        "        print(\"     > %s has %d values (mean=%.0f, sigma=%.0f) \" % (str(aField), summary['count'], summary['mean'], summary['std']))\n",
        "\n",
        "print(\" \")\n",
        "print(\" Found %d potentially interesting features: \" % numInteresting)\n",
        "print(\"   \", iList)"
      ],
      "execution_count": 0,
      "outputs": [
        {
          "output_type": "stream",
          "text": [
            " The Clinical table describes a total of 11315 patients. \n",
            "     > project_short_name has 11315 values with 33 unique (TCGA-BRCA occurs 1098 times) \n",
            "     > project_name has 11315 values with 33 unique (Breast Invasive Carcinoma occurs 1098 times) \n",
            "     > disease_code has 11315 values with 33 unique (BRCA occurs 1098 times) \n",
            "     > gender has 11160 values with 2 unique (FEMALE occurs 5815 times) \n",
            "     > vital_status has 11156 values with 2 unique (Alive occurs 7534 times) \n",
            "     > race has 9835 values with 5 unique (WHITE occurs 8186 times) \n",
            "     > age_at_diagnosis has 11109 values (mean=59, sigma=14) \n",
            "     > days_to_birth has 11041 values (mean=-21763, sigma=5266) \n",
            "     > days_to_last_known_alive has 11102 values (mean=1037, sigma=1041) \n",
            "     > year_of_initial_pathologic_diagnosis has 11030 values (mean=2008, sigma=4) \n",
            "     > person_neoplasm_cancer_status has 10236 values with 2 unique (TUMOR FREE occurs 6507 times) \n",
            "     > batch_number has 11160 values (mean=203, sigma=135) \n",
            " \n",
            " Found 12 potentially interesting features: \n",
            "('   ', [u'project_short_name', u'project_name', u'disease_code', u'gender', u'vital_status', u'race', u'age_at_diagnosis', u'days_to_birth', u'days_to_last_known_alive', u'year_of_initial_pathologic_diagnosis', u'person_neoplasm_cancer_status', u'batch_number'])\n"
          ],
          "name": "stdout"
        }
      ]
    },
    {
      "cell_type": "markdown",
      "metadata": {
        "id": "vsDPK0wbVCr4",
        "colab_type": "text"
      },
      "source": [
        "The above helps us narrow down on which fields are likely to be the most useful, but if you have a specific interest, for example in menopause or HPV status, you can still look at those in more detail very easily: "
      ]
    },
    {
      "cell_type": "code",
      "metadata": {
        "id": "ZxEuBUA_VCr5",
        "colab_type": "code",
        "outputId": "1f19de8f-441a-48d3-e3ca-c43d4efb47d8",
        "colab": {
          "base_uri": "https://localhost:8080/",
          "height": 173
        }
      },
      "source": [
        "%%bigquery --project PROJECT ID \n",
        "SELECT menopause_status, COUNT(*) AS n\n",
        "FROM `isb-cgc.TCGA_bioclin_v0.Clinical`\n",
        "WHERE menopause_status IS NOT NULL\n",
        "GROUP BY menopause_status\n",
        "ORDER BY n DESC"
      ],
      "execution_count": 0,
      "outputs": [
        {
          "output_type": "execute_result",
          "data": {
            "text/html": [
              "<div>\n",
              "<style scoped>\n",
              "    .dataframe tbody tr th:only-of-type {\n",
              "        vertical-align: middle;\n",
              "    }\n",
              "\n",
              "    .dataframe tbody tr th {\n",
              "        vertical-align: top;\n",
              "    }\n",
              "\n",
              "    .dataframe thead th {\n",
              "        text-align: right;\n",
              "    }\n",
              "</style>\n",
              "<table border=\"1\" class=\"dataframe\">\n",
              "  <thead>\n",
              "    <tr style=\"text-align: right;\">\n",
              "      <th></th>\n",
              "      <th>menopause_status</th>\n",
              "      <th>n</th>\n",
              "    </tr>\n",
              "  </thead>\n",
              "  <tbody>\n",
              "    <tr>\n",
              "      <th>0</th>\n",
              "      <td>Post (prior bilateral ovariectomy OR &gt;12 mo si...</td>\n",
              "      <td>1291</td>\n",
              "    </tr>\n",
              "    <tr>\n",
              "      <th>1</th>\n",
              "      <td>Pre (&lt;6 months since LMP AND no prior bilatera...</td>\n",
              "      <td>389</td>\n",
              "    </tr>\n",
              "    <tr>\n",
              "      <th>2</th>\n",
              "      <td>Peri (6-12 months since last menstrual period)</td>\n",
              "      <td>82</td>\n",
              "    </tr>\n",
              "    <tr>\n",
              "      <th>3</th>\n",
              "      <td>Indeterminate (neither Pre or Postmenopausal)</td>\n",
              "      <td>54</td>\n",
              "    </tr>\n",
              "  </tbody>\n",
              "</table>\n",
              "</div>"
            ],
            "text/plain": [
              "                                    menopause_status     n\n",
              "0  Post (prior bilateral ovariectomy OR >12 mo si...  1291\n",
              "1  Pre (<6 months since LMP AND no prior bilatera...   389\n",
              "2     Peri (6-12 months since last menstrual period)    82\n",
              "3      Indeterminate (neither Pre or Postmenopausal)    54"
            ]
          },
          "metadata": {
            "tags": []
          },
          "execution_count": 48
        }
      ]
    },
    {
      "cell_type": "markdown",
      "metadata": {
        "id": "E3gRdYwaVCr8",
        "colab_type": "text"
      },
      "source": [
        "We might wonder which specific tumor types have menopause information:"
      ]
    },
    {
      "cell_type": "code",
      "metadata": {
        "id": "2fO9uxVzVCr9",
        "colab_type": "code",
        "outputId": "c5e927dc-bbd1-445d-f160-a5b3ae4b9750",
        "colab": {
          "base_uri": "https://localhost:8080/",
          "height": 173
        }
      },
      "source": [
        "%%bigquery --project PROJECT ID \n",
        "SELECT project_short_name, COUNT(*) AS n\n",
        "FROM `isb-cgc.TCGA_bioclin_v0.Clinical`\n",
        "WHERE menopause_status IS NOT NULL\n",
        "GROUP BY project_short_name\n",
        "ORDER BY n DESC"
      ],
      "execution_count": 0,
      "outputs": [
        {
          "output_type": "execute_result",
          "data": {
            "text/html": [
              "<div>\n",
              "<style scoped>\n",
              "    .dataframe tbody tr th:only-of-type {\n",
              "        vertical-align: middle;\n",
              "    }\n",
              "\n",
              "    .dataframe tbody tr th {\n",
              "        vertical-align: top;\n",
              "    }\n",
              "\n",
              "    .dataframe thead th {\n",
              "        text-align: right;\n",
              "    }\n",
              "</style>\n",
              "<table border=\"1\" class=\"dataframe\">\n",
              "  <thead>\n",
              "    <tr style=\"text-align: right;\">\n",
              "      <th></th>\n",
              "      <th>project_short_name</th>\n",
              "      <th>n</th>\n",
              "    </tr>\n",
              "  </thead>\n",
              "  <tbody>\n",
              "    <tr>\n",
              "      <th>0</th>\n",
              "      <td>TCGA-BRCA</td>\n",
              "      <td>1007</td>\n",
              "    </tr>\n",
              "    <tr>\n",
              "      <th>1</th>\n",
              "      <td>TCGA-UCEC</td>\n",
              "      <td>517</td>\n",
              "    </tr>\n",
              "    <tr>\n",
              "      <th>2</th>\n",
              "      <td>TCGA-CESC</td>\n",
              "      <td>237</td>\n",
              "    </tr>\n",
              "    <tr>\n",
              "      <th>3</th>\n",
              "      <td>TCGA-UCS</td>\n",
              "      <td>55</td>\n",
              "    </tr>\n",
              "  </tbody>\n",
              "</table>\n",
              "</div>"
            ],
            "text/plain": [
              "  project_short_name     n\n",
              "0          TCGA-BRCA  1007\n",
              "1          TCGA-UCEC   517\n",
              "2          TCGA-CESC   237\n",
              "3           TCGA-UCS    55"
            ]
          },
          "metadata": {
            "tags": []
          },
          "execution_count": 52
        }
      ]
    },
    {
      "cell_type": "code",
      "metadata": {
        "id": "L9QCMBJLVCsA",
        "colab_type": "code",
        "outputId": "92002a36-f9db-40d6-abb2-61c14eb6d99f",
        "colab": {
          "base_uri": "https://localhost:8080/",
          "height": 204
        }
      },
      "source": [
        "%%bigquery --project PROJECT ID \n",
        "SELECT hpv_status, hpv_calls, COUNT(*) AS n\n",
        "FROM `isb-cgc.TCGA_bioclin_v0.Clinical`\n",
        "WHERE hpv_status IS NOT NULL\n",
        "GROUP BY hpv_status, hpv_calls\n",
        "HAVING n > 20\n",
        "ORDER BY n DESC"
      ],
      "execution_count": 0,
      "outputs": [
        {
          "output_type": "execute_result",
          "data": {
            "text/html": [
              "<div>\n",
              "<style scoped>\n",
              "    .dataframe tbody tr th:only-of-type {\n",
              "        vertical-align: middle;\n",
              "    }\n",
              "\n",
              "    .dataframe tbody tr th {\n",
              "        vertical-align: top;\n",
              "    }\n",
              "\n",
              "    .dataframe thead th {\n",
              "        text-align: right;\n",
              "    }\n",
              "</style>\n",
              "<table border=\"1\" class=\"dataframe\">\n",
              "  <thead>\n",
              "    <tr style=\"text-align: right;\">\n",
              "      <th></th>\n",
              "      <th>hpv_status</th>\n",
              "      <th>hpv_calls</th>\n",
              "      <th>n</th>\n",
              "    </tr>\n",
              "  </thead>\n",
              "  <tbody>\n",
              "    <tr>\n",
              "      <th>0</th>\n",
              "      <td>Negative</td>\n",
              "      <td>None</td>\n",
              "      <td>664</td>\n",
              "    </tr>\n",
              "    <tr>\n",
              "      <th>1</th>\n",
              "      <td>Positive</td>\n",
              "      <td>HPV16</td>\n",
              "      <td>238</td>\n",
              "    </tr>\n",
              "    <tr>\n",
              "      <th>2</th>\n",
              "      <td>Positive</td>\n",
              "      <td>HPV18</td>\n",
              "      <td>41</td>\n",
              "    </tr>\n",
              "    <tr>\n",
              "      <th>3</th>\n",
              "      <td>Positive</td>\n",
              "      <td>HPV33</td>\n",
              "      <td>25</td>\n",
              "    </tr>\n",
              "    <tr>\n",
              "      <th>4</th>\n",
              "      <td>Positive</td>\n",
              "      <td>HPV45</td>\n",
              "      <td>24</td>\n",
              "    </tr>\n",
              "  </tbody>\n",
              "</table>\n",
              "</div>"
            ],
            "text/plain": [
              "  hpv_status hpv_calls    n\n",
              "0   Negative      None  664\n",
              "1   Positive     HPV16  238\n",
              "2   Positive     HPV18   41\n",
              "3   Positive     HPV33   25\n",
              "4   Positive     HPV45   24"
            ]
          },
          "metadata": {
            "tags": []
          },
          "execution_count": 53
        }
      ]
    },
    {
      "cell_type": "markdown",
      "metadata": {
        "id": "StOsLNYmVCsC",
        "colab_type": "text"
      },
      "source": [
        "## TCGA Annotations\n",
        "\n",
        "An additional factor to consider, when creating a cohort is that there may be additional information that might lead one to exclude a particular patient from a cohort.  In certain instances, patients have been redacted or excluded from analyses for reasons such as prior treatment, etc, but since different researchers may have different criteria for using or excluding certain patients or certain samples from their analyses, an overview of the annoations can be found [here](https://docs.gdc.cancer.gov/Encyclopedia/pages/Annotations_TCGA/).  These annotations have also been uploaded into a BigQuery table and can be used in conjuction with the other BigQuery tables."
      ]
    },
    {
      "cell_type": "markdown",
      "metadata": {
        "id": "6a9snKq1VCsD",
        "colab_type": "text"
      },
      "source": [
        "# Create a Cohort from Two Tables\n",
        "\n",
        "Now that we have a better idea of what types of information is available in the Clinical data table, let's create a cohort consisting of female breast-cancer patients, diagnosed at the age of 50 or younger."
      ]
    },
    {
      "cell_type": "markdown",
      "metadata": {
        "id": "gWdNmzevVCsD",
        "colab_type": "text"
      },
      "source": [
        "In this next code cell, we define several queries with a **`WITH`** clause which allows us to use them in a final query. We will then save the query to a [Pandas DataFrame](https://pandas.pydata.org/) to allow it to be analyzed later with a named data frame.\n",
        "* the first query, called **`select_on_annotations`**, finds all patients in the Annotations table which have either been 'redacted' or had 'unacceptable prior treatment';  \n",
        "* the second query, **`select_on_clinical`** selects all female breast-cancer patients who were diagnosed at age 50 or younger, while also pulling out a few additional fields that might be of interest;  and\n",
        "* the final query joins these two together and returns just those patients that meet the clinical-criteria and do **not** meet the exclusion-criteria."
      ]
    },
    {
      "cell_type": "markdown",
      "metadata": {
        "id": "VMCUMONH5KWk",
        "colab_type": "text"
      },
      "source": [
        "#### Create a Query for a Cohort from Two Tables"
      ]
    },
    {
      "cell_type": "code",
      "metadata": {
        "id": "FpzdD3laPrE-",
        "colab_type": "code",
        "outputId": "75f6b7ae-3346-41ba-88b0-888bb4e15e1c",
        "colab": {
          "base_uri": "https://localhost:8080/",
          "height": 1969
        },
        "cellView": "code"
      },
      "source": [
        "# First use the BigQuery Magic Command (%%bigquery) then name the dataframe\n",
        "# (early_onset_breast_canver), and finallly include your project ID\n",
        "# (--project PROJECT ID).\n",
        "%%bigquery early_onset_breast_cancer --project PROJECT ID\n",
        "WITH\n",
        "  select_on_annotations AS (\n",
        "  SELECT\n",
        "    case_barcode,\n",
        "    category AS categoryName,\n",
        "    classification AS classificationName\n",
        "  FROM\n",
        "    `isb-cgc.TCGA_bioclin_v0.Annotations`\n",
        "  WHERE\n",
        "    ( entity_type=\"Patient\"\n",
        "      AND (category=\"History of unacceptable prior treatment related to a prior/other malignancy\"\n",
        "        OR classification=\"Redaction\" ) )\n",
        "  GROUP BY\n",
        "    case_barcode,\n",
        "    categoryName,\n",
        "    classificationName\n",
        "),\n",
        "--\n",
        "select_on_clinical AS (\n",
        "  SELECT\n",
        "    case_barcode,\n",
        "    vital_status,\n",
        "    days_to_last_known_alive,\n",
        "    ethnicity,\n",
        "    histological_type,\n",
        "    menopause_status,\n",
        "    race\n",
        "  FROM\n",
        "    `isb-cgc.TCGA_bioclin_v0.Clinical`\n",
        "  WHERE\n",
        "    ( disease_code = \"BRCA\"\n",
        "      AND age_at_diagnosis<=50\n",
        "      AND gender=\"FEMALE\" )\n",
        ")\n",
        "--\n",
        "SELECT\n",
        "  case_barcode\n",
        "FROM (\n",
        "  SELECT\n",
        "    a.categoryName,\n",
        "    a.classificationName,\n",
        "    c.case_barcode\n",
        "  FROM select_on_annotations AS a\n",
        "  FULL JOIN select_on_clinical AS c\n",
        "  ON\n",
        "    a.case_barcode = c.case_barcode\n",
        "  WHERE\n",
        "    a.case_barcode IS NOT NULL\n",
        "    OR c.case_barcode IS NOT NULL\n",
        "  ORDER BY\n",
        "    a.classificationName,\n",
        "    a.categoryName,\n",
        "    c.case_barcode\n",
        ")\n",
        "WHERE\n",
        "  categoryName IS NULL\n",
        "  AND classificationName IS NULL\n",
        "  AND case_barcode IS NOT NULL\n",
        "ORDER BY\n",
        "  case_barcode"
      ],
      "execution_count": 7,
      "outputs": [
        {
          "output_type": "execute_result",
          "data": {
            "text/html": [
              "<div>\n",
              "<style scoped>\n",
              "    .dataframe tbody tr th:only-of-type {\n",
              "        vertical-align: middle;\n",
              "    }\n",
              "\n",
              "    .dataframe tbody tr th {\n",
              "        vertical-align: top;\n",
              "    }\n",
              "\n",
              "    .dataframe thead th {\n",
              "        text-align: right;\n",
              "    }\n",
              "</style>\n",
              "<table border=\"1\" class=\"dataframe\">\n",
              "  <thead>\n",
              "    <tr style=\"text-align: right;\">\n",
              "      <th></th>\n",
              "      <th>case_barcode</th>\n",
              "    </tr>\n",
              "  </thead>\n",
              "  <tbody>\n",
              "    <tr>\n",
              "      <th>0</th>\n",
              "      <td>TCGA-3C-AALI</td>\n",
              "    </tr>\n",
              "    <tr>\n",
              "      <th>1</th>\n",
              "      <td>TCGA-4H-AAAK</td>\n",
              "    </tr>\n",
              "    <tr>\n",
              "      <th>2</th>\n",
              "      <td>TCGA-5L-AAT0</td>\n",
              "    </tr>\n",
              "    <tr>\n",
              "      <th>3</th>\n",
              "      <td>TCGA-A1-A0SH</td>\n",
              "    </tr>\n",
              "    <tr>\n",
              "      <th>4</th>\n",
              "      <td>TCGA-A1-A0SJ</td>\n",
              "    </tr>\n",
              "    <tr>\n",
              "      <th>5</th>\n",
              "      <td>TCGA-A1-A0SN</td>\n",
              "    </tr>\n",
              "    <tr>\n",
              "      <th>6</th>\n",
              "      <td>TCGA-A1-A0SP</td>\n",
              "    </tr>\n",
              "    <tr>\n",
              "      <th>7</th>\n",
              "      <td>TCGA-A1-A0SQ</td>\n",
              "    </tr>\n",
              "    <tr>\n",
              "      <th>8</th>\n",
              "      <td>TCGA-A2-A04P</td>\n",
              "    </tr>\n",
              "    <tr>\n",
              "      <th>9</th>\n",
              "      <td>TCGA-A2-A04Q</td>\n",
              "    </tr>\n",
              "    <tr>\n",
              "      <th>10</th>\n",
              "      <td>TCGA-A2-A04R</td>\n",
              "    </tr>\n",
              "    <tr>\n",
              "      <th>11</th>\n",
              "      <td>TCGA-A2-A04U</td>\n",
              "    </tr>\n",
              "    <tr>\n",
              "      <th>12</th>\n",
              "      <td>TCGA-A2-A04V</td>\n",
              "    </tr>\n",
              "    <tr>\n",
              "      <th>13</th>\n",
              "      <td>TCGA-A2-A04W</td>\n",
              "    </tr>\n",
              "    <tr>\n",
              "      <th>14</th>\n",
              "      <td>TCGA-A2-A04X</td>\n",
              "    </tr>\n",
              "    <tr>\n",
              "      <th>15</th>\n",
              "      <td>TCGA-A2-A0CL</td>\n",
              "    </tr>\n",
              "    <tr>\n",
              "      <th>16</th>\n",
              "      <td>TCGA-A2-A0CM</td>\n",
              "    </tr>\n",
              "    <tr>\n",
              "      <th>17</th>\n",
              "      <td>TCGA-A2-A0CV</td>\n",
              "    </tr>\n",
              "    <tr>\n",
              "      <th>18</th>\n",
              "      <td>TCGA-A2-A0CZ</td>\n",
              "    </tr>\n",
              "    <tr>\n",
              "      <th>19</th>\n",
              "      <td>TCGA-A2-A0D2</td>\n",
              "    </tr>\n",
              "    <tr>\n",
              "      <th>20</th>\n",
              "      <td>TCGA-A2-A0D3</td>\n",
              "    </tr>\n",
              "    <tr>\n",
              "      <th>21</th>\n",
              "      <td>TCGA-A2-A0D4</td>\n",
              "    </tr>\n",
              "    <tr>\n",
              "      <th>22</th>\n",
              "      <td>TCGA-A2-A0EX</td>\n",
              "    </tr>\n",
              "    <tr>\n",
              "      <th>23</th>\n",
              "      <td>TCGA-A2-A0SX</td>\n",
              "    </tr>\n",
              "    <tr>\n",
              "      <th>24</th>\n",
              "      <td>TCGA-A2-A0T3</td>\n",
              "    </tr>\n",
              "    <tr>\n",
              "      <th>25</th>\n",
              "      <td>TCGA-A2-A0T5</td>\n",
              "    </tr>\n",
              "    <tr>\n",
              "      <th>26</th>\n",
              "      <td>TCGA-A2-A0T6</td>\n",
              "    </tr>\n",
              "    <tr>\n",
              "      <th>27</th>\n",
              "      <td>TCGA-A2-A0YE</td>\n",
              "    </tr>\n",
              "    <tr>\n",
              "      <th>28</th>\n",
              "      <td>TCGA-A2-A0YJ</td>\n",
              "    </tr>\n",
              "    <tr>\n",
              "      <th>29</th>\n",
              "      <td>TCGA-A2-A0YL</td>\n",
              "    </tr>\n",
              "    <tr>\n",
              "      <th>...</th>\n",
              "      <td>...</td>\n",
              "    </tr>\n",
              "    <tr>\n",
              "      <th>297</th>\n",
              "      <td>TCGA-GM-A2DL</td>\n",
              "    </tr>\n",
              "    <tr>\n",
              "      <th>298</th>\n",
              "      <td>TCGA-GM-A3XG</td>\n",
              "    </tr>\n",
              "    <tr>\n",
              "      <th>299</th>\n",
              "      <td>TCGA-GM-A3XL</td>\n",
              "    </tr>\n",
              "    <tr>\n",
              "      <th>300</th>\n",
              "      <td>TCGA-GM-A3XN</td>\n",
              "    </tr>\n",
              "    <tr>\n",
              "      <th>301</th>\n",
              "      <td>TCGA-HN-A2OB</td>\n",
              "    </tr>\n",
              "    <tr>\n",
              "      <th>302</th>\n",
              "      <td>TCGA-JL-A3YW</td>\n",
              "    </tr>\n",
              "    <tr>\n",
              "      <th>303</th>\n",
              "      <td>TCGA-JL-A3YX</td>\n",
              "    </tr>\n",
              "    <tr>\n",
              "      <th>304</th>\n",
              "      <td>TCGA-LD-A66U</td>\n",
              "    </tr>\n",
              "    <tr>\n",
              "      <th>305</th>\n",
              "      <td>TCGA-LL-A5YN</td>\n",
              "    </tr>\n",
              "    <tr>\n",
              "      <th>306</th>\n",
              "      <td>TCGA-LL-A5YO</td>\n",
              "    </tr>\n",
              "    <tr>\n",
              "      <th>307</th>\n",
              "      <td>TCGA-LL-A5YP</td>\n",
              "    </tr>\n",
              "    <tr>\n",
              "      <th>308</th>\n",
              "      <td>TCGA-LL-A6FR</td>\n",
              "    </tr>\n",
              "    <tr>\n",
              "      <th>309</th>\n",
              "      <td>TCGA-LL-A7SZ</td>\n",
              "    </tr>\n",
              "    <tr>\n",
              "      <th>310</th>\n",
              "      <td>TCGA-MS-A51U</td>\n",
              "    </tr>\n",
              "    <tr>\n",
              "      <th>311</th>\n",
              "      <td>TCGA-OL-A5D8</td>\n",
              "    </tr>\n",
              "    <tr>\n",
              "      <th>312</th>\n",
              "      <td>TCGA-OL-A5RV</td>\n",
              "    </tr>\n",
              "    <tr>\n",
              "      <th>313</th>\n",
              "      <td>TCGA-OL-A5RW</td>\n",
              "    </tr>\n",
              "    <tr>\n",
              "      <th>314</th>\n",
              "      <td>TCGA-OL-A66I</td>\n",
              "    </tr>\n",
              "    <tr>\n",
              "      <th>315</th>\n",
              "      <td>TCGA-OL-A66O</td>\n",
              "    </tr>\n",
              "    <tr>\n",
              "      <th>316</th>\n",
              "      <td>TCGA-OL-A6VO</td>\n",
              "    </tr>\n",
              "    <tr>\n",
              "      <th>317</th>\n",
              "      <td>TCGA-OL-A6VQ</td>\n",
              "    </tr>\n",
              "    <tr>\n",
              "      <th>318</th>\n",
              "      <td>TCGA-OL-A6VR</td>\n",
              "    </tr>\n",
              "    <tr>\n",
              "      <th>319</th>\n",
              "      <td>TCGA-PE-A5DE</td>\n",
              "    </tr>\n",
              "    <tr>\n",
              "      <th>320</th>\n",
              "      <td>TCGA-PL-A8LX</td>\n",
              "    </tr>\n",
              "    <tr>\n",
              "      <th>321</th>\n",
              "      <td>TCGA-PL-A8LY</td>\n",
              "    </tr>\n",
              "    <tr>\n",
              "      <th>322</th>\n",
              "      <td>TCGA-PL-A8LZ</td>\n",
              "    </tr>\n",
              "    <tr>\n",
              "      <th>323</th>\n",
              "      <td>TCGA-S3-A6ZH</td>\n",
              "    </tr>\n",
              "    <tr>\n",
              "      <th>324</th>\n",
              "      <td>TCGA-S3-AA14</td>\n",
              "    </tr>\n",
              "    <tr>\n",
              "      <th>325</th>\n",
              "      <td>TCGA-XX-A899</td>\n",
              "    </tr>\n",
              "    <tr>\n",
              "      <th>326</th>\n",
              "      <td>TCGA-Z7-A8R6</td>\n",
              "    </tr>\n",
              "  </tbody>\n",
              "</table>\n",
              "<p>327 rows × 1 columns</p>\n",
              "</div>"
            ],
            "text/plain": [
              "     case_barcode\n",
              "0    TCGA-3C-AALI\n",
              "1    TCGA-4H-AAAK\n",
              "2    TCGA-5L-AAT0\n",
              "3    TCGA-A1-A0SH\n",
              "4    TCGA-A1-A0SJ\n",
              "5    TCGA-A1-A0SN\n",
              "6    TCGA-A1-A0SP\n",
              "7    TCGA-A1-A0SQ\n",
              "8    TCGA-A2-A04P\n",
              "9    TCGA-A2-A04Q\n",
              "10   TCGA-A2-A04R\n",
              "11   TCGA-A2-A04U\n",
              "12   TCGA-A2-A04V\n",
              "13   TCGA-A2-A04W\n",
              "14   TCGA-A2-A04X\n",
              "15   TCGA-A2-A0CL\n",
              "16   TCGA-A2-A0CM\n",
              "17   TCGA-A2-A0CV\n",
              "18   TCGA-A2-A0CZ\n",
              "19   TCGA-A2-A0D2\n",
              "20   TCGA-A2-A0D3\n",
              "21   TCGA-A2-A0D4\n",
              "22   TCGA-A2-A0EX\n",
              "23   TCGA-A2-A0SX\n",
              "24   TCGA-A2-A0T3\n",
              "25   TCGA-A2-A0T5\n",
              "26   TCGA-A2-A0T6\n",
              "27   TCGA-A2-A0YE\n",
              "28   TCGA-A2-A0YJ\n",
              "29   TCGA-A2-A0YL\n",
              "..            ...\n",
              "297  TCGA-GM-A2DL\n",
              "298  TCGA-GM-A3XG\n",
              "299  TCGA-GM-A3XL\n",
              "300  TCGA-GM-A3XN\n",
              "301  TCGA-HN-A2OB\n",
              "302  TCGA-JL-A3YW\n",
              "303  TCGA-JL-A3YX\n",
              "304  TCGA-LD-A66U\n",
              "305  TCGA-LL-A5YN\n",
              "306  TCGA-LL-A5YO\n",
              "307  TCGA-LL-A5YP\n",
              "308  TCGA-LL-A6FR\n",
              "309  TCGA-LL-A7SZ\n",
              "310  TCGA-MS-A51U\n",
              "311  TCGA-OL-A5D8\n",
              "312  TCGA-OL-A5RV\n",
              "313  TCGA-OL-A5RW\n",
              "314  TCGA-OL-A66I\n",
              "315  TCGA-OL-A66O\n",
              "316  TCGA-OL-A6VO\n",
              "317  TCGA-OL-A6VQ\n",
              "318  TCGA-OL-A6VR\n",
              "319  TCGA-PE-A5DE\n",
              "320  TCGA-PL-A8LX\n",
              "321  TCGA-PL-A8LY\n",
              "322  TCGA-PL-A8LZ\n",
              "323  TCGA-S3-A6ZH\n",
              "324  TCGA-S3-AA14\n",
              "325  TCGA-XX-A899\n",
              "326  TCGA-Z7-A8R6\n",
              "\n",
              "[327 rows x 1 columns]"
            ]
          },
          "metadata": {
            "tags": []
          },
          "execution_count": 7
        }
      ]
    },
    {
      "cell_type": "markdown",
      "metadata": {
        "id": "8YZWApgkVCsT",
        "colab_type": "text"
      },
      "source": [
        "### Useful Tricks\n",
        "Before we leave off, here are a few useful tricks for working with BigQuery:\n",
        "* If you want to see how much data and which tables are going to be touched by this data, you can use the \"dry run\" option.\n",
        "* You can then build a query as a variable and put the results into a dataframe instead of "
      ]
    },
    {
      "cell_type": "code",
      "metadata": {
        "id": "CEIn37yqVCsc",
        "colab_type": "code",
        "colab": {}
      },
      "source": [
        "# Create a variable with the query as a string\n",
        "breast_cancer_query = \"\"\"\n",
        "WITH\n",
        "  select_on_annotations AS (\n",
        "  SELECT\n",
        "    case_barcode,\n",
        "    category AS categoryName,\n",
        "    classification AS classificationName\n",
        "  FROM\n",
        "    `isb-cgc.TCGA_bioclin_v0.Annotations`\n",
        "  WHERE\n",
        "    ( entity_type=\"Patient\"\n",
        "      AND (category=\"History of unacceptable prior treatment related to a prior/other malignancy\"\n",
        "        OR classification=\"Redaction\" ) )\n",
        "  GROUP BY\n",
        "    case_barcode,\n",
        "    categoryName,\n",
        "    classificationName\n",
        "),\n",
        "--\n",
        "select_on_clinical AS (\n",
        "  SELECT\n",
        "    case_barcode,\n",
        "    vital_status,\n",
        "    days_to_last_known_alive,\n",
        "    ethnicity,\n",
        "    histological_type,\n",
        "    menopause_status,\n",
        "    race\n",
        "  FROM\n",
        "    `isb-cgc.TCGA_bioclin_v0.Clinical`\n",
        "  WHERE\n",
        "    ( disease_code = \"BRCA\"\n",
        "      AND age_at_diagnosis<=50\n",
        "      AND gender=\"FEMALE\" )\n",
        ")\n",
        "--\n",
        "SELECT\n",
        "  case_barcode\n",
        "FROM (\n",
        "  SELECT\n",
        "    a.categoryName,\n",
        "    a.classificationName,\n",
        "    c.case_barcode\n",
        "  FROM select_on_annotations AS a\n",
        "  FULL JOIN select_on_clinical AS c\n",
        "  ON\n",
        "    a.case_barcode = c.case_barcode\n",
        "  WHERE\n",
        "    a.case_barcode IS NOT NULL\n",
        "    OR c.case_barcode IS NOT NULL\n",
        "  ORDER BY\n",
        "    a.classificationName,\n",
        "    a.categoryName,\n",
        "    c.case_barcode\n",
        ")\n",
        "WHERE\n",
        "  categoryName IS NULL\n",
        "  AND classificationName IS NULL\n",
        "  AND case_barcode IS NOT NULL\n",
        "ORDER BY\n",
        "  case_barcode\n",
        "\"\"\""
      ],
      "execution_count": 0,
      "outputs": []
    },
    {
      "cell_type": "markdown",
      "metadata": {
        "id": "jzOshUb8SbxT",
        "colab_type": "text"
      },
      "source": [
        "Since this is a large query, we might want to check the number of bytes that will be processed. We can use a dry run to see how many bytes wil be processed with the query without actually doing a query."
      ]
    },
    {
      "cell_type": "code",
      "metadata": {
        "id": "GMg01x8M06yF",
        "colab_type": "code",
        "colab": {
          "base_uri": "https://localhost:8080/",
          "height": 34
        },
        "outputId": "0df79846-fda7-4dfb-ad5a-3ecb9e0ec3da"
      },
      "source": [
        "job_config = bigquery.QueryJobConfig()\n",
        "job_config.dry_run = True\n",
        "job_config.use_query_cache = False\n",
        "query_job = client.query(\n",
        "    (breast_cancer_query),\n",
        "    # Location must match that of the dataset(s) referenced in the query.\n",
        "    location=\"US\",\n",
        "    job_config=job_config,\n",
        ")  # API request\n",
        "\n",
        "# A dry run query completes immediately.\n",
        "assert query_job.state == \"DONE\"\n",
        "assert query_job.dry_run\n",
        "\n",
        "print(\"This query will process {} Kilobytes.\".format(query_job.total_bytes_processed*0.001))"
      ],
      "execution_count": 29,
      "outputs": [
        {
          "output_type": "stream",
          "text": [
            "This query will process 788.043 Kilobytes.\n"
          ],
          "name": "stdout"
        }
      ]
    },
    {
      "cell_type": "markdown",
      "metadata": {
        "id": "5SJIh9QTawBa",
        "colab_type": "text"
      },
      "source": [
        "For more information on price estimation, please see the [Estimating storage and query costs](https://cloud.google.com/bigquery/docs/estimate-costs) and [BigQuery best practices: Controlling costs](https://cloud.google.com/bigquery/docs/best-practices-costs) pages.\n",
        "\n",
        "Below we can then use the same variable with the query to then run the query and put the result into a Pandas Dataframe for later analysis."
      ]
    },
    {
      "cell_type": "code",
      "metadata": {
        "id": "J4angHKtWrce",
        "colab_type": "code",
        "colab": {
          "base_uri": "https://localhost:8080/",
          "height": 204
        },
        "outputId": "f147d625-cb2a-4876-e566-b20803bb1420"
      },
      "source": [
        "query = client.query(breast_cancer_query)\n",
        "breast_cancer_query_results = query.result().to_dataframe()\n",
        "breast_cancer_query_results.head(5)"
      ],
      "execution_count": 31,
      "outputs": [
        {
          "output_type": "execute_result",
          "data": {
            "text/html": [
              "<div>\n",
              "<style scoped>\n",
              "    .dataframe tbody tr th:only-of-type {\n",
              "        vertical-align: middle;\n",
              "    }\n",
              "\n",
              "    .dataframe tbody tr th {\n",
              "        vertical-align: top;\n",
              "    }\n",
              "\n",
              "    .dataframe thead th {\n",
              "        text-align: right;\n",
              "    }\n",
              "</style>\n",
              "<table border=\"1\" class=\"dataframe\">\n",
              "  <thead>\n",
              "    <tr style=\"text-align: right;\">\n",
              "      <th></th>\n",
              "      <th>case_barcode</th>\n",
              "    </tr>\n",
              "  </thead>\n",
              "  <tbody>\n",
              "    <tr>\n",
              "      <th>0</th>\n",
              "      <td>TCGA-3C-AALI</td>\n",
              "    </tr>\n",
              "    <tr>\n",
              "      <th>1</th>\n",
              "      <td>TCGA-4H-AAAK</td>\n",
              "    </tr>\n",
              "    <tr>\n",
              "      <th>2</th>\n",
              "      <td>TCGA-5L-AAT0</td>\n",
              "    </tr>\n",
              "    <tr>\n",
              "      <th>3</th>\n",
              "      <td>TCGA-A1-A0SH</td>\n",
              "    </tr>\n",
              "    <tr>\n",
              "      <th>4</th>\n",
              "      <td>TCGA-A1-A0SJ</td>\n",
              "    </tr>\n",
              "  </tbody>\n",
              "</table>\n",
              "</div>"
            ],
            "text/plain": [
              "   case_barcode\n",
              "0  TCGA-3C-AALI\n",
              "1  TCGA-4H-AAAK\n",
              "2  TCGA-5L-AAT0\n",
              "3  TCGA-A1-A0SH\n",
              "4  TCGA-A1-A0SJ"
            ]
          },
          "metadata": {
            "tags": []
          },
          "execution_count": 31
        }
      ]
    }
  ]
}
