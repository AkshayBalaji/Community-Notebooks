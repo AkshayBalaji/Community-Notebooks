{
 "cells": [
  {
   "cell_type": "markdown",
   "metadata": {},
   "source": [
    "# Regulome Explorer Notebook \n",
    "\n",
    "This notebook computes association scores between numerical features (Gene expression and Somatic copy number) of a list of genes and other features available in TCGA BigQuery tables. The specific statistical tests used between the features are described in the following link: https://github.com/isb-cgc/Community-Notebooks/tree/master/RegulomeExplorer \n",
    "\n",
    "The output of the notebook is a table sorted by association scores, so that strongest associations between Gene expression and the user specified molecular feature is  displayed at the top of the resulting table.\n",
    "\n",
    "This notebook also performs a more detailed analysis from a user specified pair of features names (genes, mutation, clinical annotations, etc.). The analysis includes the computation of p-values, additional statistics, and figures in a similar style than Regulome explorer.\n",
    "\n",
    "Check out more notebooks at ['Community Notebooks Repository'](https://github.com/isb-cgc/Community-Notebooks/)!\n"
   ]
  },
  {
   "cell_type": "markdown",
   "metadata": {},
   "source": [
    "### Authentication\n",
    "The first step is to authorize access to BigQuery and the Google Cloud. For more information see ['Quick Start Guide to ISB-CGC'](https://isb-cancer-genomics-cloud.readthedocs.io/en/latest/sections/HowToGetStartedonISB-CGC.html) and alternative authentication methods can be found [here](https://googleapis.github.io/google-cloud-python/latest/core/auth.html)."
   ]
  },
  {
   "cell_type": "markdown",
   "metadata": {},
   "source": [
    "### Import Python libraries"
   ]
  },
  {
   "cell_type": "code",
   "execution_count": 1,
   "metadata": {
    "collapsed": true,
    "scrolled": true
   },
   "outputs": [],
   "source": [
    "#%load_ext autoreload\n",
    "#%autoreload 2\n",
    "%matplotlib inline\n",
    "from google.cloud import bigquery\n",
    "import numpy as np\n",
    "import pandas as pd\n",
    "import seaborn as sns\n",
    "from scipy import stats\n",
    "import ipywidgets as widgets\n",
    "import re_module.bq_functions as regulome"
   ]
  },
  {
   "cell_type": "markdown",
   "metadata": {},
   "source": [
    "### Specify Parameters\n",
    "The parameters for this experiment are the cancer type (study), a list of genes, a molecular feature that will be compared with gene expression, and the minimum number of samples required for the statistical analysis. "
   ]
  },
  {
   "cell_type": "code",
   "execution_count": 2,
   "metadata": {},
   "outputs": [
    {
     "data": {
      "application/vnd.jupyter.widget-view+json": {
       "model_id": "2257b31df71a445a8dd7b4fad6c3151a",
       "version_major": 2,
       "version_minor": 0
      },
      "text/plain": [
       "HBox(children=(HTML(value='<em>Select Feature1 </em>'), Dropdown(options=('Gene Expression', 'Somatic Copy Num…"
      ]
     },
     "metadata": {},
     "output_type": "display_data"
    },
    {
     "data": {
      "application/vnd.jupyter.widget-view+json": {
       "model_id": "0d1184dce8724d378b518023c62d6d85",
       "version_major": 2,
       "version_minor": 0
      },
      "text/plain": [
       "HBox(children=(HTML(value='<em>Feature1 labels </em>'), Text(value='IGF2, ADAM6', placeholder='Type gene names…"
      ]
     },
     "metadata": {},
     "output_type": "display_data"
    },
    {
     "data": {
      "application/vnd.jupyter.widget-view+json": {
       "model_id": "78ae9b745477412c929432e4ed729018",
       "version_major": 2,
       "version_minor": 0
      },
      "text/plain": [
       "HBox(children=(HTML(value='<em>Select Feature2 </em>'), Dropdown(options=('Gene Expression', 'Somatic Mutation…"
      ]
     },
     "metadata": {},
     "output_type": "display_data"
    },
    {
     "data": {
      "application/vnd.jupyter.widget-view+json": {
       "model_id": "89a2b6bdbeee4bdd86481ad9a7acf540",
       "version_major": 2,
       "version_minor": 0
      },
      "text/plain": [
       "HBox(children=(HTML(value='<em>Select a study </em>'), Dropdown(index=30, options=('ACC', 'BLCA', 'BRCA', 'CES…"
      ]
     },
     "metadata": {},
     "output_type": "display_data"
    },
    {
     "data": {
      "application/vnd.jupyter.widget-view+json": {
       "model_id": "9906ae33a83e4530a0f1d5a6c366e1d6",
       "version_major": 2,
       "version_minor": 0
      },
      "text/plain": [
       "HBox(children=(HTML(value='<em>Minimum number of samples</em>'), IntSlider(value=25, max=50, min=5)))"
      ]
     },
     "metadata": {},
     "output_type": "display_data"
    }
   ],
   "source": [
    "[study, feature1_name, feature2_name, gene_names, size] = regulome.makeWidgets()"
   ]
  },
  {
   "cell_type": "markdown",
   "metadata": {},
   "source": [
    "### Build the query\n",
    "The Bigquery to compute associations between feature 1 and 2 is composed of four tables. The first table contains data of feature 1 of the user defined list of names, The second contains data of feature 2, the third table is a combination of tables 1 and 2, ad the final table contains final statistics. The tables are created using functions in the 'regulome' module. Please refer to our github repository to access the notebooks with description of the methods used for each possible combination of features available in TCGA: https://github.com/isb-cgc/Community-Notebooks/tree/master/RegulomeExplorer \n",
    " "
   ]
  },
  {
   "cell_type": "code",
   "execution_count": 3,
   "metadata": {
    "collapsed": true,
    "scrolled": true
   },
   "outputs": [],
   "source": [
    "query_table1 = regulome.get_feature1_table( study.value, feature1_name.value )\n",
    "query_table2 = regulome.get_feature2_table( study.value, feature2_name.value )\n",
    "str_summarized = regulome.get_summarized_table( feature1_name.value ,feature2_name.value  )\n",
    "str_stats = regulome.get_stat_table( feature2_name.value, size.value )\n",
    "\n",
    "sql = ( 'WITH' + query_table1 + ',' + query_table2 + ',' + str_summarized + str_stats)\n",
    "#print(sql)"
   ]
  },
  {
   "cell_type": "markdown",
   "metadata": {},
   "source": [
    "### Run the Bigquery"
   ]
  },
  {
   "cell_type": "code",
   "execution_count": 4,
   "metadata": {},
   "outputs": [
    {
     "name": "stdout",
     "output_type": "stream",
     "text": [
      "\n",
      " in runQuery ... \n",
      "    this query processed 7757877633 bytes \n",
      "    Approx. elpased time : 12001 miliseconds \n"
     ]
    },
    {
     "data": {
      "text/html": [
       "<div>\n",
       "<table border=\"1\" class=\"dataframe\">\n",
       "  <thead>\n",
       "    <tr style=\"text-align: right;\">\n",
       "      <th></th>\n",
       "      <th>symbol1</th>\n",
       "      <th>symbol2</th>\n",
       "      <th>n</th>\n",
       "      <th>correlation</th>\n",
       "    </tr>\n",
       "  </thead>\n",
       "  <tbody>\n",
       "    <tr>\n",
       "      <th>0</th>\n",
       "      <td>ADAM6</td>\n",
       "      <td>LOC96610</td>\n",
       "      <td>540</td>\n",
       "      <td>0.954897</td>\n",
       "    </tr>\n",
       "    <tr>\n",
       "      <th>1</th>\n",
       "      <td>ADAM6</td>\n",
       "      <td>IGJ</td>\n",
       "      <td>540</td>\n",
       "      <td>0.918271</td>\n",
       "    </tr>\n",
       "    <tr>\n",
       "      <th>2</th>\n",
       "      <td>ADAM6</td>\n",
       "      <td>MGC29506</td>\n",
       "      <td>540</td>\n",
       "      <td>0.910795</td>\n",
       "    </tr>\n",
       "    <tr>\n",
       "      <th>3</th>\n",
       "      <td>ADAM6</td>\n",
       "      <td>FCRL5</td>\n",
       "      <td>540</td>\n",
       "      <td>0.893261</td>\n",
       "    </tr>\n",
       "    <tr>\n",
       "      <th>4</th>\n",
       "      <td>ADAM6</td>\n",
       "      <td>TNFRSF17</td>\n",
       "      <td>540</td>\n",
       "      <td>0.874617</td>\n",
       "    </tr>\n",
       "    <tr>\n",
       "      <th>5</th>\n",
       "      <td>ADAM6</td>\n",
       "      <td>CD79A</td>\n",
       "      <td>540</td>\n",
       "      <td>0.871937</td>\n",
       "    </tr>\n",
       "    <tr>\n",
       "      <th>6</th>\n",
       "      <td>ADAM6</td>\n",
       "      <td>POU2AF1</td>\n",
       "      <td>540</td>\n",
       "      <td>0.856714</td>\n",
       "    </tr>\n",
       "    <tr>\n",
       "      <th>7</th>\n",
       "      <td>ADAM6</td>\n",
       "      <td>IRF4</td>\n",
       "      <td>540</td>\n",
       "      <td>0.799697</td>\n",
       "    </tr>\n",
       "    <tr>\n",
       "      <th>8</th>\n",
       "      <td>ADAM6</td>\n",
       "      <td>SLAMF7</td>\n",
       "      <td>540</td>\n",
       "      <td>0.786947</td>\n",
       "    </tr>\n",
       "    <tr>\n",
       "      <th>9</th>\n",
       "      <td>ADAM6</td>\n",
       "      <td>CD27</td>\n",
       "      <td>540</td>\n",
       "      <td>0.784658</td>\n",
       "    </tr>\n",
       "  </tbody>\n",
       "</table>\n",
       "</div>"
      ],
      "text/plain": [
       "  symbol1   symbol2    n  correlation\n",
       "0   ADAM6  LOC96610  540     0.954897\n",
       "1   ADAM6       IGJ  540     0.918271\n",
       "2   ADAM6  MGC29506  540     0.910795\n",
       "3   ADAM6     FCRL5  540     0.893261\n",
       "4   ADAM6  TNFRSF17  540     0.874617\n",
       "5   ADAM6     CD79A  540     0.871937\n",
       "6   ADAM6   POU2AF1  540     0.856714\n",
       "7   ADAM6      IRF4  540     0.799697\n",
       "8   ADAM6    SLAMF7  540     0.786947\n",
       "9   ADAM6      CD27  540     0.784658"
      ]
     },
     "execution_count": 4,
     "metadata": {},
     "output_type": "execute_result"
    }
   ],
   "source": [
    "bqclient = bigquery.Client()\n",
    "gene_list = [ x.strip() for x in gene_names.value.split(',') ]\n",
    "df_results = regulome.runQuery ( bqclient, sql, gene_list , dryRun=False )\n",
    "df_results[0:10]"
   ]
  },
  {
   "cell_type": "markdown",
   "metadata": {},
   "source": [
    "## Analyze a pair labels\n",
    "From the table above please select a pair of features names to perform a statistical analysis and display the data. You can print the variable 'pair_query' to obtain the query used to retrieve the data. \n",
    "**pair_query** is the query used to retreive the necessary data for the statistical test. "
   ]
  },
  {
   "cell_type": "code",
   "execution_count": 5,
   "metadata": {},
   "outputs": [
    {
     "data": {
      "application/vnd.jupyter.widget-view+json": {
       "model_id": "e3e5eff452a94df4bd1e7b8129bccf00",
       "version_major": 2,
       "version_minor": 0
      },
      "text/plain": [
       "HBox(children=(HTML(value='<em>Type label 1 </em>'), Text(value='', placeholder='label name')))"
      ]
     },
     "metadata": {},
     "output_type": "display_data"
    },
    {
     "data": {
      "application/vnd.jupyter.widget-view+json": {
       "model_id": "fe4e7a8c1753405483dec338c83d6280",
       "version_major": 2,
       "version_minor": 0
      },
      "text/plain": [
       "HBox(children=(HTML(value='<em>Type label 2 </em>'), Text(value='', placeholder='label name')))"
      ]
     },
     "metadata": {},
     "output_type": "display_data"
    }
   ],
   "source": [
    "[name1 , name2 ] = regulome.makeWidgetsPair()"
   ]
  },
  {
   "cell_type": "code",
   "execution_count": 6,
   "metadata": {},
   "outputs": [
    {
     "name": "stdout",
     "output_type": "stream",
     "text": [
      "\n",
      " in runQuery ... \n",
      "    this query processed 7757877633 bytes \n",
      "    Approx. elpased time : 3378 miliseconds \n",
      "SpearmanrResult(correlation=0.91827140086976378, pvalue=1.2724813661443188e-218)\n"
     ]
    },
    {
     "data": {
      "image/png": "[encoded data removed]",
      "text/plain": [
       "<matplotlib.figure.Figure at 0x7feb8e7eea58>"
      ]
     },
     "metadata": {},
     "output_type": "display_data"
    }
   ],
   "source": [
    "pair_query = regulome.get_query_pair(name1.value,name2.value,study.value,feature1_name.value,feature2_name.value)\n",
    "#print(pair_query)\n",
    "df_pair = regulome.runQuery( bqclient, pair_query, [] , dryRun=False )\n",
    "regulome.plot_statistics_pair ( df_pair, feature2_name.value, name1.value, name2.value, size.value )  "
   ]
  },
  {
   "cell_type": "code",
   "execution_count": null,
   "metadata": {
    "collapsed": true
   },
   "outputs": [],
   "source": [
    "df_pair"
   ]
  }
 ],
 "metadata": {
  "kernelspec": {
   "display_name": "Python 3",
   "language": "python",
   "name": "python3"
  },
  "language_info": {
   "codemirror_mode": {
    "name": "ipython",
    "version": 3
   },
   "file_extension": ".py",
   "mimetype": "text/x-python",
   "name": "python",
   "nbconvert_exporter": "python",
   "pygments_lexer": "ipython3",
   "version": "3.5.4"
  }
 },
 "nbformat": 4,
 "nbformat_minor": 2
}
