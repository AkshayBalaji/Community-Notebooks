{
 "cells": [
  {
   "cell_type": "markdown",
   "metadata": {},
   "source": [
    "# Regulome Explorer  Spearman Correlation for numerical data\n",
    "Check out more notebooks at our ['Regulome Explorer Repository'](https://github.com/isb-cgc/Community-Notebooks/tree/master/RegulomeExplorer)!\n",
    "\n",
    "\n",
    "```\n",
    "Title:   Regulome Explorer Spearman correlation\n",
    "Author:  Boris Aguilar\n",
    "Created: 01-13-2020\n",
    "Purpose: Demostrate how to compute Spearman correlation coefficients from BigQuery tables\n",
    "URL:     https://github.com/isb-cgc/Community-Notebooks/blob/master/RegulomeExplorer/RE-SpearmanCorrelation.ipynb\n",
    "\n",
    "```\n",
    "***\n",
    "\n",
    "In this notebook we describe the computation of the Spearman correlation coefficient used by 'Regulome Explorer notebook' to estimate the significance of associations between two numerical data types, in this case the numerical data are the gene expression of two user defined genes. Details of the Spearman correlation can be found the following link: https://en.wikipedia.org/wiki/Spearman%27s_rank_correlation_coefficient\n",
    "\n",
    "To describe the implementation, we used the gene expression table in the pancancer-atlas dataset."
   ]
  },
  {
   "cell_type": "markdown",
   "metadata": {},
   "source": [
    "## Authenticate with Google  (IMPORTANT)\n",
    "The first step is to authorize access to BigQuery and the Google Cloud. For more information see ['Quick Start Guide to ISB-CGC'](https://isb-cancer-genomics-cloud.readthedocs.io/en/latest/sections/HowToGetStartedonISB-CGC.html) and alternative authentication methods can be found [here](https://googleapis.github.io/google-cloud-python/latest/core/auth.html)."
   ]
  },
  {
   "cell_type": "markdown",
   "metadata": {},
   "source": [
    "#### Import Python libraries"
   ]
  },
  {
   "cell_type": "code",
   "execution_count": 40,
   "metadata": {
    "collapsed": true
   },
   "outputs": [],
   "source": [
    "%matplotlib inline\n",
    "from google.cloud import bigquery\n",
    "import numpy as np\n",
    "import pandas as pd\n",
    "from scipy import stats\n",
    "from scipy.stats import mstats\n",
    "import seaborn as sns\n",
    "import re_module.bq_functions as regulome"
   ]
  },
  {
   "cell_type": "markdown",
   "metadata": {},
   "source": [
    "## User defined Parameters\n",
    "The parameters for this implementation are the cancer type and the name of the genes for which gene expression data will be obtained.   "
   ]
  },
  {
   "cell_type": "code",
   "execution_count": 44,
   "metadata": {
    "collapsed": true
   },
   "outputs": [],
   "source": [
    "cancer_type = 'UCEC'\n",
    "gene_expre1 = 'IGJ'\n",
    "gene_expre2 = 'ADAM6'\n",
    "\n",
    "\n",
    "bqclient = bigquery.Client()"
   ]
  },
  {
   "cell_type": "markdown",
   "metadata": {},
   "source": [
    "## Data from BigQuery tables"
   ]
  },
  {
   "cell_type": "markdown",
   "metadata": {},
   "source": [
    "**Gene expression data from gene1:** The following query string retrieves the gene expression of the user specified gene1 ('gene_expre1') from the 'Filtered.EBpp_AdjustPANCAN_IlluminaHiSeq_RNASeqV2_genExp_filtered' table available in pancancer-atlas dataset. The gene expression of a participant is computed as the average gene expression of the tumor samples of the participant."
   ]
  },
  {
   "cell_type": "code",
   "execution_count": 45,
   "metadata": {
    "collapsed": true
   },
   "outputs": [],
   "source": [
    "bigquery_table1 = 'pancancer-atlas.Filtered.EBpp_AdjustPANCAN_IlluminaHiSeq_RNASeqV2_genExp_filtered'\n",
    "query_table1 = \"\"\"table1 AS (\n",
    "SELECT Symbol, data, ParticipantBarcode\n",
    "FROM ( \n",
    "   SELECT \n",
    "         Symbol AS symbol, AVG( LOG10( normalized_count + 1 )) AS data, ParticipantBarcode\n",
    "   FROM  `{0}` \n",
    "   WHERE Study = '{1}' AND Symbol ='{2}' AND normalized_count IS NOT NULL         \n",
    "   GROUP BY \n",
    "         ParticipantBarcode, symbol\n",
    "   )\n",
    ")\n",
    "\"\"\".format( bigquery_table1, cancer_type, gene_expre1 )"
   ]
  },
  {
   "cell_type": "markdown",
   "metadata": {},
   "source": [
    "**Gene expression data from gene2:** The following string query will retrieve the gene expression of the user specified gene2 ('gene_expre2'). This is very similar to the query used for gene1."
   ]
  },
  {
   "cell_type": "code",
   "execution_count": 46,
   "metadata": {
    "collapsed": true
   },
   "outputs": [],
   "source": [
    "bigquery_table2 = 'pancancer-atlas.Filtered.EBpp_AdjustPANCAN_IlluminaHiSeq_RNASeqV2_genExp_filtered'\n",
    "query_table2 = \"\"\"table2 AS (\n",
    "SELECT Symbol, data, ParticipantBarcode\n",
    "FROM ( \n",
    "   SELECT \n",
    "         Symbol AS symbol, AVG( LOG10( normalized_count + 1 )) AS data, ParticipantBarcode\n",
    "   FROM  `{0}` \n",
    "   WHERE Study = '{1}' AND Symbol ='{2}' AND normalized_count IS NOT NULL         \n",
    "   GROUP BY \n",
    "         ParticipantBarcode, symbol\n",
    "   )\n",
    ")\n",
    "\"\"\".format( bigquery_table2, cancer_type, gene_expre2 )"
   ]
  },
  {
   "cell_type": "markdown",
   "metadata": {},
   "source": [
    "At this point we can take a look at the combined data (Gene expression of the two genes) by using a simple INNER  JOIN command. "
   ]
  },
  {
   "cell_type": "code",
   "execution_count": 47,
   "metadata": {},
   "outputs": [
    {
     "name": "stdout",
     "output_type": "stream",
     "text": [
      "\n",
      " in runQuery ... \n",
      "    this query processed 7757877633 bytes \n",
      "    Approx. elpased time : 2457 miliseconds \n"
     ]
    },
    {
     "data": {
      "text/html": [
       "<div>\n",
       "<table border=\"1\" class=\"dataframe\">\n",
       "  <thead>\n",
       "    <tr style=\"text-align: right;\">\n",
       "      <th></th>\n",
       "      <th>data1</th>\n",
       "      <th>data2</th>\n",
       "      <th>ParticipantBarcode</th>\n",
       "    </tr>\n",
       "  </thead>\n",
       "  <tbody>\n",
       "    <tr>\n",
       "      <th>1</th>\n",
       "      <td>2.572888</td>\n",
       "      <td>4.301257</td>\n",
       "      <td>TCGA-BG-A18A</td>\n",
       "    </tr>\n",
       "    <tr>\n",
       "      <th>2</th>\n",
       "      <td>1.155290</td>\n",
       "      <td>2.617346</td>\n",
       "      <td>TCGA-BG-A0MG</td>\n",
       "    </tr>\n",
       "    <tr>\n",
       "      <th>3</th>\n",
       "      <td>1.153967</td>\n",
       "      <td>2.329101</td>\n",
       "      <td>TCGA-EY-A2OQ</td>\n",
       "    </tr>\n",
       "    <tr>\n",
       "      <th>4</th>\n",
       "      <td>2.862271</td>\n",
       "      <td>4.081183</td>\n",
       "      <td>TCGA-AX-A05S</td>\n",
       "    </tr>\n",
       "    <tr>\n",
       "      <th>5</th>\n",
       "      <td>3.069799</td>\n",
       "      <td>4.540886</td>\n",
       "      <td>TCGA-A5-A0VP</td>\n",
       "    </tr>\n",
       "    <tr>\n",
       "      <th>6</th>\n",
       "      <td>2.510113</td>\n",
       "      <td>3.305727</td>\n",
       "      <td>TCGA-AJ-A2QL</td>\n",
       "    </tr>\n",
       "    <tr>\n",
       "      <th>7</th>\n",
       "      <td>4.204263</td>\n",
       "      <td>5.456267</td>\n",
       "      <td>TCGA-B5-A11N</td>\n",
       "    </tr>\n",
       "    <tr>\n",
       "      <th>8</th>\n",
       "      <td>2.432657</td>\n",
       "      <td>3.953174</td>\n",
       "      <td>TCGA-D1-A16E</td>\n",
       "    </tr>\n",
       "    <tr>\n",
       "      <th>9</th>\n",
       "      <td>2.515984</td>\n",
       "      <td>3.136607</td>\n",
       "      <td>TCGA-FL-A1YM</td>\n",
       "    </tr>\n",
       "  </tbody>\n",
       "</table>\n",
       "</div>"
      ],
      "text/plain": [
       "      data1     data2 ParticipantBarcode\n",
       "1  2.572888  4.301257       TCGA-BG-A18A\n",
       "2  1.155290  2.617346       TCGA-BG-A0MG\n",
       "3  1.153967  2.329101       TCGA-EY-A2OQ\n",
       "4  2.862271  4.081183       TCGA-AX-A05S\n",
       "5  3.069799  4.540886       TCGA-A5-A0VP\n",
       "6  2.510113  3.305727       TCGA-AJ-A2QL\n",
       "7  4.204263  5.456267       TCGA-B5-A11N\n",
       "8  2.432657  3.953174       TCGA-D1-A16E\n",
       "9  2.515984  3.136607       TCGA-FL-A1YM"
      ]
     },
     "execution_count": 47,
     "metadata": {},
     "output_type": "execute_result"
    }
   ],
   "source": [
    "sql_data = 'WITH\\n'+ query_table1 +','+ query_table2  \n",
    "\n",
    "sql = (sql_data + \n",
    "\"\"\"\n",
    "SELECT \n",
    "    n1.data as data1,  \n",
    "    n2.data as data2,  \n",
    "    n1.ParticipantBarcode\n",
    "FROM\n",
    "    table1 n1  \n",
    "INNER JOIN  table2   n2 \n",
    "ON  n1.ParticipantBarcode = n2.ParticipantBarcode\n",
    "\"\"\")\n",
    "\n",
    "df_data = regulome.runQuery ( bqclient, sql, [] , dryRun=False )\n",
    "df_data[1:10]"
   ]
  },
  {
   "cell_type": "markdown",
   "metadata": {},
   "source": [
    "To visualize the gene expression data of the two user defined genes, we can use a scatter plot:"
   ]
  },
  {
   "cell_type": "code",
   "execution_count": 48,
   "metadata": {},
   "outputs": [
    {
     "data": {
      "text/plain": [
       "<seaborn.axisgrid.FacetGrid at 0x7fe1b48c7588>"
      ]
     },
     "execution_count": 48,
     "metadata": {},
     "output_type": "execute_result"
    },
    {
     "data": {
      "image/png": "[encoded data removed]",
      "text/plain": [
       "<matplotlib.figure.Figure at 0x7fe1b493e0b8>"
      ]
     },
     "metadata": {},
     "output_type": "display_data"
    }
   ],
   "source": [
    "df_data.rename(columns={ \"data1\": gene_expre1, \"data2\": gene_expre2 }, inplace=True)\n",
    "sns.lmplot( x=gene_expre2, y=gene_expre1, data=df_data, fit_reg=False )"
   ]
  },
  {
   "cell_type": "markdown",
   "metadata": {},
   "source": [
    "##  BigQuery to Compute statistical association \n",
    "\n",
    "The Spearman correlation coefficient is defined as the Pearson correlation coefficient computed using ranked variables. BigQuery supports several statistical aggregate functions including a function to compute ['Pearson correlation'](https://cloud.google.com/bigquery/docs/reference/standard-sql/statistical_aggregate_functions#corr). Thus, the computation of the Spearman correlation is performed by the following steps:\n",
    "\n",
    "1. Combine the two tables containing the gene expression data\n",
    "2. Compute ranked gene expression data\n",
    "3. Use the Bigquery function CORR on the ranked data\n",
    "\n",
    "The following query performs steps 1 and 2. The two tables are combined by using a INNER JOIN command. There are several methods to rank numerical data, depending on what rank value is assigned to values that are equal, ['see this link'](https://www.geeksforgeeks.org/python-pandas-dataframe-rank/). Spearman correlation typically requires to  assign average of ranks to the similar values. Unfortunately, this method is not available as a simple BigQuery command. Nevertheles, the following query combines the RANK and COUNT BigQuery commands to generate the average ranked data.  "
   ]
  },
  {
   "cell_type": "code",
   "execution_count": 49,
   "metadata": {
    "collapsed": true
   },
   "outputs": [],
   "source": [
    "summ_table = \"\"\"summ_table AS (\n",
    "SELECT\n",
    "    (RANK() OVER ( ORDER BY n1.data ASC)) + (COUNT(*) OVER ( PARTITION BY CAST(n1.data as STRING)) - 1)/2.0 as rnkdata1,\n",
    "    (RANK() OVER ( ORDER BY n2.data ASC)) + (COUNT(*) OVER ( PARTITION BY CAST(n2.data as STRING)) - 1)/2.0 as rnkdata2,\n",
    "    n1.ParticipantBarcode\n",
    "FROM\n",
    "    table1 n1  \n",
    "INNER JOIN  table2   n2 \n",
    "ON  n1.ParticipantBarcode = n2.ParticipantBarcode\n",
    ")\n",
    "\"\"\""
   ]
  },
  {
   "cell_type": "markdown",
   "metadata": {},
   "source": [
    "Once the ranked data is computed, we use the following query that uses the CORR command to compute the Spearman correlation coefficient."
   ]
  },
  {
   "cell_type": "code",
   "execution_count": 50,
   "metadata": {},
   "outputs": [
    {
     "name": "stdout",
     "output_type": "stream",
     "text": [
      "\n",
      " in runQuery ... \n",
      "    this query processed 7757877633 bytes \n",
      "    Approx. elpased time : 1440 miliseconds \n"
     ]
    },
    {
     "data": {
      "text/html": [
       "<div>\n",
       "<table border=\"1\" class=\"dataframe\">\n",
       "  <thead>\n",
       "    <tr style=\"text-align: right;\">\n",
       "      <th></th>\n",
       "      <th>npatients</th>\n",
       "      <th>correlation</th>\n",
       "    </tr>\n",
       "  </thead>\n",
       "  <tbody>\n",
       "    <tr>\n",
       "      <th>0</th>\n",
       "      <td>540</td>\n",
       "      <td>0.918271</td>\n",
       "    </tr>\n",
       "  </tbody>\n",
       "</table>\n",
       "</div>"
      ],
      "text/plain": [
       "   npatients  correlation\n",
       "0        540     0.918271"
      ]
     },
     "execution_count": 50,
     "metadata": {},
     "output_type": "execute_result"
    }
   ],
   "source": [
    "query_corr = \"\"\"\n",
    "SELECT \n",
    "   COUNT(*) as npatients,\n",
    "   CORR( rnkdata1 , rnkdata2 ) as correlation\n",
    "FROM summ_table\n",
    "\"\"\"\n",
    "sql = ( sql_data  + ',\\n' + summ_table + query_corr )\n",
    "\n",
    "df_corr = regulome.runQuery ( bqclient, sql, [] , dryRun=False )\n",
    "df_corr"
   ]
  },
  {
   "cell_type": "markdown",
   "metadata": {},
   "source": [
    "To test our implementation we can use the 'spearmanr' function available in python:"
   ]
  },
  {
   "cell_type": "code",
   "execution_count": 51,
   "metadata": {},
   "outputs": [
    {
     "name": "stdout",
     "output_type": "stream",
     "text": [
      "SpearmanrResult(correlation=0.91827140086976378, pvalue=1.2724813661443188e-218)\n"
     ]
    }
   ],
   "source": [
    "print(  stats.spearmanr(df_data[ gene_expre1 ],df_data[gene_expre2])  )"
   ]
  },
  {
   "cell_type": "code",
   "execution_count": null,
   "metadata": {
    "collapsed": true
   },
   "outputs": [],
   "source": []
  }
 ],
 "metadata": {
  "kernelspec": {
   "display_name": "Python 3",
   "language": "python",
   "name": "python3"
  },
  "language_info": {
   "codemirror_mode": {
    "name": "ipython",
    "version": 3
   },
   "file_extension": ".py",
   "mimetype": "text/x-python",
   "name": "python",
   "nbconvert_exporter": "python",
   "pygments_lexer": "ipython3",
   "version": "3.5.4"
  }
 },
 "nbformat": 4,
 "nbformat_minor": 2
}
