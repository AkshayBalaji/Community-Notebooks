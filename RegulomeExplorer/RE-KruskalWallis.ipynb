{
 "cells": [
  {
   "cell_type": "markdown",
   "metadata": {},
   "source": [
    "# Regulome Explorer  Kruskal-Wallis test for numerical and categorical data\n",
    "\n",
    "In this notebook we describe how Regulome Explorer uses Kruskal-Wallis test to compute the significance of associations between a numerical feature (Gene expression, Somatic copy number, etc.) and a categorical feature. Details of the Kruskal-Wallist test can be found in the following link: https://en.wikipedia.org/wiki/Kruskal%E2%80%93Wallis_one-way_analysis_of_variance \n",
    "\n",
    "To describe the implementation of the test using BigQuery, we will use Gene expresion data of a user defined gene and a user defined clinical feature. This data is read from a BigQuery table in the pancancer-atlas dataset."
   ]
  },
  {
   "cell_type": "markdown",
   "metadata": {},
   "source": [
    "## Authenticate with Google  (IMPORTANT)\n",
    "The first step is to authorize access to BigQuery and the Google Cloud. For more information see ['Quick Start Guide to ISB-CGC'](https://isb-cancer-genomics-cloud.readthedocs.io/en/latest/sections/HowToGetStartedonISB-CGC.html) and alternative authentication methods can be found [here](https://googleapis.github.io/google-cloud-python/latest/core/auth.html)."
   ]
  },
  {
   "cell_type": "markdown",
   "metadata": {},
   "source": [
    "#### Import Python libraries"
   ]
  },
  {
   "cell_type": "code",
   "execution_count": 105,
   "metadata": {},
   "outputs": [],
   "source": [
    "from google.cloud import bigquery\n",
    "import numpy as np\n",
    "import pandas as pd\n",
    "from scipy import stats\n",
    "from scipy.stats import mstats\n",
    "import seaborn as sns\n",
    "import re_module.bq_functions as regulome"
   ]
  },
  {
   "cell_type": "markdown",
   "metadata": {},
   "source": [
    "## User defined Parameters\n",
    "The parameters for this experiment are the cancer type, the name of gene for which gene expression data will be obtained, and the clinical feature name. Categorical groups with number of samples smaller than 'MinSampleSize' will be ignored in the test.   "
   ]
  },
  {
   "cell_type": "code",
   "execution_count": 116,
   "metadata": {},
   "outputs": [],
   "source": [
    "cancer_type = 'BRCA'\n",
    "gene_name = 'PGR'\n",
    "clinical_feature = 'breast_carcinoma_progesterone_receptor_status'\n",
    "MinSampleSize = 10\n",
    "\n",
    "bqclient = bigquery.Client()"
   ]
  },
  {
   "cell_type": "markdown",
   "metadata": {},
   "source": [
    "## Data from BigQuery tables"
   ]
  },
  {
   "cell_type": "markdown",
   "metadata": {},
   "source": [
    "**Gene expression data from the BigQuery:** The following query string retrieves the gene expression data of the user specified gene ('gene_name') from the 'Filtered.EBpp_AdjustPANCAN_IlluminaHiSeq_RNASeqV2_genExp_filtered' table available in pancancer-atlas dataset."
   ]
  },
  {
   "cell_type": "code",
   "execution_count": 117,
   "metadata": {},
   "outputs": [],
   "source": [
    "query_table1 = \"\"\"table1 AS (\n",
    "SELECT  symbol, data, ParticipantBarcode\n",
    "FROM ( \n",
    "   SELECT \n",
    "         Symbol AS symbol, AVG( LOG10( normalized_count + 1 )) AS data, ParticipantBarcode\n",
    "   FROM  `pancancer-atlas.Filtered.EBpp_AdjustPANCAN_IlluminaHiSeq_RNASeqV2_genExp_filtered` \n",
    "   WHERE Study = '{0}' AND Symbol ='{1}' AND normalized_count IS NOT NULL\n",
    "   GROUP BY \n",
    "         ParticipantBarcode, symbol\n",
    "   )\n",
    ")\n",
    "\"\"\".format(cancer_type, gene_name )"
   ]
  },
  {
   "cell_type": "markdown",
   "metadata": {},
   "source": [
    "**Clinical data from the BigQuery:** The following string query will retrieve clinical data fromthe 'pancancer-atlas.Filtered.clinical_PANCAN_patient_with_followup_filtered' table available in pancancer-atlas dataset. It is worth noting that some of the values of the clinical feature may be 'indetermined' or 'not-evaluated'; typically these values are inside square brackets. The 'REGEXP_CONTAINS' command is used to avoid using those values in the test."
   ]
  },
  {
   "cell_type": "code",
   "execution_count": 119,
   "metadata": {},
   "outputs": [],
   "source": [
    "query_table2 = \"\"\"table2 AS (\n",
    "SELECT\n",
    "   symbol,\n",
    "   avgdata AS data,\n",
    "   ParticipantBarcode\n",
    "FROM (\n",
    "   SELECT\n",
    "      '{0}' AS symbol, \n",
    "      {0} AS avgdata,\n",
    "      bcr_patient_barcode AS ParticipantBarcode\n",
    "   FROM `pancancer-atlas.Filtered.clinical_PANCAN_patient_with_followup_filtered`\n",
    "   WHERE acronym = '{1}' AND {0} IS NOT NULL  \n",
    "         AND NOT REGEXP_CONTAINS({0},r\"^(\\[.*\\]$)\")     \n",
    "   )\n",
    ")\n",
    "\"\"\".format(clinical_feature, cancer_type)"
   ]
  },
  {
   "cell_type": "markdown",
   "metadata": {},
   "source": [
    "The following query combines the two tables based on Participant barcodes. T"
   ]
  },
  {
   "cell_type": "code",
   "execution_count": 120,
   "metadata": {},
   "outputs": [],
   "source": [
    "table_data = \"\"\"table_data AS (\n",
    "SELECT \n",
    "   n1.data as data1,\n",
    "   n2.data as data2,\n",
    "   n1.ParticipantBarcode\n",
    "FROM\n",
    "   table1 AS n1\n",
    "INNER JOIN\n",
    "   table2 AS n2\n",
    "ON\n",
    "   n1.ParticipantBarcode = n2.ParticipantBarcode\n",
    ") \n",
    "\"\"\""
   ]
  },
  {
   "cell_type": "markdown",
   "metadata": {},
   "source": [
    "At this point we can take a look at output table"
   ]
  },
  {
   "cell_type": "code",
   "execution_count": 121,
   "metadata": {},
   "outputs": [
    {
     "name": "stdout",
     "output_type": "stream",
     "text": [
      "\n",
      " in runQuery ... \n",
      "    the results for this query were previously cached \n"
     ]
    },
    {
     "data": {
      "text/html": [
       "<div>\n",
       "<style scoped>\n",
       "    .dataframe tbody tr th:only-of-type {\n",
       "        vertical-align: middle;\n",
       "    }\n",
       "\n",
       "    .dataframe tbody tr th {\n",
       "        vertical-align: top;\n",
       "    }\n",
       "\n",
       "    .dataframe thead th {\n",
       "        text-align: right;\n",
       "    }\n",
       "</style>\n",
       "<table border=\"1\" class=\"dataframe\">\n",
       "  <thead>\n",
       "    <tr style=\"text-align: right;\">\n",
       "      <th></th>\n",
       "      <th>data1</th>\n",
       "      <th>data2</th>\n",
       "      <th>ParticipantBarcode</th>\n",
       "    </tr>\n",
       "  </thead>\n",
       "  <tbody>\n",
       "    <tr>\n",
       "      <th>1</th>\n",
       "      <td>2.436540</td>\n",
       "      <td>Indeterminate</td>\n",
       "      <td>TCGA-BH-A1F0</td>\n",
       "    </tr>\n",
       "    <tr>\n",
       "      <th>2</th>\n",
       "      <td>3.280387</td>\n",
       "      <td>Indeterminate</td>\n",
       "      <td>TCGA-AN-A0FW</td>\n",
       "    </tr>\n",
       "    <tr>\n",
       "      <th>3</th>\n",
       "      <td>2.941004</td>\n",
       "      <td>Indeterminate</td>\n",
       "      <td>TCGA-B6-A0IO</td>\n",
       "    </tr>\n",
       "    <tr>\n",
       "      <th>4</th>\n",
       "      <td>1.491170</td>\n",
       "      <td>Negative</td>\n",
       "      <td>TCGA-AN-A0AM</td>\n",
       "    </tr>\n",
       "    <tr>\n",
       "      <th>5</th>\n",
       "      <td>2.387554</td>\n",
       "      <td>Negative</td>\n",
       "      <td>TCGA-LL-A441</td>\n",
       "    </tr>\n",
       "    <tr>\n",
       "      <th>6</th>\n",
       "      <td>1.644965</td>\n",
       "      <td>Negative</td>\n",
       "      <td>TCGA-A7-A26I</td>\n",
       "    </tr>\n",
       "    <tr>\n",
       "      <th>7</th>\n",
       "      <td>1.080778</td>\n",
       "      <td>Negative</td>\n",
       "      <td>TCGA-GM-A2DF</td>\n",
       "    </tr>\n",
       "    <tr>\n",
       "      <th>8</th>\n",
       "      <td>1.024297</td>\n",
       "      <td>Negative</td>\n",
       "      <td>TCGA-BH-A5IZ</td>\n",
       "    </tr>\n",
       "    <tr>\n",
       "      <th>9</th>\n",
       "      <td>1.117742</td>\n",
       "      <td>Negative</td>\n",
       "      <td>TCGA-EW-A3U0</td>\n",
       "    </tr>\n",
       "  </tbody>\n",
       "</table>\n",
       "</div>"
      ],
      "text/plain": [
       "      data1          data2 ParticipantBarcode\n",
       "1  2.436540  Indeterminate       TCGA-BH-A1F0\n",
       "2  3.280387  Indeterminate       TCGA-AN-A0FW\n",
       "3  2.941004  Indeterminate       TCGA-B6-A0IO\n",
       "4  1.491170       Negative       TCGA-AN-A0AM\n",
       "5  2.387554       Negative       TCGA-LL-A441\n",
       "6  1.644965       Negative       TCGA-A7-A26I\n",
       "7  1.080778       Negative       TCGA-GM-A2DF\n",
       "8  1.024297       Negative       TCGA-BH-A5IZ\n",
       "9  1.117742       Negative       TCGA-EW-A3U0"
      ]
     },
     "execution_count": 121,
     "metadata": {},
     "output_type": "execute_result"
    }
   ],
   "source": [
    "sql_data = 'WITH\\n' +query_table1+','+query_table2+','+table_data \n",
    "\n",
    "sql = (sql_data + '\\n' +\n",
    "\"\"\"SELECT * FROM table_data \n",
    "   ORDER BY  data2\n",
    "\"\"\")\n",
    "\n",
    "\n",
    "df_data = regulome.runQuery ( bqclient, sql, [] , dryRun=False )\n",
    "df_data[1:10]"
   ]
  },
  {
   "cell_type": "markdown",
   "metadata": {},
   "source": [
    "We can use a 'violinplot' to visualize the populations in each category. "
   ]
  },
  {
   "cell_type": "code",
   "execution_count": 122,
   "metadata": {},
   "outputs": [
    {
     "data": {
      "text/plain": [
       "<matplotlib.axes._subplots.AxesSubplot at 0x1a1e5ba128>"
      ]
     },
     "execution_count": 122,
     "metadata": {},
     "output_type": "execute_result"
    },
    {
     "data": {
      "image/png": "[encoded data removed]",
      "text/plain": [
       "<Figure size 432x288 with 1 Axes>"
      ]
     },
     "metadata": {
      "needs_background": "light"
     },
     "output_type": "display_data"
    }
   ],
   "source": [
    "new_data = df_data[ df_data.data2.str.contains('^\\[.*\\]$',na=True,regex=True) == False ]\n",
    "new_data.rename(columns={ \"data1\": gene_name , \"data2\": clinical_feature }, inplace=True)\n",
    "        \n",
    "sns.violinplot( x=new_data[clinical_feature], y=new_data[gene_name], palette=\"Pastel1\")"
   ]
  },
  {
   "cell_type": "markdown",
   "metadata": {},
   "source": [
    "##  BigQuery to Compute statistical association \n",
    "\n",
    "The Kruskal-Wallis score (H) is computed by using the following equation: \n",
    "\n",
    "$$H = \\frac{(N-1)\\sum_{i=1}^{g} n_i (\\bar{r_{i}} -\\bar{r} )^2 }{ \\sum_{i=1}^{g} \\sum_{j=1}^{n_i} (r_{ij}-\\bar{r})^2   }$$\n",
    "where\n",
    "\n",
    "- $n_i$ is the number of observations in category $i$\n",
    "- $r_{ij}$ is the rank (among all participants) of the gene expression of participant $j$ that belongs to category $i$\n",
    "- $N$ is the total number of participants considered in the test\n",
    "- $\\bar{r_i}$ is the averange rank of gene expression values for particpants in category $i$\n",
    "- $\\bar{r}$ is the average of all $r_{ij}$\n",
    "\n",
    "To avoid reading that table multiple times, we rearranged the equations above as :\n",
    "\n",
    "$$H = (N-1)\\frac{ \\sum_{i=1}^{g}S_i^2/n_i - (\\sum_{i=1}^{g}S_i)^2 / N }{ \\sum_{i=1}^{g}Q_i - (\\sum_{i=1}^{g}S_i)^2 / N }$$\n",
    "\n",
    "Where $S_i = \\sum_{j=1}^{n_i}r_{ij}$ and  $Q_i = \\sum_{j=1}^{n_i}r_{ij}^2$\n",
    "\n",
    "The following query string computes $S_i$ and $Q_i$:"
   ]
  },
  {
   "cell_type": "code",
   "execution_count": 123,
   "metadata": {},
   "outputs": [],
   "source": [
    "summ_table = \"\"\"\n",
    "summ_table  AS (\n",
    "SELECT \n",
    "   COUNT( ParticipantBarcode) AS ni,\n",
    "   SUM( rnkdata ) AS Si,\n",
    "   SUM( rnkdata * rnkdata ) AS Qi,\n",
    "   data2\n",
    "FROM (    \n",
    "   SELECT \n",
    "      (RANK() OVER (ORDER BY data1 ASC)) + (COUNT(*) OVER ( PARTITION BY CAST(data1 as STRING)) - 1)/2.0 AS rnkdata,\n",
    "      data2, ParticipantBarcode\n",
    "   FROM\n",
    "      table_data \n",
    "   WHERE data2 IN ( SELECT data2 from table_data GROUP BY data2 HAVING count(data2)>{0} )   \n",
    ")\n",
    "GROUP BY\n",
    "   data2\n",
    ")\n",
    "\"\"\".format( str(MinSampleSize) )"
   ]
  },
  {
   "cell_type": "markdown",
   "metadata": {},
   "source": [
    "The query above ingnores the categories that have a number of participants smaller or equal than 'MinSampleSize'. Moreover, the gene expression is ranked, assigning **average** of ranks to the similar values( https://docs.scipy.org/doc/scipy-0.16.0/reference/generated/scipy.stats.rankdata.html). Finally, The Kruskall-Wallis score ($H$) is computed by the following BigQuery string. "
   ]
  },
  {
   "cell_type": "code",
   "execution_count": 124,
   "metadata": {},
   "outputs": [
    {
     "name": "stdout",
     "output_type": "stream",
     "text": [
      "\n",
      " in runQuery ... \n",
      "    the results for this query were previously cached \n"
     ]
    },
    {
     "data": {
      "text/html": [
       "<div>\n",
       "<style scoped>\n",
       "    .dataframe tbody tr th:only-of-type {\n",
       "        vertical-align: middle;\n",
       "    }\n",
       "\n",
       "    .dataframe tbody tr th {\n",
       "        vertical-align: top;\n",
       "    }\n",
       "\n",
       "    .dataframe thead th {\n",
       "        text-align: right;\n",
       "    }\n",
       "</style>\n",
       "<table border=\"1\" class=\"dataframe\">\n",
       "  <thead>\n",
       "    <tr style=\"text-align: right;\">\n",
       "      <th></th>\n",
       "      <th>Ngroups</th>\n",
       "      <th>Nsamples</th>\n",
       "      <th>Hscore</th>\n",
       "    </tr>\n",
       "  </thead>\n",
       "  <tbody>\n",
       "    <tr>\n",
       "      <th>0</th>\n",
       "      <td>2</td>\n",
       "      <td>1030</td>\n",
       "      <td>473.928233</td>\n",
       "    </tr>\n",
       "  </tbody>\n",
       "</table>\n",
       "</div>"
      ],
      "text/plain": [
       "   Ngroups  Nsamples      Hscore\n",
       "0        2      1030  473.928233"
      ]
     },
     "execution_count": 124,
     "metadata": {},
     "output_type": "execute_result"
    }
   ],
   "source": [
    "query_hscore = \"\"\"\n",
    "SELECT \n",
    "    Ngroups,\n",
    "    N as Nsamples,        \n",
    "    (N-1)*( sumSi2overni - (sumSi *sumSi)/N ) / (  sumQi  - (sumSi *sumSi)/N )    AS  Hscore \n",
    "FROM (\n",
    "  SELECT \n",
    "      SUM( ni ) As N, \n",
    "      SUM( Si ) AS sumSi,\n",
    "      SUM( Qi ) AS sumQi,\n",
    "      SUM( Si * Si  / ni ) AS sumSi2overni,\n",
    "      COUNT ( data2 ) AS Ngroups    \n",
    "  FROM  summ_table\n",
    "  )\n",
    "WHERE \n",
    "   Ngroups > 1\n",
    "ORDER BY Hscore DESC\n",
    "\"\"\"\n",
    "\n",
    "sql = ( sql_data + ',\\n' + summ_table + query_hscore )\n",
    "df_hscore = regulome.runQuery ( bqclient, sql, [] , dryRun=False )\n",
    "df_hscore"
   ]
  },
  {
   "cell_type": "markdown",
   "metadata": {},
   "source": [
    "To test our implementation we can use the 'kruskalwallis' function available in python:"
   ]
  },
  {
   "cell_type": "code",
   "execution_count": 125,
   "metadata": {},
   "outputs": [
    {
     "name": "stdout",
     "output_type": "stream",
     "text": [
      "KruskalResult(statistic=473.92823340882796, pvalue=4.476760792858192e-105)\n"
     ]
    }
   ],
   "source": [
    "CategoryData = []\n",
    "CategoryNames = [] \n",
    "\n",
    "for name, group in new_data.groupby( clinical_feature ) :\n",
    "    data =  group[ gene_name ].values \n",
    "       \n",
    "    if ( len( data ) > MinSampleSize ) :\n",
    "   \n",
    "         CategoryData.append( data )\n",
    "         CategoryNames.append( name )\n",
    "                \n",
    "if len( CategoryData ) > 1 :\n",
    "    print( mstats.kruskalwallis( *[ mydata for mydata in CategoryData   ] ) )\n",
    "            \n",
    "\n"
   ]
  },
  {
   "cell_type": "code",
   "execution_count": null,
   "metadata": {},
   "outputs": [],
   "source": []
  }
 ],
 "metadata": {
  "kernelspec": {
   "display_name": "Python 3",
   "language": "python",
   "name": "python3"
  },
  "language_info": {
   "codemirror_mode": {
    "name": "ipython",
    "version": 3
   },
   "file_extension": ".py",
   "mimetype": "text/x-python",
   "name": "python",
   "nbconvert_exporter": "python",
   "pygments_lexer": "ipython3",
   "version": "3.7.1"
  }
 },
 "nbformat": 4,
 "nbformat_minor": 2
}
