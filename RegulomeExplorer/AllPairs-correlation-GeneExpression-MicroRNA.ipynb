{
 "cells": [
  {
   "cell_type": "markdown",
   "metadata": {},
   "source": [
    "# All pairwise associations between Gene Expression and MicroRNA data in TCGA\n",
    "Check out more notebooks at our ['Regulome Explorer Repository'](https://github.com/isb-cgc/Community-Notebooks/tree/master/RegulomeExplorer)!\n",
    "\n",
    "\n",
    "```\n",
    "Title:   All pairwise associations between Gene Expression and MicroRNA data in TCGA\n",
    "Author:  Boris Aguilar\n",
    "Created: 03-11-2020\n",
    "Purpose: Demonstrate how to use the Regulome explorer functionality to find significant associations from Gene expression and microRNA BigQuery tables\n",
    "URL:     https://github.com/isb-cgc/Community-Notebooks/blob/master/Correlation-GeneExpression-MicroRNA\n",
    "\n",
    "\n",
    "```\n",
    "***\n",
    "\n",
    "In this notebook, we use BigQuery to find significant associations between all possible pairs of genes and unique identifiers available in the RNAseq and microRNA data available in TCGA. The cohort for this analysis consists of BrCA patients with less than 50 years at the time of diagnosis, with II, IIA, IIB pathological stage, race white or black, and excluding patients with hispanic or latino ethnicity.\n",
    "\n",
    "To find significant associations between RNAseq and microRNA, we used Bigquery to compute Pearson correlation between all possible pairs. The necessary Queries are generated using functions implemented in the [Regulome Explorer module](https://github.com/isb-cgc/Community-Notebooks/tree/master/RegulomeExplorer/re_module). "
   ]
  },
  {
   "cell_type": "markdown",
   "metadata": {},
   "source": [
    "### Authentication\n",
    "The first step is to authorize access to BigQuery and the Google Cloud. For more information see ['Quick Start Guide to ISB-CGC'](https://isb-cancer-genomics-cloud.readthedocs.io/en/latest/sections/HowToGetStartedonISB-CGC.html) and alternative authentication methods can be found [here](https://googleapis.github.io/google-cloud-python/latest/core/auth.html)."
   ]
  },
  {
   "cell_type": "code",
   "execution_count": 36,
   "metadata": {},
   "outputs": [],
   "source": [
    "#%load_ext autoreload\n",
    "#%autoreload 2\n",
    "%matplotlib inline\n",
    "from google.cloud import bigquery\n",
    "import seaborn as sns\n",
    "from scipy import stats\n",
    "import re_module.bq_functions as regulome"
   ]
  },
  {
   "cell_type": "markdown",
   "metadata": {},
   "source": [
    "### Parameters\n",
    "In this experiment we will use Gene expression data and micro RNA data available in ISB-CGC. The information about the Bigquery tables and their columns are stored in the Features dictionary. The desired significance level and the minimum number of patients for the correlation computations are free parameteres that can be changed.\n",
    "\n",
    "If you want to test this notebook checking all possible pairs please replace \"labels1 = ...\" with \"labels1 = ' IS NOT NULL '\" but know the computations will take several minutes to complete, we recommend to generate the query and copy it in the console."
   ]
  },
  {
   "cell_type": "code",
   "execution_count": 37,
   "metadata": {},
   "outputs": [],
   "source": [
    "# information from Bigquery tables\n",
    "Features = {     'Gene Expression' : { 'table'  : 'isb-cgc.TCGA_hg38_data_v0.RNAseq_Gene_Expression',\n",
    "                                       'symbol' : 'gene_name',\n",
    "                                       'study'  : 'project_short_name',\n",
    "                                       'data'   : 'AVG( LOG10( HTSeq__Counts + 1 ) ) ',\n",
    "                                       'rnkdata': 'data',\n",
    "                                       'avgdat' : 'avgdata',  \n",
    "                                   'patientcode': 'case_barcode',\n",
    "                                    'samplecode': 'sample_barcode',\n",
    "                                       'where'  : 'AND HTSeq__Counts IS NOT NULL',\n",
    "                                       'dattype': 'numeric' },\n",
    "             'MicroRNA Expression': {  'table'  : 'isb-cgc.TCGA_hg38_data_v0.miRNAseq_Expression',\n",
    "                                       'symbol' : 'mirna_id',\n",
    "                                        'study' : 'project_short_name',\n",
    "                                       'data'   : 'AVG( reads_per_million_miRNA_mapped )',\n",
    "                                       'rnkdata': 'data',\n",
    "                                       'avgdat' : 'avgdata',\n",
    "                                   'patientcode': 'case_barcode',\n",
    "                                    'samplecode': 'sample_barcode',\n",
    "                                       'where'  : 'AND reads_per_million_miRNA_mapped IS NOT NULL',\n",
    "                                       'dattype': 'numeric'}\n",
    "                \n",
    "               }\n",
    "\n",
    "# parameteres for Gene expression data\n",
    "feat1 = Features['Gene Expression']\n",
    "cohort1 = feat1['patientcode'] + \" IN ( SELECT case_barcode FROM cohort ) \"  #\" IN UNNEST(@PATIENTLIST) \"\n",
    "labels1 = ' = \\'IGLVV-66\\' '  # ' IS NOT NULL ' use this for all pair-wise comaprison. Change IGLVV-66 for your favorite gene \n",
    "\n",
    "# parameteres for Gene expression data\n",
    "feat2 = Features['MicroRNA Expression'] \n",
    "cohort2 = feat2['patientcode'] + \" IN ( SELECT case_barcode FROM cohort ) \" # \" IN UNNEST(@PATIENTLIST) \"\n",
    "labels2 = ' IS NOT NULL '\n",
    "\n",
    "# minimum correlation\n",
    "significance_level = 0.01\n",
    "\n",
    "# minimun number of samples\n",
    "nsamples = 25"
   ]
  },
  {
   "cell_type": "markdown",
   "metadata": {},
   "source": [
    "### Read cohort\n",
    "The cohort for this analysis consists of BrCA patients with less than 50 years at the time of diagnosis, with II, IIA, IIB pathological stage, race white or black, and excluding patients with hispanic or latino ethnicity."
   ]
  },
  {
   "cell_type": "code",
   "execution_count": 38,
   "metadata": {},
   "outputs": [],
   "source": [
    "cohort = \"\"\"\n",
    "cohort AS(\n",
    "SELECT case_barcode FROM `isb-cgc.TCGA_bioclin_v0.Clinical`\n",
    "WHERE project_short_name = \"TCGA-BRCA\" AND age_at_diagnosis <=50 AND\n",
    "    pathologic_stage IN ('Stage II', 'Stage IIA', 'Stage IIB') AND\n",
    "    race IN ('WHITE', 'BLACK OR AFRICAN AMERICAN') AND ethnicity = \"NOT HISPANIC OR LATINO\"\n",
    ")\n",
    "\"\"\""
   ]
  },
  {
   "cell_type": "markdown",
   "metadata": {},
   "source": [
    "### Queries to read tables\n",
    "The queries to retreive the necessary data, query_t1 for Gene expression and query_t2 for micro RNA, are generated using a function available in the regulome explorer module available in here https://github.com/isb-cgc/Community-Notebooks/tree/master/RegulomeExplorer/re_module.  "
   ]
  },
  {
   "cell_type": "code",
   "execution_count": 39,
   "metadata": {},
   "outputs": [],
   "source": [
    "query_t1 = regulome.generic_numeric_bqtable ( 'table1' , feat1, cohort1, labels1 )\n",
    "query_t2 = regulome.generic_numeric_bqtable ( 'table2' , feat2, cohort2, labels2 ) "
   ]
  },
  {
   "cell_type": "markdown",
   "metadata": {},
   "source": [
    "### Queries to join tables and perform statistics\n",
    "The two tables are integrated into one table to compute correlations. The query to perform these operations is obtained by using a function implemented in the regulome explorer module.  'sql' contains the complete query to perform the desired correlations.  You can copy the query (which is printed ) to the Bigquery - Google cloud console to run the query and obtain the results. The computations can take 15 minutes. Alternatively you can go to \"Run the Query\" section of this notebooks. \n",
    "\n",
    "Note: `cgc-05-0042.Auxiliary.significance_level_ttest2` is a [persistent function](https://cloud.google.com/bigquery/docs/reference/standard-sql/user-defined-functions)  that estimates upper bounds of p-vaues ( significance levels ), so we can filter out correlations that are not statistically significant ( alpha > significance_level )."
   ]
  },
  {
   "cell_type": "code",
   "execution_count": 40,
   "metadata": {},
   "outputs": [
    {
     "name": "stdout",
     "output_type": "stream",
     "text": [
      "WITH\n",
      "cohort AS(\n",
      "SELECT case_barcode FROM `isb-cgc.TCGA_bioclin_v0.Clinical`\n",
      "WHERE project_short_name = \"TCGA-BRCA\" AND age_at_diagnosis <=50 AND\n",
      "    pathologic_stage IN ('Stage II', 'Stage IIA', 'Stage IIB') AND\n",
      "    race IN ('WHITE', 'BLACK OR AFRICAN AMERICAN') AND ethnicity = \"NOT HISPANIC OR LATINO\"\n",
      ")\n",
      ",\n",
      "table1 AS (\n",
      "SELECT\n",
      "   symbol,\n",
      "   data AS rnkdata,\n",
      "   ParticipantBarcode\n",
      "FROM (\n",
      "   SELECT\n",
      "      gene_name AS symbol, \n",
      "      AVG( LOG10( HTSeq__Counts + 1 ) )  AS data,\n",
      "      case_barcode AS ParticipantBarcode\n",
      "   FROM `isb-cgc.TCGA_hg38_data_v0.RNAseq_Gene_Expression`\n",
      "   WHERE case_barcode IN ( SELECT case_barcode FROM cohort )     # cohort \n",
      "         AND gene_name  = 'IGLVV-66'   # labels \n",
      "         AND HTSeq__Counts IS NOT NULL  \n",
      "   GROUP BY\n",
      "      ParticipantBarcode, symbol\n",
      "   )\n",
      ")\n",
      ",\n",
      "table2 AS (\n",
      "SELECT\n",
      "   symbol,\n",
      "   data AS rnkdata,\n",
      "   ParticipantBarcode\n",
      "FROM (\n",
      "   SELECT\n",
      "      mirna_id AS symbol, \n",
      "      AVG( reads_per_million_miRNA_mapped ) AS data,\n",
      "      case_barcode AS ParticipantBarcode\n",
      "   FROM `isb-cgc.TCGA_hg38_data_v0.miRNAseq_Expression`\n",
      "   WHERE case_barcode IN ( SELECT case_barcode FROM cohort )     # cohort \n",
      "         AND mirna_id  IS NOT NULL   # labels \n",
      "         AND reads_per_million_miRNA_mapped IS NOT NULL  \n",
      "   GROUP BY\n",
      "      ParticipantBarcode, symbol\n",
      "   )\n",
      ")\n",
      ",\n",
      "summ_table AS (\n",
      "SELECT \n",
      "   n1.symbol as symbol1,\n",
      "   n2.symbol as symbol2,\n",
      "   COUNT( n1.ParticipantBarcode ) as n,\n",
      "   CORR(n1.rnkdata , n2.rnkdata) as correlation\n",
      "    \n",
      "FROM\n",
      "   table1 AS n1\n",
      "INNER JOIN\n",
      "   table2 AS n2\n",
      "ON\n",
      "   n1.ParticipantBarcode = n2.ParticipantBarcode\n",
      "   \n",
      "GROUP BY\n",
      "   symbol1, symbol2\n",
      ")\n",
      "SELECT *,\n",
      "   `cgc-05-0042.Auxiliary.significance_level_ttest2`(n-2, ABS(correlation)*SQRT( (n-2)/((1+correlation)*(1-correlation)))) as alpha\n",
      "FROM summ_table\n",
      "WHERE n > 25 AND ABS(correlation) < 0.9999\n",
      "GROUP BY 1,2,3,4,5\n",
      "HAVING alpha <= 0.01\n",
      "ORDER BY alpha ASC, correlation DESC\n",
      "\n"
     ]
    }
   ],
   "source": [
    "summ_query = regulome.get_summarized_table('Gene Expression',feat1,'MicroRNA Expression',feat2)\n",
    "\n",
    "sql = ( 'WITH' + cohort + ',' + query_t1 + ',' + query_t2 + ',' + summ_query + \"\"\"\n",
    "SELECT *,\n",
    "   `cgc-05-0042.Auxiliary.significance_level_ttest2`(n-2, ABS(correlation)*SQRT( (n-2)/((1+correlation)*(1-correlation)))) as alpha\n",
    "FROM summ_table\n",
    "WHERE n > {0} AND ABS(correlation) < 0.9999\n",
    "GROUP BY 1,2,3,4,5\n",
    "HAVING alpha <= {1}\n",
    "ORDER BY alpha ASC, correlation DESC\n",
    "\"\"\".format( str(nsamples) , str(significance_level) ) )\n",
    "\n",
    "print( sql )  # THIS Query perform the computations"
   ]
  },
  {
   "cell_type": "markdown",
   "metadata": {},
   "source": [
    "### Run the Query\n",
    "The following steps run BigQuery and generate a table with significant associations.\n",
    "Note: alpha is an upper bound of the significant level. "
   ]
  },
  {
   "cell_type": "code",
   "execution_count": 41,
   "metadata": {},
   "outputs": [
    {
     "name": "stdout",
     "output_type": "stream",
     "text": [
      "\n",
      " in runQuery ... \n",
      "    the results for this query were previously cached \n"
     ]
    },
    {
     "data": {
      "text/html": [
       "<div>\n",
       "<style scoped>\n",
       "    .dataframe tbody tr th:only-of-type {\n",
       "        vertical-align: middle;\n",
       "    }\n",
       "\n",
       "    .dataframe tbody tr th {\n",
       "        vertical-align: top;\n",
       "    }\n",
       "\n",
       "    .dataframe thead th {\n",
       "        text-align: right;\n",
       "    }\n",
       "</style>\n",
       "<table border=\"1\" class=\"dataframe\">\n",
       "  <thead>\n",
       "    <tr style=\"text-align: right;\">\n",
       "      <th></th>\n",
       "      <th>symbol1</th>\n",
       "      <th>symbol2</th>\n",
       "      <th>n</th>\n",
       "      <th>correlation</th>\n",
       "      <th>alpha</th>\n",
       "    </tr>\n",
       "  </thead>\n",
       "  <tbody>\n",
       "    <tr>\n",
       "      <td>0</td>\n",
       "      <td>IGLVV-66</td>\n",
       "      <td>hsa-mir-124-3</td>\n",
       "      <td>135</td>\n",
       "      <td>0.999628</td>\n",
       "      <td>0.0001</td>\n",
       "    </tr>\n",
       "    <tr>\n",
       "      <td>1</td>\n",
       "      <td>IGLVV-66</td>\n",
       "      <td>hsa-mir-124-1</td>\n",
       "      <td>135</td>\n",
       "      <td>0.999431</td>\n",
       "      <td>0.0001</td>\n",
       "    </tr>\n",
       "    <tr>\n",
       "      <td>2</td>\n",
       "      <td>IGLVV-66</td>\n",
       "      <td>hsa-mir-124-2</td>\n",
       "      <td>135</td>\n",
       "      <td>0.999174</td>\n",
       "      <td>0.0001</td>\n",
       "    </tr>\n",
       "    <tr>\n",
       "      <td>3</td>\n",
       "      <td>IGLVV-66</td>\n",
       "      <td>hsa-mir-153-1</td>\n",
       "      <td>135</td>\n",
       "      <td>0.706516</td>\n",
       "      <td>0.0001</td>\n",
       "    </tr>\n",
       "    <tr>\n",
       "      <td>4</td>\n",
       "      <td>IGLVV-66</td>\n",
       "      <td>hsa-mir-3166</td>\n",
       "      <td>135</td>\n",
       "      <td>0.666669</td>\n",
       "      <td>0.0001</td>\n",
       "    </tr>\n",
       "    <tr>\n",
       "      <td>5</td>\n",
       "      <td>IGLVV-66</td>\n",
       "      <td>hsa-mir-1224</td>\n",
       "      <td>135</td>\n",
       "      <td>0.621718</td>\n",
       "      <td>0.0001</td>\n",
       "    </tr>\n",
       "    <tr>\n",
       "      <td>6</td>\n",
       "      <td>IGLVV-66</td>\n",
       "      <td>hsa-mir-4761</td>\n",
       "      <td>135</td>\n",
       "      <td>0.505079</td>\n",
       "      <td>0.0010</td>\n",
       "    </tr>\n",
       "    <tr>\n",
       "      <td>7</td>\n",
       "      <td>IGLVV-66</td>\n",
       "      <td>hsa-mir-153-2</td>\n",
       "      <td>135</td>\n",
       "      <td>0.500582</td>\n",
       "      <td>0.0050</td>\n",
       "    </tr>\n",
       "  </tbody>\n",
       "</table>\n",
       "</div>"
      ],
      "text/plain": [
       "    symbol1        symbol2    n  correlation   alpha\n",
       "0  IGLVV-66  hsa-mir-124-3  135     0.999628  0.0001\n",
       "1  IGLVV-66  hsa-mir-124-1  135     0.999431  0.0001\n",
       "2  IGLVV-66  hsa-mir-124-2  135     0.999174  0.0001\n",
       "3  IGLVV-66  hsa-mir-153-1  135     0.706516  0.0001\n",
       "4  IGLVV-66   hsa-mir-3166  135     0.666669  0.0001\n",
       "5  IGLVV-66   hsa-mir-1224  135     0.621718  0.0001\n",
       "6  IGLVV-66   hsa-mir-4761  135     0.505079  0.0010\n",
       "7  IGLVV-66  hsa-mir-153-2  135     0.500582  0.0050"
      ]
     },
     "execution_count": 41,
     "metadata": {},
     "output_type": "execute_result"
    }
   ],
   "source": [
    "bqclient = bigquery.Client()\n",
    "df_results = regulome.runQuery ( bqclient, sql, [], [], [], dryRun=False )\n",
    "df_results"
   ]
  },
  {
   "cell_type": "code",
   "execution_count": null,
   "metadata": {
    "collapsed": true
   },
   "outputs": [],
   "source": []
  }
 ],
 "metadata": {
  "kernelspec": {
   "display_name": "Python 3",
   "language": "python",
   "name": "python3"
  },
  "language_info": {
   "codemirror_mode": {
    "name": "ipython",
    "version": 3
   },
   "file_extension": ".py",
   "mimetype": "text/x-python",
   "name": "python",
   "nbconvert_exporter": "python",
   "pygments_lexer": "ipython3",
   "version": "3.7.4"
  }
 },
 "nbformat": 4,
 "nbformat_minor": 2
}
