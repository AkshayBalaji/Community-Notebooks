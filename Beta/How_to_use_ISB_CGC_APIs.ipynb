{
  "nbformat": 4,
  "nbformat_minor": 0,
  "metadata": {
    "colab": {
      "name": "How_to_use_ISB-CGC_APIs.ipynb",
      "version": "0.3.2",
      "provenance": []
    },
    "kernelspec": {
      "name": "python3",
      "display_name": "Python 3"
    }
  },
  "cells": [
    {
      "cell_type": "markdown",
      "metadata": {
        "id": "sM4TB7pp-4Xp",
        "colab_type": "text"
      },
      "source": [
        "# ISB-CGC Community Notebooks\n",
        "\n",
        "```\n",
        "Title:   How to Use ISB-CGC APIs\n",
        "Author:  Lauren Hagen\n",
        "Created: 2019-09-16\n",
        "Purpose: Introduction to using ISB-CGC APIs with Python\n",
        "```\n"
      ]
    },
    {
      "cell_type": "markdown",
      "metadata": {
        "id": "zfnyQon4OSmi",
        "colab_type": "text"
      },
      "source": [
        "# How to Use ISB-CGC APIs"
      ]
    },
    {
      "cell_type": "markdown",
      "metadata": {
        "id": "jEhcHLyfNoZF",
        "colab_type": "text"
      },
      "source": [
        "## What This Tutorial will Cover"
      ]
    },
    {
      "cell_type": "markdown",
      "metadata": {
        "id": "xKMj6vYXNS9v",
        "colab_type": "text"
      },
      "source": [
        "## About ISB-CGC APIs\n",
        "ISB-CGC has created several APIs to integrate with "
      ]
    },
    {
      "cell_type": "markdown",
      "metadata": {
        "id": "Mnkz-GYtNXG8",
        "colab_type": "text"
      },
      "source": [
        "### What is an API"
      ]
    },
    {
      "cell_type": "markdown",
      "metadata": {
        "id": "d8EpGT1_NfaV",
        "colab_type": "text"
      },
      "source": [
        "### What is Swagger"
      ]
    },
    {
      "cell_type": "markdown",
      "metadata": {
        "id": "d70M_3VBNjTN",
        "colab_type": "text"
      },
      "source": [
        "### What is JSON\n"
      ]
    },
    {
      "cell_type": "markdown",
      "metadata": {
        "id": "9wMMTcuuNlkt",
        "colab_type": "text"
      },
      "source": [
        "## Use cases for ISB-CGC APIs"
      ]
    },
    {
      "cell_type": "markdown",
      "metadata": {
        "id": "JpGspd-bNrJl",
        "colab_type": "text"
      },
      "source": [
        "## Example: about API"
      ]
    },
    {
      "cell_type": "markdown",
      "metadata": {
        "id": "3k8fV64qOCnY",
        "colab_type": "text"
      },
      "source": [
        "### Python library requests"
      ]
    },
    {
      "cell_type": "code",
      "metadata": {
        "id": "3goCNgQW-wgS",
        "colab_type": "code",
        "colab": {}
      },
      "source": [
        "import requests"
      ],
      "execution_count": 0,
      "outputs": []
    },
    {
      "cell_type": "code",
      "metadata": {
        "id": "LNGPVvHwHSnl",
        "colab_type": "code",
        "colab": {
          "base_uri": "https://localhost:8080/",
          "height": 71
        },
        "outputId": "4e2cea77-ab79-4953-def2-01c5abb25801"
      },
      "source": [
        "# Get the \n",
        "req = requests.get('https://api-dot-isb-cgc.appspot.com/v4/about')\n",
        "if req.status_code != 200:\n",
        "  # This means something went wrong.\n",
        "  raise ApiError('GET /tasks/ {}'.format(resp.status_code))\n",
        "about = req.json()\n",
        "print(about['message'])\n",
        "print(about['documentation'])"
      ],
      "execution_count": 19,
      "outputs": [
        {
          "output_type": "stream",
          "text": [
            "Welcome to the ISB-CGC API, Version 4.\n",
            "SwaggerUI interface available at <https://api-dot-isb-cgc.appspot.com/v4/swagger/>.Documentation available at <https://isb-cancer-genomics-cloud.readthedocs.io/en/latest/sections/progapi/Programmatic-API.html>\n"
          ],
          "name": "stdout"
        }
      ]
    },
    {
      "cell_type": "markdown",
      "metadata": {
        "id": "2VYM2_WINzTo",
        "colab_type": "text"
      },
      "source": [
        "## Example: programs API"
      ]
    },
    {
      "cell_type": "markdown",
      "metadata": {
        "id": "5nP_GUuhN1m3",
        "colab_type": "text"
      },
      "source": [
        "## Example: users APIs"
      ]
    }
  ]
}