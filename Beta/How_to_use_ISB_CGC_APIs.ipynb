{
  "nbformat": 4,
  "nbformat_minor": 0,
  "metadata": {
    "colab": {
      "name": "How_to_use_ISB-CGC_APIs.ipynb",
      "provenance": [],
      "collapsed_sections": []
    },
    "kernelspec": {
      "name": "python3",
      "display_name": "Python 3"
    }
  },
  "cells": [
    {
      "cell_type": "markdown",
      "metadata": {
        "id": "sM4TB7pp-4Xp",
        "colab_type": "text"
      },
      "source": [
        "# ISB-CGC Community Notebooks\n",
        "\n",
        "```\n",
        "Title:   How to Use ISB-CGC APIs\n",
        "Author:  Lauren Hagen\n",
        "Created: 2019-09-16\n",
        "Purpose: Introduction to using ISB-CGC APIs with Python\n",
        "```\n"
      ]
    },
    {
      "cell_type": "markdown",
      "metadata": {
        "id": "zfnyQon4OSmi",
        "colab_type": "text"
      },
      "source": [
        "# How to Use ISB-CGC APIs"
      ]
    },
    {
      "cell_type": "markdown",
      "metadata": {
        "id": "jEhcHLyfNoZF",
        "colab_type": "text"
      },
      "source": [
        "## Overview of Notebook\n",
        "This notebook is designed as a quick introduction to the ISB-CGC APIs and how to access them with Python.\n",
        "\n",
        "Topic Covered:\n",
        "* Overviews of APIs, Swagger, JSON\n",
        "* Use Cases for ISB-CGC APIs\n",
        "* Examples of ISB-CGC API endpoints\n"
      ]
    },
    {
      "cell_type": "markdown",
      "metadata": {
        "id": "xKMj6vYXNS9v",
        "colab_type": "text"
      },
      "source": [
        "## About ISB-CGC APIs\n",
        "ISB-CGC has created several APIs to interact with ISB-CGC and user data available on Google Cloud Platforms. They were created with Google’s OpenAPI Endpoints and can be accessed through a [SwaggerUI interface](https://api-dot-isb-cgc.appspot.com/v4/swagger/). For more information on ISB-CGC APIs, please visit [our documentation](https://isb-cancer-genomics-cloud.readthedocs.io/en/latest/sections/progapi/progAPI-v4/Programmatic-Demo.html)."
      ]
    },
    {
      "cell_type": "markdown",
      "metadata": {
        "id": "Mnkz-GYtNXG8",
        "colab_type": "text"
      },
      "source": [
        "### Overview of APIs\n",
        "An application-programming interface (API) is a software intermediary that allows two applications to talk to each other. In other words, an API is the messenger that delivers your request to the provider that you’re requesting it from and then delivers the response back to you. [(Wikipedia)](https://en.wikipedia.org/wiki/Application_programming_interface). Each action that an API can take is called an \"endpoint\".\n",
        "\n",
        "Some useful tutorials on APIs are:\n",
        "* [API Integration in Python](https://realpython.com/api-integration-in-python/)\n",
        "* [Python API Tutorial: Getting Started with APIs](https://www.dataquest.io/blog/python-api-tutorial/)"
      ]
    },
    {
      "cell_type": "markdown",
      "metadata": {
        "id": "d8EpGT1_NfaV",
        "colab_type": "text"
      },
      "source": [
        "### Overview of SwaggerUI\n",
        "\n",
        "[SwaggerUI](https://swagger.io/tools/swagger-ui/) is a user interface that allows users to try out the APIs and view their documentation easiely. A tutorial on how to use the ISB-CGC APIs on the SwaggerUI can be found here: [link](https://isb-cancer-genomics-cloud.readthedocs.io/en/latest/sections/progapi/progAPI-v4/Programmatic-Demo.html#apis-demo)."
      ]
    },
    {
      "cell_type": "markdown",
      "metadata": {
        "id": "d70M_3VBNjTN",
        "colab_type": "text"
      },
      "source": [
        "### What is JSON\n",
        "\n",
        "JSON (JavaScript Object Notation) is a lightweight data-interchange format that is easy for humans and machines to work with. More information can be found at [json.org](https://www.json.org/)."
      ]
    },
    {
      "cell_type": "markdown",
      "metadata": {
        "id": "3k8fV64qOCnY",
        "colab_type": "text"
      },
      "source": [
        "### Python library requests\n",
        "\n",
        "In order to use the ISB-CGC APIs with python, the `requests` library needs to be installed and then imported."
      ]
    },
    {
      "cell_type": "code",
      "metadata": {
        "id": "3goCNgQW-wgS",
        "colab_type": "code",
        "colab": {}
      },
      "source": [
        "# Install requests if needed\n",
        "# pip install requests\n",
        "\n",
        "# Import the requests library\n",
        "import requests"
      ],
      "execution_count": 0,
      "outputs": []
    },
    {
      "cell_type": "markdown",
      "metadata": {
        "id": "9wMMTcuuNlkt",
        "colab_type": "text"
      },
      "source": [
        "## Use cases for ISB-CGC APIs\n",
        "\n",
        "The ISB-CGC APIs can be used for an number of different tasks for interacting with the Google Cloud Platform and BigQuery. It can be used to subset data into cohorts or to access cohorts that have been created using the WebApp. It can also be used to interact with the user's GCP to retrieve available user projects along with registering projects with ISB-CGC."
      ]
    },
    {
      "cell_type": "markdown",
      "metadata": {
        "id": "JpGspd-bNrJl",
        "colab_type": "text"
      },
      "source": [
        "## Example: About Endpoint\n",
        "\n"
      ]
    },
    {
      "cell_type": "markdown",
      "metadata": {
        "id": "OPCsbygUb_EW",
        "colab_type": "text"
      },
      "source": [
        "We are first going to explore the 'about' endpoint. This API will give you links to the Swagger UI interface and the documentation."
      ]
    },
    {
      "cell_type": "code",
      "metadata": {
        "id": "LNGPVvHwHSnl",
        "colab_type": "code",
        "colab": {}
      },
      "source": [
        "# First submit the 'get' request to the API\n",
        "about_req = requests.get('https://api-dot-isb-cgc.appspot.com/v4/about')"
      ],
      "execution_count": 0,
      "outputs": []
    },
    {
      "cell_type": "markdown",
      "metadata": {
        "id": "0KuvDe63dOjK",
        "colab_type": "text"
      },
      "source": [
        "Now that we have the request response, we are going to check that we didn't recieve an error code or if the request was successful. If the request was successful, then the status code will come back as 200 but if something went wrong then the status code may be something 404 or 503. If you have recieved any error codes, you can check out Google's [Troubleshooting response errors guide](https://cloud.google.com/endpoints/docs/openapi/troubleshoot-response-errors)."
      ]
    },
    {
      "cell_type": "code",
      "metadata": {
        "id": "-qMcWo6peb6e",
        "colab_type": "code",
        "colab": {}
      },
      "source": [
        "# Check that the wasn't an error with the request\n",
        "if about_req.status_code != 200:\n",
        "  # Print the error code if something went wrong\n",
        "  print(about_req.status_code)"
      ],
      "execution_count": 0,
      "outputs": []
    },
    {
      "cell_type": "markdown",
      "metadata": {
        "id": "etcXVRH9gvch",
        "colab_type": "text"
      },
      "source": [
        "Finally, we will print out the information that we have recieved from the API. This response returns as a dictionary though responses can also be a combination of dictionaries and lists depending on which endpoint is called. This means that you can access different data in the response the same way that you would access dictionaries and lists as demonstarted below."
      ]
    },
    {
      "cell_type": "code",
      "metadata": {
        "id": "keNiLV68hLnj",
        "colab_type": "code",
        "outputId": "7c65d8f6-0fa9-4c2c-f715-6882078b59bb",
        "colab": {
          "base_uri": "https://localhost:8080/",
          "height": 224
        }
      },
      "source": [
        "# Print the full response\n",
        "print(\"Full response:\\n\")\n",
        "print(about_req.json(), end='\\n\\n')\n",
        "\n",
        "# Print the message portion of the response\n",
        "print(\"Message:\\n\")\n",
        "print(about_req.json()['message'], end='\\n\\n')\n",
        "\n",
        "# Print the documentation portion of the response\n",
        "print(\"Documentation:\\n\")\n",
        "print(about_req.json()['documentation'])"
      ],
      "execution_count": 0,
      "outputs": [
        {
          "output_type": "stream",
          "text": [
            "Full response:\n",
            "\n",
            "{'code': 200, 'documentation': 'SwaggerUI interface available at <https://api-dot-isb-cgc.appspot.com/v4/swagger/>.Documentation available at <https://isb-cancer-genomics-cloud.readthedocs.io/en/latest/sections/progapi/Programmatic-API.html>', 'message': 'Welcome to the ISB-CGC API, Version 4.'}\n",
            "\n",
            "Message:\n",
            "\n",
            "Welcome to the ISB-CGC API, Version 4.\n",
            "\n",
            "Documentation:\n",
            "\n",
            "SwaggerUI interface available at <https://api-dot-isb-cgc.appspot.com/v4/swagger/>.Documentation available at <https://isb-cancer-genomics-cloud.readthedocs.io/en/latest/sections/progapi/Programmatic-API.html>\n"
          ],
          "name": "stdout"
        }
      ]
    },
    {
      "cell_type": "markdown",
      "metadata": {
        "colab_type": "text",
        "id": "aNaUuDSGhKHC"
      },
      "source": [
        "That wasn't terribly difficult at all! Next we will cover a few of the other information APIs."
      ]
    },
    {
      "cell_type": "markdown",
      "metadata": {
        "id": "2VYM2_WINzTo",
        "colab_type": "text"
      },
      "source": [
        "## Example: Programs Endpoint\n",
        "\n"
      ]
    },
    {
      "cell_type": "markdown",
      "metadata": {
        "id": "P20YZDWB1wrr",
        "colab_type": "text"
      },
      "source": [
        "The programs Endpoint is designed to return the data sets and programs available on the WebApp along with the projects or studies that are within those data sets and programs. This endpoint returns a more complicated JSON object which has a combination of lists and dictionaries. We will first retrieve the request and then view if there was an error code within the response."
      ]
    },
    {
      "cell_type": "code",
      "metadata": {
        "id": "TqrOUl65zPEj",
        "colab_type": "code",
        "colab": {}
      },
      "source": [
        "# Retrieve the response from the API endpoint\n",
        "programs_req = requests.get('https://api-dot-isb-cgc.appspot.com/v4/programs')\n",
        "\n",
        "# Check that the wasn't an error with the request\n",
        "if programs_req.status_code != 200:\n",
        "  # Print the error code if something went wrong\n",
        "  print(programs_req.status_code)"
      ],
      "execution_count": 0,
      "outputs": []
    },
    {
      "cell_type": "markdown",
      "metadata": {
        "id": "Wox-rs9Grxqc",
        "colab_type": "text"
      },
      "source": [
        "We are going to use the library `json` in order to view the response more easily.\n"
      ]
    },
    {
      "cell_type": "code",
      "metadata": {
        "id": "MAzFxZvdzugs",
        "colab_type": "code",
        "outputId": "f300cd3c-0e22-4a69-d1d6-f5d773bcdfad",
        "colab": {
          "base_uri": "https://localhost:8080/",
          "height": 1000
        }
      },
      "source": [
        "# install pip json\n",
        "import json\n",
        "\n",
        "# Create a variable with the JSON output\n",
        "program_json = json.dumps(programs_req.json(), sort_keys=True, indent=4)\n",
        "\n",
        "# Print the program JSON text\n",
        "print(program_json)"
      ],
      "execution_count": 9,
      "outputs": [
        {
          "output_type": "stream",
          "text": [
            "{\n",
            "    \"code\": 200,\n",
            "    \"data\": [\n",
            "        {\n",
            "            \"description\": null,\n",
            "            \"name\": \"TCGA\",\n",
            "            \"projects\": [\n",
            "                {\n",
            "                    \"description\": null,\n",
            "                    \"name\": \"ACC\"\n",
            "                },\n",
            "                {\n",
            "                    \"description\": null,\n",
            "                    \"name\": \"DLBC\"\n",
            "                },\n",
            "                {\n",
            "                    \"description\": null,\n",
            "                    \"name\": \"READ\"\n",
            "                },\n",
            "                {\n",
            "                    \"description\": null,\n",
            "                    \"name\": \"GBM\"\n",
            "                },\n",
            "                {\n",
            "                    \"description\": null,\n",
            "                    \"name\": \"LGG\"\n",
            "                },\n",
            "                {\n",
            "                    \"description\": null,\n",
            "                    \"name\": \"THCA\"\n",
            "                },\n",
            "                {\n",
            "                    \"description\": null,\n",
            "                    \"name\": \"STAD\"\n",
            "                },\n",
            "                {\n",
            "                    \"description\": null,\n",
            "                    \"name\": \"UCEC\"\n",
            "                },\n",
            "                {\n",
            "                    \"description\": null,\n",
            "                    \"name\": \"PCPG\"\n",
            "                },\n",
            "                {\n",
            "                    \"description\": null,\n",
            "                    \"name\": \"CESC\"\n",
            "                },\n",
            "                {\n",
            "                    \"description\": null,\n",
            "                    \"name\": \"UCS\"\n",
            "                },\n",
            "                {\n",
            "                    \"description\": null,\n",
            "                    \"name\": \"TGCT\"\n",
            "                },\n",
            "                {\n",
            "                    \"description\": null,\n",
            "                    \"name\": \"LIHC\"\n",
            "                },\n",
            "                {\n",
            "                    \"description\": null,\n",
            "                    \"name\": \"CHOL\"\n",
            "                },\n",
            "                {\n",
            "                    \"description\": null,\n",
            "                    \"name\": \"HNSC\"\n",
            "                },\n",
            "                {\n",
            "                    \"description\": null,\n",
            "                    \"name\": \"UVM\"\n",
            "                },\n",
            "                {\n",
            "                    \"description\": null,\n",
            "                    \"name\": \"SKCM\"\n",
            "                },\n",
            "                {\n",
            "                    \"description\": null,\n",
            "                    \"name\": \"COAD\"\n",
            "                },\n",
            "                {\n",
            "                    \"description\": null,\n",
            "                    \"name\": \"PAAD\"\n",
            "                },\n",
            "                {\n",
            "                    \"description\": null,\n",
            "                    \"name\": \"THYM\"\n",
            "                },\n",
            "                {\n",
            "                    \"description\": null,\n",
            "                    \"name\": \"LUSC\"\n",
            "                },\n",
            "                {\n",
            "                    \"description\": null,\n",
            "                    \"name\": \"MESO\"\n",
            "                },\n",
            "                {\n",
            "                    \"description\": null,\n",
            "                    \"name\": \"OV\"\n",
            "                },\n",
            "                {\n",
            "                    \"description\": null,\n",
            "                    \"name\": \"ESCA\"\n",
            "                },\n",
            "                {\n",
            "                    \"description\": null,\n",
            "                    \"name\": \"SARC\"\n",
            "                },\n",
            "                {\n",
            "                    \"description\": null,\n",
            "                    \"name\": \"KIRP\"\n",
            "                },\n",
            "                {\n",
            "                    \"description\": null,\n",
            "                    \"name\": \"BLCA\"\n",
            "                },\n",
            "                {\n",
            "                    \"description\": null,\n",
            "                    \"name\": \"LAML\"\n",
            "                },\n",
            "                {\n",
            "                    \"description\": null,\n",
            "                    \"name\": \"PRAD\"\n",
            "                },\n",
            "                {\n",
            "                    \"description\": null,\n",
            "                    \"name\": \"LUAD\"\n",
            "                },\n",
            "                {\n",
            "                    \"description\": null,\n",
            "                    \"name\": \"BRCA\"\n",
            "                },\n",
            "                {\n",
            "                    \"description\": null,\n",
            "                    \"name\": \"KIRC\"\n",
            "                },\n",
            "                {\n",
            "                    \"description\": null,\n",
            "                    \"name\": \"KICH\"\n",
            "                }\n",
            "            ]\n",
            "        },\n",
            "        {\n",
            "            \"description\": null,\n",
            "            \"name\": \"CCLE\",\n",
            "            \"projects\": [\n",
            "                {\n",
            "                    \"description\": \"Controls\",\n",
            "                    \"name\": \"CNTL\"\n",
            "                },\n",
            "                {\n",
            "                    \"description\": \"FFPE Pilot Phase II\",\n",
            "                    \"name\": \"FPPP\"\n",
            "                },\n",
            "                {\n",
            "                    \"description\": \"Sarcoma\",\n",
            "                    \"name\": \"SARC\"\n",
            "                },\n",
            "                {\n",
            "                    \"description\": \"Skin Cutaneous Melanoma\",\n",
            "                    \"name\": \"SKCM\"\n",
            "                },\n",
            "                {\n",
            "                    \"description\": \"Mesothelioma\",\n",
            "                    \"name\": \"MESO\"\n",
            "                },\n",
            "                {\n",
            "                    \"description\": \"Acute Myeloid Leukemia\",\n",
            "                    \"name\": \"LAML\"\n",
            "                },\n",
            "                {\n",
            "                    \"description\": \"Pheochromocytoma and Paraganglioma\",\n",
            "                    \"name\": \"PCPG\"\n",
            "                },\n",
            "                {\n",
            "                    \"description\": \"Prostate Adenocarcinoma\",\n",
            "                    \"name\": \"PRAD\"\n",
            "                },\n",
            "                {\n",
            "                    \"description\": \"Kidney Renal Clear Cell Carcinoma\",\n",
            "                    \"name\": \"KIRC\"\n",
            "                },\n",
            "                {\n",
            "                    \"description\": \"Esophageal Carcinoma\",\n",
            "                    \"name\": \"ESCA\"\n",
            "                },\n",
            "                {\n",
            "                    \"description\": \"Brain Lower Grade Glioma\",\n",
            "                    \"name\": \"LGG\"\n",
            "                },\n",
            "                {\n",
            "                    \"description\": \"Lung Adenocarcinoma\",\n",
            "                    \"name\": \"LUAD\"\n",
            "                },\n",
            "                {\n",
            "                    \"description\": \"Pancreatic Adenocarcinoma\",\n",
            "                    \"name\": \"PAAD\"\n",
            "                },\n",
            "                {\n",
            "                    \"description\": \"Kidney Chromophobe\",\n",
            "                    \"name\": \"KICH\"\n",
            "                },\n",
            "                {\n",
            "                    \"description\": \"Chronic Lymphocytic Leukemia\",\n",
            "                    \"name\": \"LCLL\"\n",
            "                },\n",
            "                {\n",
            "                    \"description\": \"Kidney Renal Papillary Cell Carcinoma\",\n",
            "                    \"name\": \"KIRP\"\n",
            "                },\n",
            "                {\n",
            "                    \"description\": \"Glioblastoma Multiforme\",\n",
            "                    \"name\": \"GBM\"\n",
            "                },\n",
            "                {\n",
            "                    \"description\": \"Miscellaneous\",\n",
            "                    \"name\": \"MISC\"\n",
            "                },\n",
            "                {\n",
            "                    \"description\": \"Lung Squamous Cell Carcinoma\",\n",
            "                    \"name\": \"LUSC\"\n",
            "                },\n",
            "                {\n",
            "                    \"description\": \"Thymoma\",\n",
            "                    \"name\": \"THYM\"\n",
            "                },\n",
            "                {\n",
            "                    \"description\": \"Head and Neck Squamous Cell Carcinoma\",\n",
            "                    \"name\": \"HNSC\"\n",
            "                },\n",
            "                {\n",
            "                    \"description\": \"Testicular Germ Cell Tumors\",\n",
            "                    \"name\": \"TGCT\"\n",
            "                },\n",
            "                {\n",
            "                    \"description\": \"Bladder Urothelial Carcinoma\",\n",
            "                    \"name\": \"BLCA\"\n",
            "                },\n",
            "                {\n",
            "                    \"description\": \"Thyroid Carcinoma\",\n",
            "                    \"name\": \"THCA\"\n",
            "                },\n",
            "                {\n",
            "                    \"description\": \"Uterine Carcinosarcoma\",\n",
            "                    \"name\": \"UCS\"\n",
            "                },\n",
            "                {\n",
            "                    \"description\": \"Cholangiocarcinoma\",\n",
            "                    \"name\": \"CHOL\"\n",
            "                },\n",
            "                {\n",
            "                    \"description\": \"Multiple Myeloma\",\n",
            "                    \"name\": \"MM\"\n",
            "                },\n",
            "                {\n",
            "                    \"description\": \"Breast Invasive Carcinoma\",\n",
            "                    \"name\": \"BRCA\"\n",
            "                },\n",
            "                {\n",
            "                    \"description\": \"Cervical Squamous Cell Carcinoma and Endocervical Adenocarcinoma\",\n",
            "                    \"name\": \"CESC\"\n",
            "                },\n",
            "                {\n",
            "                    \"description\": \"Lymphoid Neoplasm Diffuse Large B-cell Lymphoma\",\n",
            "                    \"name\": \"DLBC\"\n",
            "                },\n",
            "                {\n",
            "                    \"description\": \"Uveal Melanoma\",\n",
            "                    \"name\": \"UVM\"\n",
            "                },\n",
            "                {\n",
            "                    \"description\": \"Liver Hepatocellular Carcinoma\",\n",
            "                    \"name\": \"LIHC\"\n",
            "                },\n",
            "                {\n",
            "                    \"description\": \"Colon Adenocarcinoma\",\n",
            "                    \"name\": \"COAD\"\n",
            "                },\n",
            "                {\n",
            "                    \"description\": \"Rectum Adenocarcinoma\",\n",
            "                    \"name\": \"READ\"\n",
            "                },\n",
            "                {\n",
            "                    \"description\": \"Uterine Corpus Endometrial Carcinoma\",\n",
            "                    \"name\": \"UCEC\"\n",
            "                },\n",
            "                {\n",
            "                    \"description\": \"Ovarian Serous Cystadenocarcinoma\",\n",
            "                    \"name\": \"OV\"\n",
            "                },\n",
            "                {\n",
            "                    \"description\": \"Stomach Adenocarcinoma\",\n",
            "                    \"name\": \"STAD\"\n",
            "                },\n",
            "                {\n",
            "                    \"description\": \"Adrenocortical Carcinoma\",\n",
            "                    \"name\": \"ACC\"\n",
            "                },\n",
            "                {\n",
            "                    \"description\": \"Chronic Myelogenous Leukemia\",\n",
            "                    \"name\": \"LCML\"\n",
            "                }\n",
            "            ]\n",
            "        },\n",
            "        {\n",
            "            \"description\": null,\n",
            "            \"name\": \"TARGET\",\n",
            "            \"projects\": [\n",
            "                {\n",
            "                    \"description\": \"Rhabdoid Tumor\",\n",
            "                    \"name\": \"RT\"\n",
            "                },\n",
            "                {\n",
            "                    \"description\": \"Neuroblastoma\",\n",
            "                    \"name\": \"NBL\"\n",
            "                },\n",
            "                {\n",
            "                    \"description\": \"Clear Cell Sarcoma of the Kidney\",\n",
            "                    \"name\": \"CCSK\"\n",
            "                },\n",
            "                {\n",
            "                    \"description\": \"High-Risk Wilms Tumor\",\n",
            "                    \"name\": \"WT\"\n",
            "                },\n",
            "                {\n",
            "                    \"description\": \"Osteosarcoma\",\n",
            "                    \"name\": \"OS\"\n",
            "                },\n",
            "                {\n",
            "                    \"description\": \"Acute Lymphoblastic Leukemia - Phase II\",\n",
            "                    \"name\": \"ALL-P2\"\n",
            "                },\n",
            "                {\n",
            "                    \"description\": \"Acute Lymphoblastic Leukemia - Phase I\",\n",
            "                    \"name\": \"ALL-P1\"\n",
            "                },\n",
            "                {\n",
            "                    \"description\": \"Acute Myeloid Leukemia\",\n",
            "                    \"name\": \"AML\"\n",
            "                }\n",
            "            ]\n",
            "        }\n",
            "    ]\n",
            "}\n"
          ],
          "name": "stdout"
        }
      ]
    },
    {
      "cell_type": "markdown",
      "metadata": {
        "id": "D0pxiO6TtklT",
        "colab_type": "text"
      },
      "source": [
        "We can now see easily that our information that we are interested in is a combination of a dictionaries and lists. Next we will go through the JSON object to neatly return the data sets/programs along with which projects/studies are available."
      ]
    },
    {
      "cell_type": "code",
      "metadata": {
        "id": "OmM4GKs_u6w3",
        "colab_type": "code",
        "colab": {
          "base_uri": "https://localhost:8080/",
          "height": 68
        },
        "outputId": "535fa753-29d5-4ecd-eef0-0365f7966835"
      },
      "source": [
        "datasets = programs_req.json()['data']\n",
        "programs = {}\n",
        "for data in datasets:\n",
        "  projects = []\n",
        "  for project in data['projects']:\n",
        "    projects.append(project['name'])\n",
        "  programs[data['name']] = projects\n",
        "  print(\"The {} program has {} projects.\".format(data['name'], len(projects)))"
      ],
      "execution_count": 28,
      "outputs": [
        {
          "output_type": "stream",
          "text": [
            "The TCGA program has 33 projects.\n",
            "The CCLE program has 39 projects.\n",
            "The TARGET program has 8 projects.\n"
          ],
          "name": "stdout"
        }
      ]
    },
    {
      "cell_type": "markdown",
      "metadata": {
        "id": "LzjPrdYi0XkV",
        "colab_type": "text"
      },
      "source": [
        "We now have an easy dictionary of programs with lists of the projects for each program. Let us look at which projects are available in the TCGA data set."
      ]
    },
    {
      "cell_type": "code",
      "metadata": {
        "id": "or-yCoRW1D1K",
        "colab_type": "code",
        "colab": {
          "base_uri": "https://localhost:8080/",
          "height": 578
        },
        "outputId": "7f2df8e3-049a-48ae-d901-f15e95726cec"
      },
      "source": [
        "for project in programs['TCGA']:\n",
        "  print(project)"
      ],
      "execution_count": 31,
      "outputs": [
        {
          "output_type": "stream",
          "text": [
            "ACC\n",
            "DLBC\n",
            "READ\n",
            "GBM\n",
            "LGG\n",
            "THCA\n",
            "STAD\n",
            "UCEC\n",
            "PCPG\n",
            "CESC\n",
            "UCS\n",
            "TGCT\n",
            "LIHC\n",
            "CHOL\n",
            "HNSC\n",
            "UVM\n",
            "SKCM\n",
            "COAD\n",
            "PAAD\n",
            "THYM\n",
            "LUSC\n",
            "MESO\n",
            "OV\n",
            "ESCA\n",
            "SARC\n",
            "KIRP\n",
            "BLCA\n",
            "LAML\n",
            "PRAD\n",
            "LUAD\n",
            "BRCA\n",
            "KIRC\n",
            "KICH\n"
          ],
          "name": "stdout"
        }
      ]
    },
    {
      "cell_type": "markdown",
      "metadata": {
        "id": "Xu_qEvqJ1gAW",
        "colab_type": "text"
      },
      "source": [
        "Wow, that is a lot of projects/studies available within the TCGA data set. Descriptions of the different data sets and programs can be found in our [documentation](https://isb-cancer-genomics-cloud.readthedocs.io/en/latest/sections/Hosted-Data.html)."
      ]
    },
    {
      "cell_type": "markdown",
      "metadata": {
        "id": "5nP_GUuhN1m3",
        "colab_type": "text"
      },
      "source": [
        "## Example: Users Endpoint\n",
        "\n",
        "This last section will cover the users Endpoint which will require authorization before submitting the request to the API. This endpoint retrieves information about the user's GCP. We will be using the `users/gcp/validate/{gcp_id}` endpoint to view a list of projects available in the user's GCP."
      ]
    },
    {
      "cell_type": "code",
      "metadata": {
        "id": "_kBpiNJD6ROX",
        "colab_type": "code",
        "colab": {
          "base_uri": "https://localhost:8080/",
          "height": 34
        },
        "outputId": "ef9c18e3-ca76-4ff9-c3c8-7d2531fafa69"
      },
      "source": [
        "val_req = requests.get('https://api-dot-isb-cgc.appspot.com/v4/gcp/validate/isb-cgc-02-0001')\n",
        "\n",
        "# Check that the wasn't an error with the request\n",
        "if val_req.status_code != 200:\n",
        "  # Print the error code if something went wrong\n",
        "  print(val_req.status_code)"
      ],
      "execution_count": 35,
      "outputs": [
        {
          "output_type": "stream",
          "text": [
            "GET /about/ 404\n"
          ],
          "name": "stdout"
        }
      ]
    },
    {
      "cell_type": "markdown",
      "metadata": {
        "id": "rwMWmL4ixgEd",
        "colab_type": "text"
      },
      "source": [
        "## Where to Go Next"
      ]
    }
  ]
}