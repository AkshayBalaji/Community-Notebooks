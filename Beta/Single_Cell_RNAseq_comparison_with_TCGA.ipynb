{
  "nbformat": 4,
  "nbformat_minor": 0,
  "metadata": {
    "colab": {
      "name": "JuneBQPresentation.ipynb",
      "version": "0.3.2",
      "provenance": [],
      "collapsed_sections": [
        "S03T20fhgW41"
      ]
    },
    "kernelspec": {
      "name": "python3",
      "display_name": "Python 3"
    }
  },
  "cells": [
    {
      "cell_type": "markdown",
      "metadata": {
        "id": "sGF7DIHT1pYi",
        "colab_type": "text"
      },
      "source": [
        "# Using the BigQuery Cloud Resource (ISB-CGC)"
      ]
    },
    {
      "cell_type": "markdown",
      "metadata": {
        "id": "VJjue7QTLnum",
        "colab_type": "text"
      },
      "source": [
        "![bird1](https://www.sciencemag.org/sites/default/files/styles/inline__699w__no_aspect/public/bird_16x9.jpg?itok=H7yn8bXq)\n",
        "\n",
        "from: https://www.sciencemag.org/news/2018/04/bigger-better-bird-tree-life-will-soon-fly-view"
      ]
    },
    {
      "cell_type": "markdown",
      "metadata": {
        "id": "iZfapjhs1piq",
        "colab_type": "text"
      },
      "source": [
        "**Workspace**:\n",
        "\n",
        "1. BigQuery Web Interface: https://console.cloud.google.com/bigquery\n",
        "\n",
        "2. Jupyter notebook: https://colab.research.google.com  (could be local, Google colab, datalab, or GC jupyter lab)\n",
        "\n",
        "3. Documentation: https://cloud.google.com/bigquery/docs/reference/standard-sql/"
      ]
    },
    {
      "cell_type": "markdown",
      "metadata": {
        "id": "Hk1z-5LRlam8",
        "colab_type": "text"
      },
      "source": [
        "\n",
        "\n",
        "\n",
        "---\n",
        "\n",
        "\n",
        "**Finding ISB-CGC BigQuery tables.**\n",
        "\n",
        "0. A google search for 'ISB-CGC TCGA BigQuery' finds our [documentation]( https://isb-cancer-genomics-cloud.readthedocs.io/en/latest/sections/data/data2/data_in_BQ.html).\n",
        "\n",
        "1.  Bioconductor R package BiocOncoTK points to *our* tables.  https://rdrr.io/bioc/BiocOncoTK/src/R/pancan.R\n",
        "\n",
        "2. At the GDC:  https://gdc.cancer.gov/about-data/publications/PanCan-Clinical-2018 "
      ]
    },
    {
      "cell_type": "markdown",
      "metadata": {
        "id": "M1EsH0uSLa7G",
        "colab_type": "text"
      },
      "source": [
        "\n",
        "\n",
        "---\n",
        "\n"
      ]
    },
    {
      "cell_type": "markdown",
      "metadata": {
        "id": "SMyEsX_d1ppt",
        "colab_type": "text"
      },
      "source": [
        "**Goal:**\n",
        "\n",
        "Compare single cell RNA-Seq to TCGA expression data.\n",
        "\n",
        "Stretch goal: What compares better?  The bulk or a summarized single cell profile?\n",
        "\n",
        "---\n",
        "\n"
      ]
    },
    {
      "cell_type": "markdown",
      "metadata": {
        "id": "w8SCCJTw1w5Z",
        "colab_type": "text"
      },
      "source": [
        "Downloaded data from GEO:  https://www.ncbi.nlm.nih.gov/geo/query/acc.cgi?acc=GSE75688\n",
        "\n",
        "Paper: https://www.ncbi.nlm.nih.gov/pubmed/28474673\n",
        "\n",
        "Tranformed using the melt function in 'reshape2', and used the web interface to load the table\n",
        "into a new data set.\n",
        "\n",
        "![alt text](https://www.ncbi.nlm.nih.gov/pmc/articles/PMC5424158/bin/ncomms15081-f1.jpg)\n",
        "\n"
      ]
    },
    {
      "cell_type": "markdown",
      "metadata": {
        "id": "EPRcaiVN1w73",
        "colab_type": "text"
      },
      "source": [
        "Then we have 2 new  tables, \n",
        "\n",
        "one containing scRNA-seq values: isb-cgc-02-0001:brca_single_cell_RNA.gse75688_sc_brca\n",
        "\n",
        "and another containing info about each cell: isb-cgc-02-0001:brca_single_cell_RNA.gse75688_sample_info\n",
        "\n",
        "\n",
        "\n",
        "---\n",
        "\n"
      ]
    },
    {
      "cell_type": "markdown",
      "metadata": {
        "id": "AlbX_X29lazT",
        "colab_type": "text"
      },
      "source": [
        "Now we get setup for running some queries!"
      ]
    },
    {
      "cell_type": "code",
      "metadata": {
        "id": "f9XMnf6opo0D",
        "colab_type": "code",
        "colab": {}
      },
      "source": [
        ""
      ],
      "execution_count": 0,
      "outputs": []
    },
    {
      "cell_type": "markdown",
      "metadata": {
        "id": "S03T20fhgW41",
        "colab_type": "text"
      },
      "source": [
        "# SETUP"
      ]
    },
    {
      "cell_type": "code",
      "metadata": {
        "id": "MGfHZ4u8gAz1",
        "colab_type": "code",
        "colab": {}
      },
      "source": [
        "import numpy as np\n",
        "import pandas as pd\n",
        "import seaborn as sns\n",
        "  "
      ],
      "execution_count": 0,
      "outputs": []
    },
    {
      "cell_type": "code",
      "metadata": {
        "id": "-Mz2mGGqfh0V",
        "colab_type": "code",
        "colab": {}
      },
      "source": [
        "from google.colab import auth\n",
        "from google.cloud import bigquery\n",
        "\n",
        "def cgcAuth(project):\n",
        "  try:\n",
        "    auth.authenticate_user()\n",
        "    print('You have been successfully authenticated!')\n",
        "  except:\n",
        "    print('You have not been authenticated.')\n",
        "  \n",
        "  try:\n",
        "    project_id = 'isb-cgc-02-0001'\n",
        "    bqclient = bigquery.Client(project=project_id)\n",
        "    print('BigQuery client successfully initialized')\n",
        "  except:\n",
        "    print('Failure to initialize BigQuery client')\n",
        "  \n",
        "  return(bqclient)\n",
        "\n",
        "\n",
        "\n",
        "def runQuery ( client, qString, dryRun=False ):\n",
        "  \n",
        "  print ( \"\\n in runQuery ... \" )\n",
        "  if ( dryRun ):\n",
        "    print ( \"    dry-run only \" )\n",
        "    \n",
        "  ## set up QueryJobConfig object\n",
        "  job_config = bigquery.QueryJobConfig()\n",
        "  job_config.dry_run = dryRun\n",
        "  job_config.use_query_cache = True\n",
        "  job_config.use_legacy_sql = False\n",
        "  \n",
        "  ## run the query\n",
        "  try:\n",
        "    query_job = client.query ( qString, job_config=job_config )\n",
        "    ## print ( \"    query job state: \", query_job.state )\n",
        "  except:\n",
        "    print ( \"  FATAL ERROR: query execution failed \" )\n",
        "    return ( None )\n",
        "  \n",
        "  ## return results as a dataframe (or an empty dataframe for a dry-run) \n",
        "  if ( not dryRun ):\n",
        "    try:\n",
        "      df = query_job.to_dataframe()\n",
        "      if ( query_job.total_bytes_processed==0 ):\n",
        "        print ( \"    the results for this query were previously cached \" )\n",
        "      else:\n",
        "        print ( \"    this query processed {} bytes \".format(query_job.total_bytes_processed) )\n",
        "      if ( len(df) < 1 ):\n",
        "        print ( \"  WARNING: this query returned NO results \")\n",
        "      return ( df )\n",
        "    except:\n",
        "      print ( \"  FATAL ERROR: query execution failed \" )\n",
        "      return ( None )\n",
        "    \n",
        "  else:\n",
        "    print ( \"    if not cached, this query will process {} bytes \".format(query_job.total_bytes_processed) )\n",
        "    ## return an empty dataframe\n",
        "    return ( pd.DataFrame() )\n",
        " \n",
        "\n",
        "\n",
        "def checkQueryResults ( qr ):\n",
        "  print ( \"\\n in checkQueryResults ... \" )\n",
        "  if ( not isinstance(qr, pd.DataFrame) ):\n",
        "    print ( \" query execution failed! \" )\n",
        "    return ( False )\n",
        "  else:\n",
        "    if ( len(qr) > 0 ): \n",
        "      print ( \" # of rows in query results: {} \".format(len(qr)) )\n",
        "      print ( \"\\n\", qr.head() )\n",
        "    else:\n",
        "      print ( \" query returned NO results ?!? \" )  \n",
        "    return ( True )"
      ],
      "execution_count": 0,
      "outputs": []
    },
    {
      "cell_type": "code",
      "metadata": {
        "id": "m0iu8nqCgAVN",
        "colab_type": "code",
        "outputId": "822dd08a-2486-4c66-b259-3de1023e2e63",
        "colab": {
          "base_uri": "https://localhost:8080/",
          "height": 51
        }
      },
      "source": [
        "# Start by getting authorized.\n",
        "\n",
        "bqclient = cgcAuth( project='isb-cgc-02-0001' )"
      ],
      "execution_count": 0,
      "outputs": [
        {
          "output_type": "stream",
          "text": [
            "You have been successfully authenticated!\n",
            "BigQuery client successfully initialized\n"
          ],
          "name": "stdout"
        }
      ]
    },
    {
      "cell_type": "markdown",
      "metadata": {
        "id": "8euVHpYen3NL",
        "colab_type": "text"
      },
      "source": [
        "#BigQueries!#"
      ]
    },
    {
      "cell_type": "code",
      "metadata": {
        "id": "JBEU5H9xn6ei",
        "colab_type": "code",
        "outputId": "77a19027-5668-4630-863c-9313779ee20c",
        "colab": {
          "base_uri": "https://localhost:8080/",
          "height": 163
        }
      },
      "source": [
        "# Sample counts, by single cell vs bulk\n",
        "\n",
        "sql = '''\n",
        "SELECT\n",
        "   COUNT(Sample) AS n,\n",
        "   Type\n",
        "FROM \n",
        "   `isb-cgc-02-0001.brca_single_cell_RNA.gse75688_sample_info` \n",
        "GROUP BY\n",
        "   Type\n",
        "'''\n",
        "\n",
        "res0 = runQuery ( bqclient, sql, dryRun=False )\n",
        "\n",
        "res0"
      ],
      "execution_count": 0,
      "outputs": [
        {
          "output_type": "stream",
          "text": [
            "\n",
            " in runQuery ... \n",
            "    the results for this query were previously cached \n"
          ],
          "name": "stdout"
        },
        {
          "output_type": "execute_result",
          "data": {
            "text/html": [
              "<div>\n",
              "<style scoped>\n",
              "    .dataframe tbody tr th:only-of-type {\n",
              "        vertical-align: middle;\n",
              "    }\n",
              "\n",
              "    .dataframe tbody tr th {\n",
              "        vertical-align: top;\n",
              "    }\n",
              "\n",
              "    .dataframe thead th {\n",
              "        text-align: right;\n",
              "    }\n",
              "</style>\n",
              "<table border=\"1\" class=\"dataframe\">\n",
              "  <thead>\n",
              "    <tr style=\"text-align: right;\">\n",
              "      <th></th>\n",
              "      <th>n</th>\n",
              "      <th>Type</th>\n",
              "    </tr>\n",
              "  </thead>\n",
              "  <tbody>\n",
              "    <tr>\n",
              "      <th>0</th>\n",
              "      <td>515</td>\n",
              "      <td>SC</td>\n",
              "    </tr>\n",
              "    <tr>\n",
              "      <th>1</th>\n",
              "      <td>13</td>\n",
              "      <td>Bulk</td>\n",
              "    </tr>\n",
              "  </tbody>\n",
              "</table>\n",
              "</div>"
            ],
            "text/plain": [
              "     n  Type\n",
              "0  515    SC\n",
              "1   13  Bulk"
            ]
          },
          "metadata": {
            "tags": []
          },
          "execution_count": 10
        }
      ]
    },
    {
      "cell_type": "markdown",
      "metadata": {
        "id": "7kaxZ6SQov0j",
        "colab_type": "text"
      },
      "source": [
        "We have 515 single cell RNA profiles, and 13 Bulk RNA profiles."
      ]
    },
    {
      "cell_type": "code",
      "metadata": {
        "id": "0infAuHXoazC",
        "colab_type": "code",
        "outputId": "687e6836-2fcb-4abd-fbb7-4441f20f1a52",
        "colab": {
          "base_uri": "https://localhost:8080/",
          "height": 253
        }
      },
      "source": [
        "# Sample count, by type, source, kind\n",
        "\n",
        "sql = '''\n",
        "SELECT\n",
        "   COUNT(Sample) AS n,\n",
        "   Type,\n",
        "   index1,\n",
        "   index2\n",
        "FROM \n",
        "   `isb-cgc-02-0001.brca_single_cell_RNA.gse75688_sample_info` \n",
        "GROUP BY\n",
        "   2,3,4\n",
        "'''\n",
        "\n",
        "res0 = runQuery ( bqclient, sql, dryRun=False )\n",
        "\n",
        "res0"
      ],
      "execution_count": 0,
      "outputs": [
        {
          "output_type": "stream",
          "text": [
            "\n",
            " in runQuery ... \n",
            "    the results for this query were previously cached \n"
          ],
          "name": "stdout"
        },
        {
          "output_type": "execute_result",
          "data": {
            "text/html": [
              "<div>\n",
              "<style scoped>\n",
              "    .dataframe tbody tr th:only-of-type {\n",
              "        vertical-align: middle;\n",
              "    }\n",
              "\n",
              "    .dataframe tbody tr th {\n",
              "        vertical-align: top;\n",
              "    }\n",
              "\n",
              "    .dataframe thead th {\n",
              "        text-align: right;\n",
              "    }\n",
              "</style>\n",
              "<table border=\"1\" class=\"dataframe\">\n",
              "  <thead>\n",
              "    <tr style=\"text-align: right;\">\n",
              "      <th></th>\n",
              "      <th>n</th>\n",
              "      <th>Type</th>\n",
              "      <th>index1</th>\n",
              "      <th>index2</th>\n",
              "    </tr>\n",
              "  </thead>\n",
              "  <tbody>\n",
              "    <tr>\n",
              "      <th>0</th>\n",
              "      <td>175</td>\n",
              "      <td>SC</td>\n",
              "      <td>nonTumor</td>\n",
              "      <td>Immune</td>\n",
              "    </tr>\n",
              "    <tr>\n",
              "      <th>1</th>\n",
              "      <td>4</td>\n",
              "      <td>Bulk</td>\n",
              "      <td>nonTumor</td>\n",
              "      <td>Immune</td>\n",
              "    </tr>\n",
              "    <tr>\n",
              "      <th>2</th>\n",
              "      <td>23</td>\n",
              "      <td>SC</td>\n",
              "      <td>nonTumor</td>\n",
              "      <td>Stromal</td>\n",
              "    </tr>\n",
              "    <tr>\n",
              "      <th>3</th>\n",
              "      <td>317</td>\n",
              "      <td>SC</td>\n",
              "      <td>Tumor</td>\n",
              "      <td>Tumor</td>\n",
              "    </tr>\n",
              "    <tr>\n",
              "      <th>4</th>\n",
              "      <td>9</td>\n",
              "      <td>Bulk</td>\n",
              "      <td>Tumor</td>\n",
              "      <td>Tumor</td>\n",
              "    </tr>\n",
              "  </tbody>\n",
              "</table>\n",
              "</div>"
            ],
            "text/plain": [
              "     n  Type    index1   index2\n",
              "0  175    SC  nonTumor   Immune\n",
              "1    4  Bulk  nonTumor   Immune\n",
              "2   23    SC  nonTumor  Stromal\n",
              "3  317    SC     Tumor    Tumor\n",
              "4    9  Bulk     Tumor    Tumor"
            ]
          },
          "metadata": {
            "tags": []
          },
          "execution_count": 16
        }
      ]
    },
    {
      "cell_type": "code",
      "metadata": {
        "id": "2RiT59PWq7NU",
        "colab_type": "code",
        "outputId": "05ba2f9c-7413-42da-e946-40007f01b63a",
        "colab": {
          "base_uri": "https://localhost:8080/",
          "height": 287
        }
      },
      "source": [
        "res0.plot.bar(rot=0)"
      ],
      "execution_count": 0,
      "outputs": [
        {
          "output_type": "execute_result",
          "data": {
            "text/plain": [
              "<matplotlib.axes._subplots.AxesSubplot at 0x7f54431ec898>"
            ]
          },
          "metadata": {
            "tags": []
          },
          "execution_count": 20
        },
        {
          "output_type": "display_data",
          "data": {
            "image/png": "[encoded data removed]",
            "text/plain": [
              "<Figure size 432x288 with 1 Axes>"
            ]
          },
          "metadata": {
            "tags": []
          }
        }
      ]
    },
    {
      "cell_type": "code",
      "metadata": {
        "id": "vBqgw1acpTnB",
        "colab_type": "code",
        "outputId": "4b2f2c87-12bc-4780-ea83-8595534f56bd",
        "colab": {
          "base_uri": "https://localhost:8080/",
          "height": 351
        }
      },
      "source": [
        "# How many genes were measured in each cell?\n",
        "\n",
        "sql = '''\n",
        "WITH\n",
        "\n",
        "-- create a 'cohort' of cells\n",
        "--\n",
        "\n",
        "sc_info AS (\n",
        "SELECT\n",
        "   sample\n",
        "FROM\n",
        "   `isb-cgc-02-0001.brca_single_cell_RNA.gse75688_sample_info` \n",
        "WHERE\n",
        "   type = 'SC'\n",
        "GROUP BY\n",
        "   sample\n",
        "),\n",
        "\n",
        "--\n",
        "--  \n",
        "--\n",
        "\n",
        "sc_values AS (\n",
        "SELECT\n",
        "   COUNT(gene_name) AS n_genes,\n",
        "   sample_name\n",
        "FROM\n",
        "   `isb-cgc-02-0001.brca_single_cell_RNA.gse75688_sc_brca`\n",
        "WHERE\n",
        "   sample_name IN (\n",
        "      SELECT sample from sc_info\n",
        "      )\n",
        "   AND value > 0\n",
        "GROUP BY \n",
        "   sample_name\n",
        "   )\n",
        "\n",
        "select * from sc_values\n",
        "\n",
        "'''\n",
        "\n",
        "geneCount = runQuery ( bqclient, sql, dryRun=False )\n",
        "\n",
        "geneCount.sort_values('n_genes').plot.bar()"
      ],
      "execution_count": 0,
      "outputs": [
        {
          "output_type": "stream",
          "text": [
            "\n",
            " in runQuery ... \n",
            "    the results for this query were previously cached \n"
          ],
          "name": "stdout"
        },
        {
          "output_type": "execute_result",
          "data": {
            "text/plain": [
              "<matplotlib.axes._subplots.AxesSubplot at 0x7f54430c8d68>"
            ]
          },
          "metadata": {
            "tags": []
          },
          "execution_count": 26
        },
        {
          "output_type": "display_data",
          "data": {
            "image/png": "[encoded data removed]",
            "text/plain": [
              "<Figure size 432x288 with 1 Axes>"
            ]
          },
          "metadata": {
            "tags": []
          }
        }
      ]
    },
    {
      "cell_type": "markdown",
      "metadata": {
        "id": "IysbHA5kvRUG",
        "colab_type": "text"
      },
      "source": [
        "So we see that cells have between 2000 to close to 10K genes measured. That's a good data set.  But how many of them are mitochondrial genes?"
      ]
    },
    {
      "cell_type": "code",
      "metadata": {
        "id": "BlV1msZfyTcC",
        "colab_type": "code",
        "outputId": "30364d70-381f-409d-8c09-d06a697781fd",
        "colab": {
          "base_uri": "https://localhost:8080/",
          "height": 853
        }
      },
      "source": [
        "# What kind of genes do we have?\n",
        "\n",
        "sql = '''\n",
        "WITH\n",
        "\n",
        "-- create a cohort\n",
        "\n",
        "sc_info AS (\n",
        "SELECT\n",
        "   sample\n",
        "FROM\n",
        "   `isb-cgc-02-0001.brca_single_cell_RNA.gse75688_sample_info` \n",
        "WHERE\n",
        "   type = 'SC'\n",
        "GROUP BY\n",
        "   sample\n",
        "),\n",
        "\n",
        "sc_values AS (\n",
        "SELECT\n",
        "   COUNT(DISTINCT(gene_name)) as n_genes,\n",
        "   gene_type\n",
        "FROM\n",
        "   `isb-cgc-02-0001.brca_single_cell_RNA.gse75688_sc_brca`\n",
        "WHERE\n",
        "   sample_name IN (\n",
        "      SELECT sample from sc_info\n",
        "      )\n",
        "   AND value > 0\n",
        "GROUP BY \n",
        "   2\n",
        "   )\n",
        "\n",
        "select * from sc_values\n",
        "'''\n",
        "\n",
        "geneTypeCount = runQuery ( bqclient, sql, dryRun=False )\n",
        "geneTypeCount\n",
        "\n"
      ],
      "execution_count": 0,
      "outputs": [
        {
          "output_type": "stream",
          "text": [
            "\n",
            " in runQuery ... \n",
            "    the results for this query were previously cached \n"
          ],
          "name": "stdout"
        },
        {
          "output_type": "execute_result",
          "data": {
            "text/html": [
              "<div>\n",
              "<style scoped>\n",
              "    .dataframe tbody tr th:only-of-type {\n",
              "        vertical-align: middle;\n",
              "    }\n",
              "\n",
              "    .dataframe tbody tr th {\n",
              "        vertical-align: top;\n",
              "    }\n",
              "\n",
              "    .dataframe thead th {\n",
              "        text-align: right;\n",
              "    }\n",
              "</style>\n",
              "<table border=\"1\" class=\"dataframe\">\n",
              "  <thead>\n",
              "    <tr style=\"text-align: right;\">\n",
              "      <th></th>\n",
              "      <th>n_genes</th>\n",
              "      <th>gene_type</th>\n",
              "    </tr>\n",
              "  </thead>\n",
              "  <tbody>\n",
              "    <tr>\n",
              "      <th>0</th>\n",
              "      <td>3863</td>\n",
              "      <td>antisense</td>\n",
              "    </tr>\n",
              "    <tr>\n",
              "      <th>1</th>\n",
              "      <td>6759</td>\n",
              "      <td>pseudogene</td>\n",
              "    </tr>\n",
              "    <tr>\n",
              "      <th>2</th>\n",
              "      <td>18384</td>\n",
              "      <td>protein_coding</td>\n",
              "    </tr>\n",
              "    <tr>\n",
              "      <th>3</th>\n",
              "      <td>3825</td>\n",
              "      <td>lincRNA</td>\n",
              "    </tr>\n",
              "    <tr>\n",
              "      <th>4</th>\n",
              "      <td>557</td>\n",
              "      <td>sense_intronic</td>\n",
              "    </tr>\n",
              "    <tr>\n",
              "      <th>5</th>\n",
              "      <td>5</td>\n",
              "      <td>TR_C_gene</td>\n",
              "    </tr>\n",
              "    <tr>\n",
              "      <th>6</th>\n",
              "      <td>451</td>\n",
              "      <td>misc_RNA</td>\n",
              "    </tr>\n",
              "    <tr>\n",
              "      <th>7</th>\n",
              "      <td>423</td>\n",
              "      <td>processed_transcript</td>\n",
              "    </tr>\n",
              "    <tr>\n",
              "      <th>8</th>\n",
              "      <td>105</td>\n",
              "      <td>IG_V_gene</td>\n",
              "    </tr>\n",
              "    <tr>\n",
              "      <th>9</th>\n",
              "      <td>156</td>\n",
              "      <td>sense_overlapping</td>\n",
              "    </tr>\n",
              "    <tr>\n",
              "      <th>10</th>\n",
              "      <td>31</td>\n",
              "      <td>IG_V_pseudogene</td>\n",
              "    </tr>\n",
              "    <tr>\n",
              "      <th>11</th>\n",
              "      <td>114</td>\n",
              "      <td>snoRNA</td>\n",
              "    </tr>\n",
              "    <tr>\n",
              "      <th>12</th>\n",
              "      <td>14</td>\n",
              "      <td>IG_C_gene</td>\n",
              "    </tr>\n",
              "    <tr>\n",
              "      <th>13</th>\n",
              "      <td>111</td>\n",
              "      <td>snRNA</td>\n",
              "    </tr>\n",
              "    <tr>\n",
              "      <th>14</th>\n",
              "      <td>20</td>\n",
              "      <td>3prime_overlapping_ncrna</td>\n",
              "    </tr>\n",
              "    <tr>\n",
              "      <th>15</th>\n",
              "      <td>79</td>\n",
              "      <td>TR_V_gene</td>\n",
              "    </tr>\n",
              "    <tr>\n",
              "      <th>16</th>\n",
              "      <td>32</td>\n",
              "      <td>polymorphic_pseudogene</td>\n",
              "    </tr>\n",
              "    <tr>\n",
              "      <th>17</th>\n",
              "      <td>10</td>\n",
              "      <td>rRNA</td>\n",
              "    </tr>\n",
              "    <tr>\n",
              "      <th>18</th>\n",
              "      <td>6</td>\n",
              "      <td>IG_C_pseudogene</td>\n",
              "    </tr>\n",
              "    <tr>\n",
              "      <th>19</th>\n",
              "      <td>7</td>\n",
              "      <td>miRNA</td>\n",
              "    </tr>\n",
              "    <tr>\n",
              "      <th>20</th>\n",
              "      <td>5</td>\n",
              "      <td>TR_V_pseudogene</td>\n",
              "    </tr>\n",
              "    <tr>\n",
              "      <th>21</th>\n",
              "      <td>2</td>\n",
              "      <td>Mt_rRNA</td>\n",
              "    </tr>\n",
              "    <tr>\n",
              "      <th>22</th>\n",
              "      <td>1</td>\n",
              "      <td>ERCC</td>\n",
              "    </tr>\n",
              "    <tr>\n",
              "      <th>23</th>\n",
              "      <td>2</td>\n",
              "      <td>IG_J_gene</td>\n",
              "    </tr>\n",
              "    <tr>\n",
              "      <th>24</th>\n",
              "      <td>2</td>\n",
              "      <td>SPIKE_IN</td>\n",
              "    </tr>\n",
              "  </tbody>\n",
              "</table>\n",
              "</div>"
            ],
            "text/plain": [
              "    n_genes                 gene_type\n",
              "0      3863                 antisense\n",
              "1      6759                pseudogene\n",
              "2     18384            protein_coding\n",
              "3      3825                   lincRNA\n",
              "4       557            sense_intronic\n",
              "5         5                 TR_C_gene\n",
              "6       451                  misc_RNA\n",
              "7       423      processed_transcript\n",
              "8       105                 IG_V_gene\n",
              "9       156         sense_overlapping\n",
              "10       31           IG_V_pseudogene\n",
              "11      114                    snoRNA\n",
              "12       14                 IG_C_gene\n",
              "13      111                     snRNA\n",
              "14       20  3prime_overlapping_ncrna\n",
              "15       79                 TR_V_gene\n",
              "16       32    polymorphic_pseudogene\n",
              "17       10                      rRNA\n",
              "18        6           IG_C_pseudogene\n",
              "19        7                     miRNA\n",
              "20        5           TR_V_pseudogene\n",
              "21        2                   Mt_rRNA\n",
              "22        1                      ERCC\n",
              "23        2                 IG_J_gene\n",
              "24        2                  SPIKE_IN"
            ]
          },
          "metadata": {
            "tags": []
          },
          "execution_count": 29
        }
      ]
    },
    {
      "cell_type": "markdown",
      "metadata": {
        "id": "ESif1O0Oz8ww",
        "colab_type": "text"
      },
      "source": [
        "Now, to start building towards correlating sc profiles with TCGA samples..."
      ]
    },
    {
      "cell_type": "code",
      "metadata": {
        "id": "7RQRsJqUuSQU",
        "colab_type": "code",
        "outputId": "23f55262-5589-423f-d080-c29d706f069b",
        "colab": {
          "base_uri": "https://localhost:8080/",
          "height": 253
        }
      },
      "source": [
        "sql = '''\n",
        "\n",
        "WITH\n",
        "\n",
        "-- create a cohort\n",
        "\n",
        "sc_info AS (\n",
        "SELECT\n",
        "   sample\n",
        "FROM\n",
        "   `isb-cgc-02-0001.brca_single_cell_RNA.gse75688_sample_info` \n",
        "WHERE\n",
        "   type = 'SC'\n",
        "   AND NOT REGEXP_CONTAINS(sample, 'LN_')\n",
        "   AND NOT REGEXP_CONTAINS(sample, 'Re_')\n",
        "GROUP BY\n",
        "   sample\n",
        "),\n",
        "\n",
        "-- and collect the expression values, removing lymph node and metastise\n",
        "\n",
        "sc_values AS (\n",
        "SELECT\n",
        "   sample_name,\n",
        "   gene_name,\n",
        "   value\n",
        "FROM\n",
        "   `isb-cgc-02-0001.brca_single_cell_RNA.gse75688_sc_brca`\n",
        "WHERE\n",
        "   sample_name IN (\n",
        "      SELECT sample from sc_info\n",
        "      )\n",
        "   AND value > 0\n",
        "   AND gene_type = 'protein_coding'\n",
        "GROUP BY \n",
        "   1,2,3\n",
        "   )\n",
        "\n",
        "select * from sc_values\n",
        "\n",
        "'''\n",
        "\n",
        "scValues = runQuery ( bqclient, sql, dryRun=False )\n",
        "\n",
        "scValues[0:5]"
      ],
      "execution_count": 0,
      "outputs": [
        {
          "output_type": "stream",
          "text": [
            "\n",
            " in runQuery ... \n",
            "    this query processed 1325123882 bytes \n"
          ],
          "name": "stdout"
        },
        {
          "output_type": "execute_result",
          "data": {
            "text/html": [
              "<div>\n",
              "<style scoped>\n",
              "    .dataframe tbody tr th:only-of-type {\n",
              "        vertical-align: middle;\n",
              "    }\n",
              "\n",
              "    .dataframe tbody tr th {\n",
              "        vertical-align: top;\n",
              "    }\n",
              "\n",
              "    .dataframe thead th {\n",
              "        text-align: right;\n",
              "    }\n",
              "</style>\n",
              "<table border=\"1\" class=\"dataframe\">\n",
              "  <thead>\n",
              "    <tr style=\"text-align: right;\">\n",
              "      <th></th>\n",
              "      <th>sample_name</th>\n",
              "      <th>gene_name</th>\n",
              "      <th>value</th>\n",
              "    </tr>\n",
              "  </thead>\n",
              "  <tbody>\n",
              "    <tr>\n",
              "      <th>0</th>\n",
              "      <td>BC05_93</td>\n",
              "      <td>PTPRF</td>\n",
              "      <td>71.34</td>\n",
              "    </tr>\n",
              "    <tr>\n",
              "      <th>1</th>\n",
              "      <td>BC05_83</td>\n",
              "      <td>SPTLC1</td>\n",
              "      <td>60.70</td>\n",
              "    </tr>\n",
              "    <tr>\n",
              "      <th>2</th>\n",
              "      <td>BC04_92</td>\n",
              "      <td>PHF11</td>\n",
              "      <td>24.27</td>\n",
              "    </tr>\n",
              "    <tr>\n",
              "      <th>3</th>\n",
              "      <td>BC07_43</td>\n",
              "      <td>PRPF40A</td>\n",
              "      <td>290.11</td>\n",
              "    </tr>\n",
              "    <tr>\n",
              "      <th>4</th>\n",
              "      <td>BC02_10</td>\n",
              "      <td>PLP2</td>\n",
              "      <td>167.39</td>\n",
              "    </tr>\n",
              "  </tbody>\n",
              "</table>\n",
              "</div>"
            ],
            "text/plain": [
              "  sample_name gene_name   value\n",
              "0     BC05_93     PTPRF   71.34\n",
              "1     BC05_83    SPTLC1   60.70\n",
              "2     BC04_92     PHF11   24.27\n",
              "3     BC07_43   PRPF40A  290.11\n",
              "4     BC02_10      PLP2  167.39"
            ]
          },
          "metadata": {
            "tags": []
          },
          "execution_count": 30
        }
      ]
    },
    {
      "cell_type": "code",
      "metadata": {
        "id": "ZAerXbIp0H_t",
        "colab_type": "code",
        "colab": {}
      },
      "source": [
        ""
      ],
      "execution_count": 0,
      "outputs": []
    },
    {
      "cell_type": "code",
      "metadata": {
        "id": "KhUH5NpM21W5",
        "colab_type": "code",
        "colab": {}
      },
      "source": [
        "\n",
        "# Now we'll build a table that joins single cell RNA-seq to TCGA RNA-seq data.\n",
        "\n",
        "sql = '''\n",
        "\n",
        "WITH\n",
        "\n",
        "-- create a cohort\n",
        "\n",
        "sc_info AS (\n",
        "SELECT\n",
        "   sample\n",
        "FROM\n",
        "   `isb-cgc-02-0001.brca_single_cell_RNA.gse75688_sample_info` \n",
        "WHERE\n",
        "   type = 'SC'\n",
        "   AND index1 = 'Tumor'\n",
        "   AND NOT REGEXP_CONTAINS(sample, 'LN_')\n",
        "GROUP BY\n",
        "   sample\n",
        "),\n",
        "\n",
        "sc_values AS (\n",
        "SELECT\n",
        "   sample_name,\n",
        "   gene_name,\n",
        "   value\n",
        "FROM\n",
        "   `isb-cgc-02-0001.brca_single_cell_RNA.gse75688_sc_brca`\n",
        "WHERE\n",
        "   sample_name IN (\n",
        "      SELECT sample from sc_info\n",
        "      )\n",
        "   AND value > 0\n",
        "   AND gene_type = 'protein_coding'\n",
        "GROUP BY \n",
        "   1,2,3\n",
        "),\n",
        "\n",
        "tcga_join AS (\n",
        "SELECT\n",
        "   tcga.project_short_name as short_name,\n",
        "   tcga.sample_barcode as sample_barcode,\n",
        "   tcga.gene_name as tcga_gene_name,\n",
        "   tcga.HTSeq__FPKM_UQ,\n",
        "   RANK() OVER(PARTITION BY sample_barcode, sample_name ORDER BY HTSeq__FPKM_UQ) as tcga_rank_FPKM,\n",
        "   sc.sample_name as cell_id,\n",
        "   sc.gene_name as sc_gene_name,\n",
        "   sc.value as value,\n",
        "   RANK() OVER(PARTITION BY sample_barcode, sample_name ORDER BY value) as sc_rank_value\n",
        "FROM\n",
        "   `isb-cgc.TCGA_hg38_data_v0.RNAseq_Gene_Expression` AS tcga\n",
        "JOIN\n",
        "    sc_values AS sc\n",
        "ON\n",
        "   sc.gene_name = tcga.gene_name\n",
        "WHERE\n",
        "   tcga.project_short_name = 'TCGA-BRCA'\n",
        "GROUP BY\n",
        "   1,2,3,4,6,7,8\n",
        ")\n",
        "\n",
        "select * from tcga_join \n",
        "\n",
        "\n",
        "'''\n",
        "\n",
        "dontRun = runQuery ( bqclient, sql, dryRun=False )\n",
        "\n",
        "\n",
        "### This query was saved in a new BQ table ###\n",
        "### TO do this, we can use the query settings in the web interface ###\n",
        "\n",
        "\n"
      ],
      "execution_count": 0,
      "outputs": []
    },
    {
      "cell_type": "markdown",
      "metadata": {
        "id": "sr6MrLnO4_7n",
        "colab_type": "text"
      },
      "source": [
        "Now we have a table of sc-brca values and we can correlate on that (or cosine similarity!)."
      ]
    },
    {
      "cell_type": "code",
      "metadata": {
        "id": "wdJ1QNw_5Il2",
        "colab_type": "code",
        "outputId": "af4b2556-a3c3-454e-bdf9-d39f174b72db",
        "colab": {
          "base_uri": "https://localhost:8080/",
          "height": 351
        }
      },
      "source": [
        "\n",
        "\n",
        "## One TCGA sample correlated with single cells ##\n",
        "\n",
        "sql = '''\n",
        "SELECT\n",
        "  sample_barcode,\n",
        "  cell_id,\n",
        "  CORR( tcga_rank_FPKM, sc_rank_value) as gene_corr\n",
        "FROM\n",
        "  `isb-cgc-02-0001.brca_single_cell_RNA.brca_sc_join`\n",
        "WHERE\n",
        "  sample_barcode = 'TCGA-3C-AAAU-01A'\n",
        "GROUP BY\n",
        "  1,2\n",
        "'''\n",
        "\n",
        "corrValues = runQuery ( bqclient, sql, dryRun=False )\n",
        "\n",
        "corrValues.sort_values('gene_corr').plot.bar()\n",
        "\n"
      ],
      "execution_count": 0,
      "outputs": [
        {
          "output_type": "stream",
          "text": [
            "\n",
            " in runQuery ... \n",
            "    this query processed 81844354698 bytes \n"
          ],
          "name": "stdout"
        },
        {
          "output_type": "execute_result",
          "data": {
            "text/plain": [
              "<matplotlib.axes._subplots.AxesSubplot at 0x7f54343464a8>"
            ]
          },
          "metadata": {
            "tags": []
          },
          "execution_count": 43
        },
        {
          "output_type": "display_data",
          "data": {
            "image/png": "[encoded data removed]",
            "text/plain": [
              "<Figure size 432x288 with 1 Axes>"
            ]
          },
          "metadata": {
            "tags": []
          }
        }
      ]
    },
    {
      "cell_type": "code",
      "metadata": {
        "id": "mJXERq1N-Gw2",
        "colab_type": "code",
        "outputId": "96866905-d257-4033-8a90-b152d1f3a430",
        "colab": {
          "base_uri": "https://localhost:8080/",
          "height": 72
        }
      },
      "source": [
        "## One TCGA-BRCA sample correlated with single cells ##\n",
        "\n",
        "sql = '''\n",
        "SELECT\n",
        "  sample_barcode,\n",
        "  cell_id,\n",
        "  tcga_rank_FPKM, \n",
        "  sc_rank_value\n",
        "FROM\n",
        "  `isb-cgc-02-0001.brca_single_cell_RNA.brca_sc_join`\n",
        "WHERE\n",
        "  sample_barcode = 'TCGA-3C-AAAU-01A'\n",
        "GROUP BY\n",
        "  1,2,3,4\n",
        "'''\n",
        "\n",
        "joinedBrcaValues = runQuery ( bqclient, sql, dryRun=False )\n"
      ],
      "execution_count": 0,
      "outputs": [
        {
          "output_type": "stream",
          "text": [
            "\n",
            " in runQuery ... \n",
            "    this query processed 81844354698 bytes \n"
          ],
          "name": "stdout"
        }
      ]
    },
    {
      "cell_type": "code",
      "metadata": {
        "id": "cqs4b-4DUEJa",
        "colab_type": "code",
        "outputId": "182562ba-bf60-43b0-8131-ac79aaf8ebdd",
        "colab": {
          "base_uri": "https://localhost:8080/",
          "height": 303
        }
      },
      "source": [
        "joinedBrcaValues.plot.scatter(x='tcga_rank_FPKM', y='sc_rank_value')"
      ],
      "execution_count": 0,
      "outputs": [
        {
          "output_type": "execute_result",
          "data": {
            "text/plain": [
              "<matplotlib.axes._subplots.AxesSubplot at 0x7f53ff62d978>"
            ]
          },
          "metadata": {
            "tags": []
          },
          "execution_count": 57
        },
        {
          "output_type": "display_data",
          "data": {
            "image/png": "[encoded data removed]",
            "text/plain": [
              "<Figure size 432x288 with 1 Axes>"
            ]
          },
          "metadata": {
            "tags": []
          }
        }
      ]
    },
    {
      "cell_type": "markdown",
      "metadata": {
        "id": "Wq4JBLcK9sjN",
        "colab_type": "text"
      },
      "source": [
        "This was repeated for KIRC, producing two tables.\n",
        "The BRCA-sc table has 1 billion rows and took about a minute to make.\n",
        "The KIRC-sc table has (only) 900 Mil rows and takes 60GB."
      ]
    },
    {
      "cell_type": "markdown",
      "metadata": {
        "id": "Vl6I4zQd9tH9",
        "colab_type": "text"
      },
      "source": [
        ""
      ]
    },
    {
      "cell_type": "code",
      "metadata": {
        "id": "zf39KZb5-MhW",
        "colab_type": "code",
        "outputId": "0e29994f-5ba2-4740-fa50-35e07570b845",
        "colab": {
          "base_uri": "https://localhost:8080/",
          "height": 343
        }
      },
      "source": [
        "\n",
        "## Summarizing all TCGA-BRCA samples correlated with single cells ##\n",
        "\n",
        "sql = '''\n",
        "\n",
        "WITH brca_corrs AS (\n",
        "SELECT\n",
        "  sample_barcode,\n",
        "  cell_id,\n",
        "  CORR( tcga_rank_FPKM, sc_rank_value) as gene_corr\n",
        "FROM\n",
        "  `isb-cgc-02-0001.brca_single_cell_RNA.brca_sc_join`\n",
        "GROUP BY\n",
        "  1,2\n",
        ")\n",
        "\n",
        "SELECT\n",
        "  gene_corr\n",
        "FROM\n",
        "  brca_corrs\n",
        "  \n",
        "'''\n",
        "\n",
        "brca_avg_corr = runQuery ( bqclient, sql, dryRun=False )\n",
        "\n",
        "brca_avg_corr.describe()\n"
      ],
      "execution_count": 0,
      "outputs": [
        {
          "output_type": "stream",
          "text": [
            "\n",
            " in runQuery ... \n",
            "    this query processed 81844354698 bytes \n"
          ],
          "name": "stdout"
        },
        {
          "output_type": "execute_result",
          "data": {
            "text/html": [
              "<div>\n",
              "<style scoped>\n",
              "    .dataframe tbody tr th:only-of-type {\n",
              "        vertical-align: middle;\n",
              "    }\n",
              "\n",
              "    .dataframe tbody tr th {\n",
              "        vertical-align: top;\n",
              "    }\n",
              "\n",
              "    .dataframe thead th {\n",
              "        text-align: right;\n",
              "    }\n",
              "</style>\n",
              "<table border=\"1\" class=\"dataframe\">\n",
              "  <thead>\n",
              "    <tr style=\"text-align: right;\">\n",
              "      <th></th>\n",
              "      <th>gene_corr</th>\n",
              "    </tr>\n",
              "  </thead>\n",
              "  <tbody>\n",
              "    <tr>\n",
              "      <th>count</th>\n",
              "      <td>341977.000000</td>\n",
              "    </tr>\n",
              "    <tr>\n",
              "      <th>mean</th>\n",
              "      <td>0.298563</td>\n",
              "    </tr>\n",
              "    <tr>\n",
              "      <th>std</th>\n",
              "      <td>0.037950</td>\n",
              "    </tr>\n",
              "    <tr>\n",
              "      <th>min</th>\n",
              "      <td>0.041164</td>\n",
              "    </tr>\n",
              "    <tr>\n",
              "      <th>25%</th>\n",
              "      <td>0.275479</td>\n",
              "    </tr>\n",
              "    <tr>\n",
              "      <th>50%</th>\n",
              "      <td>0.301287</td>\n",
              "    </tr>\n",
              "    <tr>\n",
              "      <th>75%</th>\n",
              "      <td>0.324592</td>\n",
              "    </tr>\n",
              "    <tr>\n",
              "      <th>max</th>\n",
              "      <td>0.440421</td>\n",
              "    </tr>\n",
              "  </tbody>\n",
              "</table>\n",
              "</div>"
            ],
            "text/plain": [
              "           gene_corr\n",
              "count  341977.000000\n",
              "mean        0.298563\n",
              "std         0.037950\n",
              "min         0.041164\n",
              "25%         0.275479\n",
              "50%         0.301287\n",
              "75%         0.324592\n",
              "max         0.440421"
            ]
          },
          "metadata": {
            "tags": []
          },
          "execution_count": 45
        }
      ]
    },
    {
      "cell_type": "code",
      "metadata": {
        "id": "yjhU10OaDhZ_",
        "colab_type": "code",
        "outputId": "b4efb00c-1f9c-43bf-d1d9-8de98caf15f5",
        "colab": {
          "base_uri": "https://localhost:8080/",
          "height": 351
        }
      },
      "source": [
        "\n",
        "## One TCGA-KIRC sample correlated with single cells ##\n",
        "\n",
        "sql = '''\n",
        "SELECT\n",
        "  sample_barcode,\n",
        "  cell_id,\n",
        "  CORR( Rank_FPKM, sc_rank_value ) as gene_corr\n",
        "FROM\n",
        "  `isb-cgc-02-0001.brca_single_cell_RNA.kirc_sc_join`\n",
        "WHERE\n",
        "  sample_barcode = 'TCGA-A3-3307-01A'\n",
        "GROUP BY\n",
        "  1,2\n",
        "'''\n",
        "\n",
        "corrValues = runQuery ( bqclient, sql, dryRun=False )\n",
        "\n",
        "corrValues.sort_values('gene_corr').plot.bar()\n"
      ],
      "execution_count": 0,
      "outputs": [
        {
          "output_type": "stream",
          "text": [
            "\n",
            " in runQuery ... \n",
            "    this query processed 40919300348 bytes \n"
          ],
          "name": "stdout"
        },
        {
          "output_type": "execute_result",
          "data": {
            "text/plain": [
              "<matplotlib.axes._subplots.AxesSubplot at 0x7f543fbd90b8>"
            ]
          },
          "metadata": {
            "tags": []
          },
          "execution_count": 49
        },
        {
          "output_type": "display_data",
          "data": {
            "image/png": "[encoded data removed]",
            "text/plain": [
              "<Figure size 432x288 with 1 Axes>"
            ]
          },
          "metadata": {
            "tags": []
          }
        }
      ]
    },
    {
      "cell_type": "code",
      "metadata": {
        "id": "dP9gAoMNSuK-",
        "colab_type": "code",
        "colab": {}
      },
      "source": [
        "## One TCGA-KIRC sample correlated with single cells ##\n",
        "\n",
        "sql = '''\n",
        "SELECT\n",
        "  sample_barcode,\n",
        "  cell_id,\n",
        "  Rank_FPKM, \n",
        "  sc_rank_value\n",
        "FROM\n",
        "  `isb-cgc-02-0001.brca_single_cell_RNA.kirc_sc_join`\n",
        "WHERE\n",
        "  sample_barcode = 'TCGA-A3-3307-01A'\n",
        "GROUP BY\n",
        "  1,2,3,4\n",
        "'''\n",
        "\n",
        "joinedValues = runQuery ( bqclient, sql, dryRun=False )\n",
        "\n",
        "joinedValues[0:5]"
      ],
      "execution_count": 0,
      "outputs": []
    },
    {
      "cell_type": "code",
      "metadata": {
        "id": "VMfArCtuTr4X",
        "colab_type": "code",
        "outputId": "55168c46-5956-4920-81b2-9ceed45faac5",
        "colab": {
          "base_uri": "https://localhost:8080/",
          "height": 303
        }
      },
      "source": [
        "joinedValues.plot.scatter(x='Rank_FPKM', y='sc_rank_value')"
      ],
      "execution_count": 0,
      "outputs": [
        {
          "output_type": "execute_result",
          "data": {
            "text/plain": [
              "<matplotlib.axes._subplots.AxesSubplot at 0x7f53fddb7cf8>"
            ]
          },
          "metadata": {
            "tags": []
          },
          "execution_count": 54
        },
        {
          "output_type": "display_data",
          "data": {
            "image/png": "[encoded data removed]",
            "text/plain": [
              "<Figure size 432x288 with 1 Axes>"
            ]
          },
          "metadata": {
            "tags": []
          }
        }
      ]
    },
    {
      "cell_type": "code",
      "metadata": {
        "id": "tELwc2x7_L9Y",
        "colab_type": "code",
        "outputId": "86eaa7ac-1f6a-4f5c-8331-41ef00897008",
        "colab": {
          "base_uri": "https://localhost:8080/",
          "height": 343
        }
      },
      "source": [
        "## All TCGA-KIRC samples correlated with single cells ##\n",
        "\n",
        "sql = '''\n",
        "\n",
        "WITH kirc_corrs AS (\n",
        "SELECT\n",
        "  sample_barcode,\n",
        "  cell_id,\n",
        "  CORR(  Rank_FPKM, sc_rank_value ) as gene_corr\n",
        "FROM\n",
        "  `isb-cgc-02-0001.brca_single_cell_RNA.kirc_sc_join`\n",
        "GROUP BY\n",
        "  1,2\n",
        ")\n",
        "\n",
        "SELECT\n",
        "  gene_corr\n",
        "FROM\n",
        "  kirc_corrs\n",
        "'''\n",
        "\n",
        "kirc_avg_corr = runQuery ( bqclient, sql, dryRun=False )\n",
        "\n",
        "kirc_avg_corr.describe()\n"
      ],
      "execution_count": 0,
      "outputs": [
        {
          "output_type": "stream",
          "text": [
            "\n",
            " in runQuery ... \n",
            "    this query processed 40919300348 bytes \n"
          ],
          "name": "stdout"
        },
        {
          "output_type": "execute_result",
          "data": {
            "text/html": [
              "<div>\n",
              "<style scoped>\n",
              "    .dataframe tbody tr th:only-of-type {\n",
              "        vertical-align: middle;\n",
              "    }\n",
              "\n",
              "    .dataframe tbody tr th {\n",
              "        vertical-align: top;\n",
              "    }\n",
              "\n",
              "    .dataframe thead th {\n",
              "        text-align: right;\n",
              "    }\n",
              "</style>\n",
              "<table border=\"1\" class=\"dataframe\">\n",
              "  <thead>\n",
              "    <tr style=\"text-align: right;\">\n",
              "      <th></th>\n",
              "      <th>gene_corr</th>\n",
              "    </tr>\n",
              "  </thead>\n",
              "  <tbody>\n",
              "    <tr>\n",
              "      <th>count</th>\n",
              "      <td>170567.000000</td>\n",
              "    </tr>\n",
              "    <tr>\n",
              "      <th>mean</th>\n",
              "      <td>0.276503</td>\n",
              "    </tr>\n",
              "    <tr>\n",
              "      <th>std</th>\n",
              "      <td>0.036234</td>\n",
              "    </tr>\n",
              "    <tr>\n",
              "      <th>min</th>\n",
              "      <td>0.018546</td>\n",
              "    </tr>\n",
              "    <tr>\n",
              "      <th>25%</th>\n",
              "      <td>0.256678</td>\n",
              "    </tr>\n",
              "    <tr>\n",
              "      <th>50%</th>\n",
              "      <td>0.279593</td>\n",
              "    </tr>\n",
              "    <tr>\n",
              "      <th>75%</th>\n",
              "      <td>0.300494</td>\n",
              "    </tr>\n",
              "    <tr>\n",
              "      <th>max</th>\n",
              "      <td>0.434058</td>\n",
              "    </tr>\n",
              "  </tbody>\n",
              "</table>\n",
              "</div>"
            ],
            "text/plain": [
              "           gene_corr\n",
              "count  170567.000000\n",
              "mean        0.276503\n",
              "std         0.036234\n",
              "min         0.018546\n",
              "25%         0.256678\n",
              "50%         0.279593\n",
              "75%         0.300494\n",
              "max         0.434058"
            ]
          },
          "metadata": {
            "tags": []
          },
          "execution_count": 50
        }
      ]
    },
    {
      "cell_type": "markdown",
      "metadata": {
        "id": "0dK1bWn4Vn6l",
        "colab_type": "text"
      },
      "source": [
        "So, BRCA is slightly more correlated to single cells, compared to KIRC samples.\n",
        "\n",
        "It might be better to either take the top correlating genes in BRCA, and use those genes\n",
        "in comparing other tissues... Or just take high expression genes in the single cells, and \n",
        "just use those."
      ]
    },
    {
      "cell_type": "markdown",
      "metadata": {
        "id": "3j3eS6NaVoCt",
        "colab_type": "text"
      },
      "source": [
        ""
      ]
    },
    {
      "cell_type": "code",
      "metadata": {
        "id": "IeHiZrdgVoRQ",
        "colab_type": "code",
        "colab": {}
      },
      "source": [
        "\n",
        "### Here's an example of when things don't go as expected!\n",
        "# This query takes forever forever.\n",
        "\n",
        "sql = '''\n",
        "\n",
        "\n",
        "WITH\n",
        "  sc_info AS (\n",
        "  SELECT\n",
        "    sample\n",
        "  FROM\n",
        "    `isb-cgc-02-0001.brca_single_cell_RNA.gse75688_sample_info`\n",
        "  WHERE\n",
        "    type = 'SC'\n",
        "    AND index1 = 'Tumor'\n",
        "    AND NOT REGEXP_CONTAINS(sample, 'LN_')\n",
        "  GROUP BY\n",
        "    sample ),\n",
        "    --\n",
        "    --\n",
        "  summed_sc AS (\n",
        "  SELECT\n",
        "    gene_name,\n",
        "    sample_name,\n",
        "    SUM(value) AS summed_value\n",
        "  FROM\n",
        "    `isb-cgc-02-0001.brca_single_cell_RNA.gse75688_sc_brca`\n",
        "  WHERE\n",
        "    sample_name IN (\n",
        "    SELECT\n",
        "      sample\n",
        "    FROM\n",
        "      sc_info )\n",
        "    AND value > 0\n",
        "    AND gene_type = 'protein_coding'\n",
        "  GROUP BY\n",
        "    1,\n",
        "    2 ),\n",
        "  tcga_join AS (\n",
        "  SELECT\n",
        "    tcga.project_short_name AS short_name,\n",
        "    tcga.sample_barcode AS sample_barcode,\n",
        "    tcga.gene_name AS tcga_gene_name,\n",
        "    tcga.HTSeq__FPKM_UQ,\n",
        "    RANK() OVER(PARTITION BY sample_barcode, sample_name ORDER BY HTSeq__FPKM_UQ) AS tcga_rank_FPKM,\n",
        "    sc.sample_name AS cell_id,\n",
        "    sc.gene_name AS sc_gene_name,\n",
        "    sc.summed_value AS summed_value,\n",
        "    RANK() OVER(PARTITION BY sample_barcode, sample_name ORDER BY summed_value) AS sc_rank_sum\n",
        "  FROM\n",
        "    `isb-cgc.TCGA_hg38_data_v0.RNAseq_Gene_Expression` AS tcga\n",
        "  JOIN\n",
        "    summed_sc AS sc\n",
        "  ON\n",
        "    sc.gene_name = tcga.gene_name\n",
        "  WHERE\n",
        "    tcga.project_short_name = 'TCGA-BRCA'   -- change tissue types here\n",
        "  GROUP BY\n",
        "    1,\n",
        "    2,\n",
        "    3,\n",
        "    4,\n",
        "    6,\n",
        "    7,\n",
        "    8 ),\n",
        "  corrTable AS (\n",
        "  SELECT\n",
        "    sample_barcode,\n",
        "    cell_id,\n",
        "    CORR( tcga_rank_FPKM,\n",
        "      sc_rank_sum) AS gene_corr\n",
        "  FROM\n",
        "    tcga_join\n",
        "  GROUP BY\n",
        "    1,\n",
        "    2 )\n",
        "  --\n",
        "  --\n",
        "SELECT\n",
        "  AVG(gene_corr) avg_corr,\n",
        "  VAR_SAMP(gene_corr) corr_var\n",
        "FROM\n",
        "  corrTable\n",
        "  \n",
        "  '''\n",
        "\n",
        "brca_summed_corr = runQuery ( bqclient, sql, dryRun=False )\n",
        "\n",
        "brca_summed_corr.describe()\n",
        "  \n",
        "# 1\tBRCA\n",
        "# mean corr 0.298\n",
        "# var  corr 0.001\n",
        "\n",
        "# 1\tKIRC\n",
        "# 0.276\n",
        "# 0.001\n",
        "\n"
      ],
      "execution_count": 0,
      "outputs": []
    },
    {
      "cell_type": "markdown",
      "metadata": {
        "id": "Bi-WWG3jbHEi",
        "colab_type": "text"
      },
      "source": [
        "So we've tried correlating individual cells with TCGA samples, and even summing across cells before\n",
        "correlation, and we've found that the matching tissue has a very small bit larger correlation.\n",
        "\n",
        "Probably need to focus on particular genes first..."
      ]
    },
    {
      "cell_type": "code",
      "metadata": {
        "id": "Gn78mwbEbX3m",
        "colab_type": "code",
        "outputId": "9709acfc-0c43-4f4a-f63d-6ee77f8fa213",
        "colab": {
          "base_uri": "https://localhost:8080/",
          "height": 853
        }
      },
      "source": [
        "sql = '''\n",
        "WITH\n",
        "  -- create a cohort\n",
        "    --\n",
        "    --\n",
        "    --\n",
        "sc_info AS (\n",
        "  SELECT\n",
        "    sample,\n",
        "    index1,\n",
        "    index2,\n",
        "    index3\n",
        "  FROM\n",
        "    `isb-cgc-02-0001.brca_single_cell_RNA.gse75688_sample_info`\n",
        "  WHERE\n",
        "    type = 'SC'\n",
        "  GROUP BY\n",
        "    sample,\n",
        "    index1,\n",
        "    index2,\n",
        "    index3),\n",
        "    --\n",
        "    --\n",
        "    --\n",
        "  sc_values AS (\n",
        "  SELECT\n",
        "    sample_name,\n",
        "    index1,\n",
        "    index2,\n",
        "    index3,\n",
        "    gene_name,\n",
        "    gene_type,\n",
        "    value,\n",
        "    RANK() OVER(PARTITION BY sample_name ORDER BY value) AS rank_value\n",
        "  FROM\n",
        "    `isb-cgc-02-0001.brca_single_cell_RNA.gse75688_sc_brca`\n",
        "  JOIN\n",
        "    sc_info\n",
        "  ON\n",
        "    sc_info.sample = sample_name\n",
        "  WHERE\n",
        "    value > 0\n",
        "    AND gene_type = 'protein_coding'\n",
        "  GROUP BY\n",
        "    1,\n",
        "    2,\n",
        "    3,\n",
        "    4,\n",
        "    5,\n",
        "    6,\n",
        "    7 \n",
        "    ),\n",
        "    --\n",
        "    --\n",
        "    --\n",
        "sc_join AS (\n",
        "  SELECT\n",
        "    sc1.sample_name AS cell_id1,\n",
        "    sc1.index1 AS sc_index11,\n",
        "    sc1.index2 AS sc_index12,\n",
        "    sc1.index3 AS sc_index13,    \n",
        "    sc1.gene_name AS sc_gene_name1,\n",
        "    sc1.gene_type AS sc_gene_type1,\n",
        "    sc1.value AS value1,\n",
        "    sc1.rank_value as sc1_rank,\n",
        "    sc2.sample_name AS cell_id2,\n",
        "    sc2.index1 AS sc_index21,\n",
        "    sc2.index2 AS sc_index22,\n",
        "    sc2.index3 AS sc_index23,\n",
        "    sc2.gene_name AS sc_gene_name2,\n",
        "    sc2.gene_type AS sc_gene_type2,\n",
        "    sc2.value AS value2,\n",
        "    sc2.rank_value as sc2_rank\n",
        "  FROM\n",
        "    sc_values AS sc1\n",
        "  JOIN\n",
        "    sc_values AS sc2\n",
        "  ON\n",
        "    sc1.gene_name = sc2.gene_name\n",
        "    AND sc1.sample_name > sc2.sample_name\n",
        "  GROUP BY\n",
        "    1,\n",
        "    2,\n",
        "    3,\n",
        "    4,\n",
        "    5,\n",
        "    6,\n",
        "    7,\n",
        "    8,\n",
        "    9,\n",
        "    10,\n",
        "    11,\n",
        "    12,\n",
        "    13,\n",
        "    14,\n",
        "    15,\n",
        "    16)\n",
        "    \n",
        "    --\n",
        "    --\n",
        "    --\n",
        "SELECT\n",
        "  sc_index12,\n",
        "  sc_index13,\n",
        "  sc_index22,\n",
        "  sc_index23,\n",
        "  CORR(sc1_rank,\n",
        "    sc2_rank) corr\n",
        "FROM\n",
        "  sc_join\n",
        "GROUP BY\n",
        "  1,\n",
        "  2,\n",
        "  3,\n",
        "  4\n",
        "ORDER BY \n",
        "  corr DESC\n",
        "'''\n",
        "\n",
        "runQuery ( bqclient, sql, dryRun=False )"
      ],
      "execution_count": 0,
      "outputs": [
        {
          "output_type": "stream",
          "text": [
            "\n",
            " in runQuery ... \n",
            "    this query processed 1325135927 bytes \n"
          ],
          "name": "stdout"
        },
        {
          "output_type": "execute_result",
          "data": {
            "text/html": [
              "<div>\n",
              "<style scoped>\n",
              "    .dataframe tbody tr th:only-of-type {\n",
              "        vertical-align: middle;\n",
              "    }\n",
              "\n",
              "    .dataframe tbody tr th {\n",
              "        vertical-align: top;\n",
              "    }\n",
              "\n",
              "    .dataframe thead th {\n",
              "        text-align: right;\n",
              "    }\n",
              "</style>\n",
              "<table border=\"1\" class=\"dataframe\">\n",
              "  <thead>\n",
              "    <tr style=\"text-align: right;\">\n",
              "      <th></th>\n",
              "      <th>sc_index12</th>\n",
              "      <th>sc_index13</th>\n",
              "      <th>sc_index22</th>\n",
              "      <th>sc_index23</th>\n",
              "      <th>corr</th>\n",
              "    </tr>\n",
              "  </thead>\n",
              "  <tbody>\n",
              "    <tr>\n",
              "      <th>0</th>\n",
              "      <td>Tumor</td>\n",
              "      <td>Tumor</td>\n",
              "      <td>Tumor</td>\n",
              "      <td>Tumor</td>\n",
              "      <td>0.287939</td>\n",
              "    </tr>\n",
              "    <tr>\n",
              "      <th>1</th>\n",
              "      <td>Immune</td>\n",
              "      <td>Myeloid</td>\n",
              "      <td>Immune</td>\n",
              "      <td>Myeloid</td>\n",
              "      <td>0.267972</td>\n",
              "    </tr>\n",
              "    <tr>\n",
              "      <th>2</th>\n",
              "      <td>Tumor</td>\n",
              "      <td>Tumor</td>\n",
              "      <td>Immune</td>\n",
              "      <td>Myeloid</td>\n",
              "      <td>0.267548</td>\n",
              "    </tr>\n",
              "    <tr>\n",
              "      <th>3</th>\n",
              "      <td>Immune</td>\n",
              "      <td>Bcell</td>\n",
              "      <td>Immune</td>\n",
              "      <td>Myeloid</td>\n",
              "      <td>0.247840</td>\n",
              "    </tr>\n",
              "    <tr>\n",
              "      <th>4</th>\n",
              "      <td>Immune</td>\n",
              "      <td>Tcell</td>\n",
              "      <td>Immune</td>\n",
              "      <td>Myeloid</td>\n",
              "      <td>0.239118</td>\n",
              "    </tr>\n",
              "    <tr>\n",
              "      <th>5</th>\n",
              "      <td>Immune</td>\n",
              "      <td>Bcell</td>\n",
              "      <td>Immune</td>\n",
              "      <td>Bcell</td>\n",
              "      <td>0.239003</td>\n",
              "    </tr>\n",
              "    <tr>\n",
              "      <th>6</th>\n",
              "      <td>Tumor</td>\n",
              "      <td>Tumor</td>\n",
              "      <td>Immune</td>\n",
              "      <td>Tcell</td>\n",
              "      <td>0.227267</td>\n",
              "    </tr>\n",
              "    <tr>\n",
              "      <th>7</th>\n",
              "      <td>Tumor</td>\n",
              "      <td>Tumor</td>\n",
              "      <td>Immune</td>\n",
              "      <td>Bcell</td>\n",
              "      <td>0.226611</td>\n",
              "    </tr>\n",
              "    <tr>\n",
              "      <th>8</th>\n",
              "      <td>Immune</td>\n",
              "      <td>Myeloid</td>\n",
              "      <td>Tumor</td>\n",
              "      <td>Tumor</td>\n",
              "      <td>0.225625</td>\n",
              "    </tr>\n",
              "    <tr>\n",
              "      <th>9</th>\n",
              "      <td>Stromal</td>\n",
              "      <td>Stromal</td>\n",
              "      <td>Tumor</td>\n",
              "      <td>Tumor</td>\n",
              "      <td>0.224335</td>\n",
              "    </tr>\n",
              "    <tr>\n",
              "      <th>10</th>\n",
              "      <td>Immune</td>\n",
              "      <td>Tcell</td>\n",
              "      <td>Tumor</td>\n",
              "      <td>Tumor</td>\n",
              "      <td>0.215562</td>\n",
              "    </tr>\n",
              "    <tr>\n",
              "      <th>11</th>\n",
              "      <td>Immune</td>\n",
              "      <td>Myeloid</td>\n",
              "      <td>Immune</td>\n",
              "      <td>Tcell</td>\n",
              "      <td>0.214376</td>\n",
              "    </tr>\n",
              "    <tr>\n",
              "      <th>12</th>\n",
              "      <td>Stromal</td>\n",
              "      <td>Stromal</td>\n",
              "      <td>Immune</td>\n",
              "      <td>Myeloid</td>\n",
              "      <td>0.210298</td>\n",
              "    </tr>\n",
              "    <tr>\n",
              "      <th>13</th>\n",
              "      <td>Immune</td>\n",
              "      <td>Tcell</td>\n",
              "      <td>Immune</td>\n",
              "      <td>Tcell</td>\n",
              "      <td>0.207242</td>\n",
              "    </tr>\n",
              "    <tr>\n",
              "      <th>14</th>\n",
              "      <td>Immune</td>\n",
              "      <td>Bcell</td>\n",
              "      <td>Immune</td>\n",
              "      <td>Tcell</td>\n",
              "      <td>0.199449</td>\n",
              "    </tr>\n",
              "    <tr>\n",
              "      <th>15</th>\n",
              "      <td>Immune</td>\n",
              "      <td>Myeloid</td>\n",
              "      <td>Immune</td>\n",
              "      <td>Bcell</td>\n",
              "      <td>0.197220</td>\n",
              "    </tr>\n",
              "    <tr>\n",
              "      <th>16</th>\n",
              "      <td>Immune</td>\n",
              "      <td>Tcell</td>\n",
              "      <td>Immune</td>\n",
              "      <td>Bcell</td>\n",
              "      <td>0.194900</td>\n",
              "    </tr>\n",
              "    <tr>\n",
              "      <th>17</th>\n",
              "      <td>Immune</td>\n",
              "      <td>Myeloid</td>\n",
              "      <td>Stromal</td>\n",
              "      <td>Stromal</td>\n",
              "      <td>0.194645</td>\n",
              "    </tr>\n",
              "    <tr>\n",
              "      <th>18</th>\n",
              "      <td>Stromal</td>\n",
              "      <td>Stromal</td>\n",
              "      <td>Immune</td>\n",
              "      <td>Tcell</td>\n",
              "      <td>0.193207</td>\n",
              "    </tr>\n",
              "    <tr>\n",
              "      <th>19</th>\n",
              "      <td>Tumor</td>\n",
              "      <td>Tumor</td>\n",
              "      <td>Stromal</td>\n",
              "      <td>Stromal</td>\n",
              "      <td>0.184245</td>\n",
              "    </tr>\n",
              "    <tr>\n",
              "      <th>20</th>\n",
              "      <td>Immune</td>\n",
              "      <td>Bcell</td>\n",
              "      <td>Tumor</td>\n",
              "      <td>Tumor</td>\n",
              "      <td>0.181140</td>\n",
              "    </tr>\n",
              "    <tr>\n",
              "      <th>21</th>\n",
              "      <td>Stromal</td>\n",
              "      <td>Stromal</td>\n",
              "      <td>Stromal</td>\n",
              "      <td>Stromal</td>\n",
              "      <td>0.174341</td>\n",
              "    </tr>\n",
              "    <tr>\n",
              "      <th>22</th>\n",
              "      <td>Stromal</td>\n",
              "      <td>Stromal</td>\n",
              "      <td>Immune</td>\n",
              "      <td>Bcell</td>\n",
              "      <td>0.169438</td>\n",
              "    </tr>\n",
              "    <tr>\n",
              "      <th>23</th>\n",
              "      <td>Immune</td>\n",
              "      <td>Tcell</td>\n",
              "      <td>Stromal</td>\n",
              "      <td>Stromal</td>\n",
              "      <td>0.164647</td>\n",
              "    </tr>\n",
              "    <tr>\n",
              "      <th>24</th>\n",
              "      <td>Immune</td>\n",
              "      <td>Bcell</td>\n",
              "      <td>Stromal</td>\n",
              "      <td>Stromal</td>\n",
              "      <td>0.089426</td>\n",
              "    </tr>\n",
              "  </tbody>\n",
              "</table>\n",
              "</div>"
            ],
            "text/plain": [
              "   sc_index12 sc_index13 sc_index22 sc_index23      corr\n",
              "0       Tumor      Tumor      Tumor      Tumor  0.287939\n",
              "1      Immune    Myeloid     Immune    Myeloid  0.267972\n",
              "2       Tumor      Tumor     Immune    Myeloid  0.267548\n",
              "3      Immune      Bcell     Immune    Myeloid  0.247840\n",
              "4      Immune      Tcell     Immune    Myeloid  0.239118\n",
              "5      Immune      Bcell     Immune      Bcell  0.239003\n",
              "6       Tumor      Tumor     Immune      Tcell  0.227267\n",
              "7       Tumor      Tumor     Immune      Bcell  0.226611\n",
              "8      Immune    Myeloid      Tumor      Tumor  0.225625\n",
              "9     Stromal    Stromal      Tumor      Tumor  0.224335\n",
              "10     Immune      Tcell      Tumor      Tumor  0.215562\n",
              "11     Immune    Myeloid     Immune      Tcell  0.214376\n",
              "12    Stromal    Stromal     Immune    Myeloid  0.210298\n",
              "13     Immune      Tcell     Immune      Tcell  0.207242\n",
              "14     Immune      Bcell     Immune      Tcell  0.199449\n",
              "15     Immune    Myeloid     Immune      Bcell  0.197220\n",
              "16     Immune      Tcell     Immune      Bcell  0.194900\n",
              "17     Immune    Myeloid    Stromal    Stromal  0.194645\n",
              "18    Stromal    Stromal     Immune      Tcell  0.193207\n",
              "19      Tumor      Tumor    Stromal    Stromal  0.184245\n",
              "20     Immune      Bcell      Tumor      Tumor  0.181140\n",
              "21    Stromal    Stromal    Stromal    Stromal  0.174341\n",
              "22    Stromal    Stromal     Immune      Bcell  0.169438\n",
              "23     Immune      Tcell    Stromal    Stromal  0.164647\n",
              "24     Immune      Bcell    Stromal    Stromal  0.089426"
            ]
          },
          "metadata": {
            "tags": []
          },
          "execution_count": 58
        }
      ]
    },
    {
      "cell_type": "markdown",
      "metadata": {
        "id": "5YoGpRSNnIRV",
        "colab_type": "text"
      },
      "source": [
        ""
      ]
    }
  ]
}