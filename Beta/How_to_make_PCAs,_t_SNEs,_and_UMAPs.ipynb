{
  "nbformat": 4,
  "nbformat_minor": 0,
  "metadata": {
    "colab": {
      "name": "How to make PCAs, t-SNEs, and UMAPs",
      "provenance": [],
      "collapsed_sections": []
    },
    "kernelspec": {
      "name": "python3",
      "display_name": "Python 3"
    }
  },
  "cells": [
    {
      "cell_type": "markdown",
      "metadata": {
        "id": "_Pj1aDLeeqof",
        "colab_type": "text"
      },
      "source": [
        "# ISB-CGC Community Notebooks\n",
        "\n"
      ]
    },
    {
      "cell_type": "markdown",
      "metadata": {
        "id": "CIivGB6Veqy6",
        "colab_type": "text"
      },
      "source": [
        "```\n",
        "Title:   How to make t-SNE and UMAP plots \n",
        "Author:  David L Gibbs\n",
        "Created: 2019-10-15\n",
        "Purpose: Demonstrate how to perform dimension reduction with PCA, t-SNE, and UMAP, and create visualizations.\n",
        "Notes:\n",
        "```"
      ]
    },
    {
      "cell_type": "markdown",
      "metadata": {
        "id": "tHZyDmniQNHn",
        "colab_type": "text"
      },
      "source": [
        "In this notebook we will cover how to apply dimension reduction to a matrix using PCA, t-SNE, and UMAP techniques.\n",
        "\n",
        "These methods are very common in single cell RNA-seq analysis, but can be applied to any type of data. Here we will be using TCGA gene expression data from two studies, KIRC (kidney cancer) and MESO (skin cancer).\n",
        "\n",
        "The final result is a set of vectors that approximate the a low dimensional representation of the data, and some plots showing the low dimensional representation. In single cell RNA-seq, this is the now classic cluster of cell types plot, where each cluster is a type of cells.\n",
        "\n",
        "In this work, we'll see if the two tissue types separate."
      ]
    },
    {
      "cell_type": "markdown",
      "metadata": {
        "id": "UVVSsHuAB3QH",
        "colab_type": "text"
      },
      "source": [
        "This data was created by starting with the TCGA MESO and KICH data sets and taking a random sample of high variance genes within each study.  So we should get a matrix with some high variance genes in MESO, and some high variance genes in KICH, but without a lot of overlap.  Hopefully, enough differences will be present to separate the two groups, but it's not guaranteed."
      ]
    },
    {
      "cell_type": "markdown",
      "metadata": {
        "id": "Wm5fT5IBSAdx",
        "colab_type": "text"
      },
      "source": [
        "# Auth"
      ]
    },
    {
      "cell_type": "code",
      "metadata": {
        "id": "G8YUY7P2SOlS",
        "colab_type": "code",
        "outputId": "28128d52-220f-427d-c970-eb087a26e5e5",
        "colab": {
          "base_uri": "https://localhost:8080/",
          "height": 343
        }
      },
      "source": [
        "# first we'll log in, in order to access a project bucket.\n",
        "\n",
        "!gcloud auth login\n",
        "\n",
        "# in order to authenticate and get a credentials token use the following:\n",
        "# !gcloud auth application-default login"
      ],
      "execution_count": 1,
      "outputs": [
        {
          "output_type": "stream",
          "text": [
            "Go to the following link in your browser:\n",
            "\n",
            "    https://accounts.google.com/o/oauth2/auth?code_challenge=mYzIsCgHGFyW1r4edj0mp4IwfsmyLNE3t4ccY4xrmEk&prompt=select_account&code_challenge_method=S256&access_type=offline&redirect_uri=urn%3Aietf%3Awg%3Aoauth%3A2.0%3Aoob&response_type=code&client_id=32555940559.apps.googleusercontent.com&scope=https%3A%2F%2Fwww.googleapis.com%2Fauth%2Fuserinfo.email+https%3A%2F%2Fwww.googleapis.com%2Fauth%2Fcloud-platform+https%3A%2F%2Fwww.googleapis.com%2Fauth%2Fappengine.admin+https%3A%2F%2Fwww.googleapis.com%2Fauth%2Fcompute+https%3A%2F%2Fwww.googleapis.com%2Fauth%2Faccounts.reauth\n",
            "\n",
            "\n",
            "Enter verification code: 4/sAEfwOD0wNyGa_2VLfwmaz25GPiJyn9CsfVto5oUwTlSlvD7eEGaBHk\n",
            "\u001b[1;33mWARNING:\u001b[0m `gcloud auth login` no longer writes application default credentials.\n",
            "If you need to use ADC, see:\n",
            "  gcloud auth application-default --help\n",
            "\n",
            "You are now logged in as [dgibbs@systemsbiology.org].\n",
            "Your current project is [None].  You can change this setting by running:\n",
            "  $ gcloud config set project PROJECT_ID\n",
            "\n",
            "\n",
            "To take a quick anonymous survey, run:\n",
            "  $ gcloud alpha survey\n",
            "\n"
          ],
          "name": "stdout"
        }
      ]
    },
    {
      "cell_type": "markdown",
      "metadata": {
        "id": "1iSD59Z5eTba",
        "colab_type": "text"
      },
      "source": [
        "\n",
        "---\n"
      ]
    },
    {
      "cell_type": "markdown",
      "metadata": {
        "id": "duawtph3-k6C",
        "colab_type": "text"
      },
      "source": [
        "# Software install"
      ]
    },
    {
      "cell_type": "markdown",
      "metadata": {
        "id": "RQs_zH78eiLL",
        "colab_type": "text"
      },
      "source": [
        "First we need to install scanpy, the python library that streamlines these types of analysis.\n",
        "\n",
        "The documentation on scanpy can be found at: \n",
        "https://icb-scanpy.readthedocs-hosted.com/en/stable/index.html"
      ]
    },
    {
      "cell_type": "code",
      "metadata": {
        "id": "ULklCEN4eeq1",
        "colab_type": "code",
        "outputId": "e551a41d-2d3e-4a61-ad91-b6c5d7e4dfea",
        "colab": {
          "base_uri": "https://localhost:8080/",
          "height": 816
        }
      },
      "source": [
        "!pip3 install scanpy"
      ],
      "execution_count": 7,
      "outputs": [
        {
          "output_type": "stream",
          "text": [
            "Collecting scanpy\n",
            "\u001b[?25l  Downloading https://files.pythonhosted.org/packages/c9/df/e0957422a85e924501afbff2f9283e02d93cefcb04aa8319ade7af68d266/scanpy-1.4.4.post1-py3-none-any.whl (1.9MB)\n",
            "\u001b[K     |████████████████████████████████| 1.9MB 9.4MB/s \n",
            "\u001b[?25hRequirement already satisfied: pandas>=0.21 in /usr/local/lib/python3.6/dist-packages (from scanpy) (0.24.2)\n",
            "Requirement already satisfied: matplotlib==3.0.* in /usr/local/lib/python3.6/dist-packages (from scanpy) (3.0.3)\n",
            "Requirement already satisfied: natsort in /usr/local/lib/python3.6/dist-packages (from scanpy) (5.5.0)\n",
            "Collecting anndata>=0.6.22rc1 (from scanpy)\n",
            "\u001b[?25l  Downloading https://files.pythonhosted.org/packages/2b/72/87196c15f68d9865c31a43a10cf7c50bcbcedd5607d09f9aada0b3963103/anndata-0.6.22.post1-py3-none-any.whl (47kB)\n",
            "\u001b[K     |████████████████████████████████| 51kB 7.3MB/s \n",
            "\u001b[?25hRequirement already satisfied: joblib in /usr/local/lib/python3.6/dist-packages (from scanpy) (0.14.0)\n",
            "Requirement already satisfied: importlib-metadata>=0.7; python_version < \"3.8\" in /usr/local/lib/python3.6/dist-packages (from scanpy) (0.23)\n",
            "Requirement already satisfied: umap-learn>=0.3.0 in /usr/local/lib/python3.6/dist-packages (from scanpy) (0.3.10)\n",
            "Requirement already satisfied: seaborn in /usr/local/lib/python3.6/dist-packages (from scanpy) (0.9.0)\n",
            "Requirement already satisfied: tables in /usr/local/lib/python3.6/dist-packages (from scanpy) (3.4.4)\n",
            "Collecting numba>=0.41.0 (from scanpy)\n",
            "\u001b[?25l  Downloading https://files.pythonhosted.org/packages/53/34/22b6c2ded558976b5367be01b851ae679a0d1ba994de002d54afe84187b5/numba-0.46.0-cp36-cp36m-manylinux1_x86_64.whl (3.6MB)\n",
            "\u001b[K     |████████████████████████████████| 3.6MB 52.5MB/s \n",
            "\u001b[?25hRequirement already satisfied: h5py in /usr/local/lib/python3.6/dist-packages (from scanpy) (2.8.0)\n",
            "Requirement already satisfied: patsy in /usr/local/lib/python3.6/dist-packages (from scanpy) (0.5.1)\n",
            "Requirement already satisfied: statsmodels>=0.10.0rc2 in /usr/local/lib/python3.6/dist-packages (from scanpy) (0.10.1)\n",
            "Requirement already satisfied: networkx in /usr/local/lib/python3.6/dist-packages (from scanpy) (2.3)\n",
            "Requirement already satisfied: scikit-learn!=0.21.0,!=0.21.1,>=0.19.1 in /usr/local/lib/python3.6/dist-packages (from scanpy) (0.21.3)\n",
            "Requirement already satisfied: scipy>=1.3 in /usr/local/lib/python3.6/dist-packages (from scanpy) (1.3.1)\n",
            "Requirement already satisfied: tqdm in /usr/local/lib/python3.6/dist-packages (from scanpy) (4.28.1)\n",
            "Requirement already satisfied: python-dateutil>=2.5.0 in /usr/local/lib/python3.6/dist-packages (from pandas>=0.21->scanpy) (2.5.3)\n",
            "Requirement already satisfied: pytz>=2011k in /usr/local/lib/python3.6/dist-packages (from pandas>=0.21->scanpy) (2018.9)\n",
            "Requirement already satisfied: numpy>=1.12.0 in /usr/local/lib/python3.6/dist-packages (from pandas>=0.21->scanpy) (1.16.5)\n",
            "Requirement already satisfied: cycler>=0.10 in /usr/local/lib/python3.6/dist-packages (from matplotlib==3.0.*->scanpy) (0.10.0)\n",
            "Requirement already satisfied: pyparsing!=2.0.4,!=2.1.2,!=2.1.6,>=2.0.1 in /usr/local/lib/python3.6/dist-packages (from matplotlib==3.0.*->scanpy) (2.4.2)\n",
            "Requirement already satisfied: kiwisolver>=1.0.1 in /usr/local/lib/python3.6/dist-packages (from matplotlib==3.0.*->scanpy) (1.1.0)\n",
            "Requirement already satisfied: zipp>=0.5 in /usr/local/lib/python3.6/dist-packages (from importlib-metadata>=0.7; python_version < \"3.8\"->scanpy) (0.6.0)\n",
            "Requirement already satisfied: six>=1.9.0 in /usr/local/lib/python3.6/dist-packages (from tables->scanpy) (1.12.0)\n",
            "Requirement already satisfied: numexpr>=2.5.2 in /usr/local/lib/python3.6/dist-packages (from tables->scanpy) (2.7.0)\n",
            "Collecting llvmlite>=0.30.0dev0 (from numba>=0.41.0->scanpy)\n",
            "\u001b[?25l  Downloading https://files.pythonhosted.org/packages/b3/93/924788871a889ead1c115ba2d43e67932a8865d38fdb179505c99e4bb575/llvmlite-0.30.0-cp36-cp36m-manylinux1_x86_64.whl (20.2MB)\n",
            "\u001b[K     |████████████████████████████████| 20.2MB 1.6MB/s \n",
            "\u001b[?25hRequirement already satisfied: decorator>=4.3.0 in /usr/local/lib/python3.6/dist-packages (from networkx->scanpy) (4.4.0)\n",
            "Requirement already satisfied: setuptools in /usr/local/lib/python3.6/dist-packages (from kiwisolver>=1.0.1->matplotlib==3.0.*->scanpy) (41.2.0)\n",
            "Requirement already satisfied: more-itertools in /usr/local/lib/python3.6/dist-packages (from zipp>=0.5->importlib-metadata>=0.7; python_version < \"3.8\"->scanpy) (7.2.0)\n",
            "Installing collected packages: anndata, llvmlite, numba, scanpy\n",
            "  Found existing installation: llvmlite 0.29.0\n",
            "    Uninstalling llvmlite-0.29.0:\n",
            "      Successfully uninstalled llvmlite-0.29.0\n",
            "  Found existing installation: numba 0.40.1\n",
            "    Uninstalling numba-0.40.1:\n",
            "      Successfully uninstalled numba-0.40.1\n",
            "Successfully installed anndata-0.6.22.post1 llvmlite-0.30.0 numba-0.46.0 scanpy-1.4.4.post1\n"
          ],
          "name": "stdout"
        }
      ]
    },
    {
      "cell_type": "markdown",
      "metadata": {
        "id": "xnUP-wgoeTsF",
        "colab_type": "text"
      },
      "source": [
        "Now that we have our software installed, we can import the libraries and read in some data"
      ]
    },
    {
      "cell_type": "code",
      "metadata": {
        "id": "hLiNsOYdez6Q",
        "colab_type": "code",
        "colab": {}
      },
      "source": [
        "import scanpy as sc\n",
        "import pandas as pd"
      ],
      "execution_count": 0,
      "outputs": []
    },
    {
      "cell_type": "markdown",
      "metadata": {
        "id": "D1hM4YOy-c8y",
        "colab_type": "text"
      },
      "source": [
        "# Reading in data"
      ]
    },
    {
      "cell_type": "markdown",
      "metadata": {
        "id": "PHXSv2h2e4bI",
        "colab_type": "text"
      },
      "source": [
        "I have some data already in a bucket.. we'll copy that over, and read it into scanpy making what's called an 'anndata' object.\n",
        "\n",
        "The Anndata (annotated data) object is really cool:  https://anndata.readthedocs.io/en/stable/\n",
        "\n",
        "It's a matrix (X) with pandas dataframes attached to it's columns (var) and rows (obs). Additionally there's an unstructured list of data (uns).\n",
        "\n",
        "See the image below (taken from the anndata docs page).\n",
        "\n",
        "![image.png](data:image/png;base64,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)\n"
      ]
    },
    {
      "cell_type": "code",
      "metadata": {
        "id": "yXuQN2fOfBhI",
        "colab_type": "code",
        "outputId": "233af751-851d-4d8a-d2ae-28917dbadea5",
        "colab": {
          "base_uri": "https://localhost:8080/",
          "height": 119
        }
      },
      "source": [
        "# we're going to work with a gene expression matrix (tcga_expr_data_no_header.tsv)\n",
        "# a table of gene names (geneids.tsv)\n",
        "# and a table of tissue labels (data_labels.tsv)\n",
        "\n",
        "!gsutil -m cp gs://tcga_expr_data_bucket/* ."
      ],
      "execution_count": 85,
      "outputs": [
        {
          "output_type": "stream",
          "text": [
            "Copying gs://tcga_expr_data_bucket/data_labels.tsv...\n",
            "Copying gs://tcga_expr_data_bucket/tcga_expr_data.tsv...\n",
            "/ [0/4 files][    0.0 B/  1.1 MiB]   0% Done                                    \r/ [0/4 files][    0.0 B/  1.1 MiB]   0% Done                                    \rCopying gs://tcga_expr_data_bucket/tcga_expr_data_no_header.tsv...\n",
            "Copying gs://tcga_expr_data_bucket/geneids.tsv...\n",
            "/ [4/4 files][  1.1 MiB/  1.1 MiB] 100% Done                                    \n",
            "Operation completed over 4 objects/1.1 MiB.                                      \n"
          ],
          "name": "stdout"
        }
      ]
    },
    {
      "cell_type": "code",
      "metadata": {
        "id": "PkV2G8JWtYwr",
        "colab_type": "code",
        "outputId": "d9b26869-adaa-4187-f0e5-564292da540c",
        "colab": {
          "base_uri": "https://localhost:8080/",
          "height": 187
        }
      },
      "source": [
        "!head data_labels.tsv"
      ],
      "execution_count": 0,
      "outputs": [
        {
          "output_type": "stream",
          "text": [
            "ID\tStudy\n",
            "fe8b28e6.e019.475a.bfd7.d5880a6967fe\tMESO\n",
            "e0848b76.e86a.4564.a5ae.f3daee48224d\tMESO\n",
            "X3d627ad5.9b51.4caf.aa2c.645a184e7f30\tMESO\n",
            "da195984.1a09.46d9.93c3.544cc93ae437\tMESO\n",
            "c635ded2.c7a2.4d60.b9a1.c2d933e89b1c\tMESO\n",
            "X9af6ff5c.fc37.4bf8.be98.af08fd41f8c9\tMESO\n",
            "X03117c7b.8e3b.4f78.bf72.641902abd90c\tMESO\n",
            "X8112112b.b75b.4dab.8185.1074f5d4bd0d\tMESO\n",
            "ab84c983.7fa3.4b44.9ed3.12654fb366a4\tMESO\n"
          ],
          "name": "stdout"
        }
      ]
    },
    {
      "cell_type": "code",
      "metadata": {
        "id": "YUbFXCkofxHe",
        "colab_type": "code",
        "colab": {}
      },
      "source": [
        "# scanpy is expecting the matrix to have samples (or cells) in rows and genes in columns\n",
        "# also the expectation is that the first column will be sample IDs, and that gene names\n",
        "# will be supplied separately.\n",
        "\n",
        "adata = sc.read_csv('tcga_expr_data_no_header.tsv',  delimiter='\\t', first_column_names=True )\n",
        "\n",
        "# if you were reading the output of cellranger, there's a separate genes file that's read in.\n",
        "# adata = sc.read_mtx( 'cellranger directory' )"
      ],
      "execution_count": 0,
      "outputs": []
    },
    {
      "cell_type": "code",
      "metadata": {
        "id": "H-G4xJJUi57z",
        "colab_type": "code",
        "colab": {}
      },
      "source": [
        "# to make the IDs the table index\n",
        "labels = pd.read_csv('data_labels.tsv', delimiter='\\t',  index_col=0)"
      ],
      "execution_count": 0,
      "outputs": []
    },
    {
      "cell_type": "code",
      "metadata": {
        "id": "zDR7ppgF2y2-",
        "colab_type": "code",
        "colab": {}
      },
      "source": [
        "genes = pd.read_csv('geneids.tsv', delimiter='\\t', index_col=6)"
      ],
      "execution_count": 0,
      "outputs": []
    },
    {
      "cell_type": "code",
      "metadata": {
        "id": "-du0g05vdJE1",
        "colab_type": "code",
        "outputId": "b5d7e186-be8f-4fd8-8207-9b85bb2ba01a",
        "colab": {
          "base_uri": "https://localhost:8080/",
          "height": 235
        }
      },
      "source": [
        "labels[0:5]\n"
      ],
      "execution_count": 0,
      "outputs": [
        {
          "output_type": "execute_result",
          "data": {
            "text/html": [
              "<div>\n",
              "<style scoped>\n",
              "    .dataframe tbody tr th:only-of-type {\n",
              "        vertical-align: middle;\n",
              "    }\n",
              "\n",
              "    .dataframe tbody tr th {\n",
              "        vertical-align: top;\n",
              "    }\n",
              "\n",
              "    .dataframe thead th {\n",
              "        text-align: right;\n",
              "    }\n",
              "</style>\n",
              "<table border=\"1\" class=\"dataframe\">\n",
              "  <thead>\n",
              "    <tr style=\"text-align: right;\">\n",
              "      <th></th>\n",
              "      <th>Study</th>\n",
              "    </tr>\n",
              "    <tr>\n",
              "      <th>ID</th>\n",
              "      <th></th>\n",
              "    </tr>\n",
              "  </thead>\n",
              "  <tbody>\n",
              "    <tr>\n",
              "      <th>fe8b28e6.e019.475a.bfd7.d5880a6967fe</th>\n",
              "      <td>MESO</td>\n",
              "    </tr>\n",
              "    <tr>\n",
              "      <th>e0848b76.e86a.4564.a5ae.f3daee48224d</th>\n",
              "      <td>MESO</td>\n",
              "    </tr>\n",
              "    <tr>\n",
              "      <th>X3d627ad5.9b51.4caf.aa2c.645a184e7f30</th>\n",
              "      <td>MESO</td>\n",
              "    </tr>\n",
              "    <tr>\n",
              "      <th>da195984.1a09.46d9.93c3.544cc93ae437</th>\n",
              "      <td>MESO</td>\n",
              "    </tr>\n",
              "    <tr>\n",
              "      <th>c635ded2.c7a2.4d60.b9a1.c2d933e89b1c</th>\n",
              "      <td>MESO</td>\n",
              "    </tr>\n",
              "  </tbody>\n",
              "</table>\n",
              "</div>"
            ],
            "text/plain": [
              "                                      Study\n",
              "ID                                         \n",
              "fe8b28e6.e019.475a.bfd7.d5880a6967fe   MESO\n",
              "e0848b76.e86a.4564.a5ae.f3daee48224d   MESO\n",
              "X3d627ad5.9b51.4caf.aa2c.645a184e7f30  MESO\n",
              "da195984.1a09.46d9.93c3.544cc93ae437   MESO\n",
              "c635ded2.c7a2.4d60.b9a1.c2d933e89b1c   MESO"
            ]
          },
          "metadata": {
            "tags": []
          },
          "execution_count": 91
        }
      ]
    },
    {
      "cell_type": "code",
      "metadata": {
        "id": "sez_qlJh3zzk",
        "colab_type": "code",
        "colab": {
          "base_uri": "https://localhost:8080/",
          "height": 235
        },
        "outputId": "1b81cb6b-5bdb-45fd-ce1d-1316ae5238a1"
      },
      "source": [
        "genes[0:5]"
      ],
      "execution_count": 76,
      "outputs": [
        {
          "output_type": "execute_result",
          "data": {
            "text/html": [
              "<div>\n",
              "<style scoped>\n",
              "    .dataframe tbody tr th:only-of-type {\n",
              "        vertical-align: middle;\n",
              "    }\n",
              "\n",
              "    .dataframe tbody tr th {\n",
              "        vertical-align: top;\n",
              "    }\n",
              "\n",
              "    .dataframe thead th {\n",
              "        text-align: right;\n",
              "    }\n",
              "</style>\n",
              "<table border=\"1\" class=\"dataframe\">\n",
              "  <thead>\n",
              "    <tr style=\"text-align: right;\">\n",
              "      <th></th>\n",
              "      <th>ID</th>\n",
              "      <th>EnsemblTranscript</th>\n",
              "      <th>EnsemblGene</th>\n",
              "      <th>VegaGeneID</th>\n",
              "      <th>VegaTranscriptID</th>\n",
              "      <th>SymbolNum</th>\n",
              "      <th>Entrez</th>\n",
              "      <th>GeneFunction</th>\n",
              "      <th>Other</th>\n",
              "    </tr>\n",
              "    <tr>\n",
              "      <th>Symbol</th>\n",
              "      <th></th>\n",
              "      <th></th>\n",
              "      <th></th>\n",
              "      <th></th>\n",
              "      <th></th>\n",
              "      <th></th>\n",
              "      <th></th>\n",
              "      <th></th>\n",
              "      <th></th>\n",
              "    </tr>\n",
              "  </thead>\n",
              "  <tbody>\n",
              "    <tr>\n",
              "      <th>TXNIP</th>\n",
              "      <td>165860</td>\n",
              "      <td>ENST00000582401.5</td>\n",
              "      <td>ENSG00000265972.5</td>\n",
              "      <td>OTTHUMG00000013755.6</td>\n",
              "      <td>OTTHUMT00000038547.3</td>\n",
              "      <td>TXNIP-001</td>\n",
              "      <td>2926</td>\n",
              "      <td>protein_coding</td>\n",
              "      <td>NaN</td>\n",
              "    </tr>\n",
              "    <tr>\n",
              "      <th>FKBP9</th>\n",
              "      <td>95425</td>\n",
              "      <td>ENST00000490776.3</td>\n",
              "      <td>ENSG00000122642.10</td>\n",
              "      <td>OTTHUMG00000097847.3</td>\n",
              "      <td>-</td>\n",
              "      <td>FKBP9-201</td>\n",
              "      <td>2699</td>\n",
              "      <td>protein_coding</td>\n",
              "      <td>NaN</td>\n",
              "    </tr>\n",
              "    <tr>\n",
              "      <th>OAZ1</th>\n",
              "      <td>174568</td>\n",
              "      <td>ENST00000592787.2</td>\n",
              "      <td>ENSG00000104904.12</td>\n",
              "      <td>OTTHUMG00000178459.10</td>\n",
              "      <td>OTTHUMT00000451282.2</td>\n",
              "      <td>OAZ1-009</td>\n",
              "      <td>857</td>\n",
              "      <td>retained_intron</td>\n",
              "      <td>NaN</td>\n",
              "    </tr>\n",
              "    <tr>\n",
              "      <th>WARS</th>\n",
              "      <td>17417</td>\n",
              "      <td>ENST00000358655.8</td>\n",
              "      <td>ENSG00000140105.17</td>\n",
              "      <td>OTTHUMG00000171572.3</td>\n",
              "      <td>OTTHUMT00000414235.1</td>\n",
              "      <td>WARS-004</td>\n",
              "      <td>2466</td>\n",
              "      <td>protein_coding</td>\n",
              "      <td>NaN</td>\n",
              "    </tr>\n",
              "    <tr>\n",
              "      <th>GABARAP</th>\n",
              "      <td>161755</td>\n",
              "      <td>ENST00000577035.5</td>\n",
              "      <td>ENSG00000170296.9</td>\n",
              "      <td>OTTHUMG00000102156.3</td>\n",
              "      <td>OTTHUMT00000440079.1</td>\n",
              "      <td>GABARAP-005</td>\n",
              "      <td>762</td>\n",
              "      <td>protein_coding</td>\n",
              "      <td>NaN</td>\n",
              "    </tr>\n",
              "  </tbody>\n",
              "</table>\n",
              "</div>"
            ],
            "text/plain": [
              "             ID  EnsemblTranscript  ...     GeneFunction Other\n",
              "Symbol                              ...                       \n",
              "TXNIP    165860  ENST00000582401.5  ...   protein_coding   NaN\n",
              "FKBP9     95425  ENST00000490776.3  ...   protein_coding   NaN\n",
              "OAZ1     174568  ENST00000592787.2  ...  retained_intron   NaN\n",
              "WARS      17417  ENST00000358655.8  ...   protein_coding   NaN\n",
              "GABARAP  161755  ENST00000577035.5  ...   protein_coding   NaN\n",
              "\n",
              "[5 rows x 9 columns]"
            ]
          },
          "metadata": {
            "tags": []
          },
          "execution_count": 76
        }
      ]
    },
    {
      "cell_type": "code",
      "metadata": {
        "id": "_fuyKV9we3vB",
        "colab_type": "code",
        "outputId": "1e7da90f-d294-4fc4-ce05-d1c2a968954b",
        "colab": {
          "base_uri": "https://localhost:8080/",
          "height": 187
        }
      },
      "source": [
        "adata.obs[0:5]"
      ],
      "execution_count": 0,
      "outputs": [
        {
          "output_type": "execute_result",
          "data": {
            "text/html": [
              "<div>\n",
              "<style scoped>\n",
              "    .dataframe tbody tr th:only-of-type {\n",
              "        vertical-align: middle;\n",
              "    }\n",
              "\n",
              "    .dataframe tbody tr th {\n",
              "        vertical-align: top;\n",
              "    }\n",
              "\n",
              "    .dataframe thead th {\n",
              "        text-align: right;\n",
              "    }\n",
              "</style>\n",
              "<table border=\"1\" class=\"dataframe\">\n",
              "  <thead>\n",
              "    <tr style=\"text-align: right;\">\n",
              "      <th></th>\n",
              "    </tr>\n",
              "  </thead>\n",
              "  <tbody>\n",
              "    <tr>\n",
              "      <th>fe8b28e6.e019.475a.bfd7.d5880a6967fe</th>\n",
              "    </tr>\n",
              "    <tr>\n",
              "      <th>e0848b76.e86a.4564.a5ae.f3daee48224d</th>\n",
              "    </tr>\n",
              "    <tr>\n",
              "      <th>X3d627ad5.9b51.4caf.aa2c.645a184e7f30</th>\n",
              "    </tr>\n",
              "    <tr>\n",
              "      <th>da195984.1a09.46d9.93c3.544cc93ae437</th>\n",
              "    </tr>\n",
              "    <tr>\n",
              "      <th>c635ded2.c7a2.4d60.b9a1.c2d933e89b1c</th>\n",
              "    </tr>\n",
              "  </tbody>\n",
              "</table>\n",
              "</div>"
            ],
            "text/plain": [
              "Empty DataFrame\n",
              "Columns: []\n",
              "Index: [fe8b28e6.e019.475a.bfd7.d5880a6967fe, e0848b76.e86a.4564.a5ae.f3daee48224d, X3d627ad5.9b51.4caf.aa2c.645a184e7f30, da195984.1a09.46d9.93c3.544cc93ae437, c635ded2.c7a2.4d60.b9a1.c2d933e89b1c]"
            ]
          },
          "metadata": {
            "tags": []
          },
          "execution_count": 113
        }
      ]
    },
    {
      "cell_type": "code",
      "metadata": {
        "id": "jFzp_gmJjG2K",
        "colab_type": "code",
        "colab": {}
      },
      "source": [
        "# then here we can annotate adata.obs\n",
        "adata.obs['Study'] = labels"
      ],
      "execution_count": 0,
      "outputs": []
    },
    {
      "cell_type": "code",
      "metadata": {
        "id": "EH6sOWbp4AUe",
        "colab_type": "code",
        "colab": {}
      },
      "source": [
        "# here we bring in the gene ids / names\n",
        "adata.var = genes"
      ],
      "execution_count": 0,
      "outputs": []
    },
    {
      "cell_type": "code",
      "metadata": {
        "id": "Ve-VSIUUf_gi",
        "colab_type": "code",
        "colab": {}
      },
      "source": [
        "# just to makes sure all are unique\n",
        "adata.var_names_make_unique()"
      ],
      "execution_count": 0,
      "outputs": []
    },
    {
      "cell_type": "code",
      "metadata": {
        "id": "qGRskUGtp5HD",
        "colab_type": "code",
        "outputId": "cc4ce7a2-ff12-4450-9afd-f63137f9c9a8",
        "colab": {
          "base_uri": "https://localhost:8080/",
          "height": 119
        }
      },
      "source": [
        "# so we have a matrix with 178 samples by 400 genes\n",
        "adata"
      ],
      "execution_count": 80,
      "outputs": [
        {
          "output_type": "execute_result",
          "data": {
            "text/plain": [
              "AnnData object with n_obs × n_vars = 178 × 400 \n",
              "    obs: 'Study'\n",
              "    var: 'ID', 'EnsemblTranscript', 'EnsemblGene', 'VegaGeneID', 'VegaTranscriptID', 'SymbolNum', 'Entrez', 'GeneFunction', 'Other'\n",
              "    uns: 'pca', 'neighbors', 'Study_colors'\n",
              "    obsm: 'X_pca', 'X_tsne', 'X_umap'\n",
              "    varm: 'PCs'"
            ]
          },
          "metadata": {
            "tags": []
          },
          "execution_count": 80
        }
      ]
    },
    {
      "cell_type": "code",
      "metadata": {
        "id": "OuHfenshgAZb",
        "colab_type": "code",
        "outputId": "25af53ab-ca40-42f7-b0c3-c50e691a02b9",
        "colab": {
          "base_uri": "https://localhost:8080/",
          "height": 204
        }
      },
      "source": [
        "adata.obs[0:5]"
      ],
      "execution_count": 0,
      "outputs": [
        {
          "output_type": "execute_result",
          "data": {
            "text/html": [
              "<div>\n",
              "<style scoped>\n",
              "    .dataframe tbody tr th:only-of-type {\n",
              "        vertical-align: middle;\n",
              "    }\n",
              "\n",
              "    .dataframe tbody tr th {\n",
              "        vertical-align: top;\n",
              "    }\n",
              "\n",
              "    .dataframe thead th {\n",
              "        text-align: right;\n",
              "    }\n",
              "</style>\n",
              "<table border=\"1\" class=\"dataframe\">\n",
              "  <thead>\n",
              "    <tr style=\"text-align: right;\">\n",
              "      <th></th>\n",
              "      <th>Study</th>\n",
              "    </tr>\n",
              "  </thead>\n",
              "  <tbody>\n",
              "    <tr>\n",
              "      <th>fe8b28e6.e019.475a.bfd7.d5880a6967fe</th>\n",
              "      <td>MESO</td>\n",
              "    </tr>\n",
              "    <tr>\n",
              "      <th>e0848b76.e86a.4564.a5ae.f3daee48224d</th>\n",
              "      <td>MESO</td>\n",
              "    </tr>\n",
              "    <tr>\n",
              "      <th>X3d627ad5.9b51.4caf.aa2c.645a184e7f30</th>\n",
              "      <td>MESO</td>\n",
              "    </tr>\n",
              "    <tr>\n",
              "      <th>da195984.1a09.46d9.93c3.544cc93ae437</th>\n",
              "      <td>MESO</td>\n",
              "    </tr>\n",
              "    <tr>\n",
              "      <th>c635ded2.c7a2.4d60.b9a1.c2d933e89b1c</th>\n",
              "      <td>MESO</td>\n",
              "    </tr>\n",
              "  </tbody>\n",
              "</table>\n",
              "</div>"
            ],
            "text/plain": [
              "                                      Study\n",
              "fe8b28e6.e019.475a.bfd7.d5880a6967fe   MESO\n",
              "e0848b76.e86a.4564.a5ae.f3daee48224d   MESO\n",
              "X3d627ad5.9b51.4caf.aa2c.645a184e7f30  MESO\n",
              "da195984.1a09.46d9.93c3.544cc93ae437   MESO\n",
              "c635ded2.c7a2.4d60.b9a1.c2d933e89b1c   MESO"
            ]
          },
          "metadata": {
            "tags": []
          },
          "execution_count": 117
        }
      ]
    },
    {
      "cell_type": "code",
      "metadata": {
        "id": "2nlZQT3c-2eA",
        "colab_type": "code",
        "outputId": "7fd9456e-77e3-4ef2-ad7c-5347fea64d69",
        "colab": {
          "base_uri": "https://localhost:8080/",
          "height": 235
        }
      },
      "source": [
        "adata.var[0:5]"
      ],
      "execution_count": 81,
      "outputs": [
        {
          "output_type": "execute_result",
          "data": {
            "text/html": [
              "<div>\n",
              "<style scoped>\n",
              "    .dataframe tbody tr th:only-of-type {\n",
              "        vertical-align: middle;\n",
              "    }\n",
              "\n",
              "    .dataframe tbody tr th {\n",
              "        vertical-align: top;\n",
              "    }\n",
              "\n",
              "    .dataframe thead th {\n",
              "        text-align: right;\n",
              "    }\n",
              "</style>\n",
              "<table border=\"1\" class=\"dataframe\">\n",
              "  <thead>\n",
              "    <tr style=\"text-align: right;\">\n",
              "      <th></th>\n",
              "      <th>ID</th>\n",
              "      <th>EnsemblTranscript</th>\n",
              "      <th>EnsemblGene</th>\n",
              "      <th>VegaGeneID</th>\n",
              "      <th>VegaTranscriptID</th>\n",
              "      <th>SymbolNum</th>\n",
              "      <th>Entrez</th>\n",
              "      <th>GeneFunction</th>\n",
              "      <th>Other</th>\n",
              "    </tr>\n",
              "    <tr>\n",
              "      <th>Symbol</th>\n",
              "      <th></th>\n",
              "      <th></th>\n",
              "      <th></th>\n",
              "      <th></th>\n",
              "      <th></th>\n",
              "      <th></th>\n",
              "      <th></th>\n",
              "      <th></th>\n",
              "      <th></th>\n",
              "    </tr>\n",
              "  </thead>\n",
              "  <tbody>\n",
              "    <tr>\n",
              "      <th>TXNIP</th>\n",
              "      <td>165860</td>\n",
              "      <td>ENST00000582401.5</td>\n",
              "      <td>ENSG00000265972.5</td>\n",
              "      <td>OTTHUMG00000013755.6</td>\n",
              "      <td>OTTHUMT00000038547.3</td>\n",
              "      <td>TXNIP-001</td>\n",
              "      <td>2926</td>\n",
              "      <td>protein_coding</td>\n",
              "      <td>NaN</td>\n",
              "    </tr>\n",
              "    <tr>\n",
              "      <th>FKBP9</th>\n",
              "      <td>95425</td>\n",
              "      <td>ENST00000490776.3</td>\n",
              "      <td>ENSG00000122642.10</td>\n",
              "      <td>OTTHUMG00000097847.3</td>\n",
              "      <td>-</td>\n",
              "      <td>FKBP9-201</td>\n",
              "      <td>2699</td>\n",
              "      <td>protein_coding</td>\n",
              "      <td>NaN</td>\n",
              "    </tr>\n",
              "    <tr>\n",
              "      <th>OAZ1</th>\n",
              "      <td>174568</td>\n",
              "      <td>ENST00000592787.2</td>\n",
              "      <td>ENSG00000104904.12</td>\n",
              "      <td>OTTHUMG00000178459.10</td>\n",
              "      <td>OTTHUMT00000451282.2</td>\n",
              "      <td>OAZ1-009</td>\n",
              "      <td>857</td>\n",
              "      <td>retained_intron</td>\n",
              "      <td>NaN</td>\n",
              "    </tr>\n",
              "    <tr>\n",
              "      <th>WARS</th>\n",
              "      <td>17417</td>\n",
              "      <td>ENST00000358655.8</td>\n",
              "      <td>ENSG00000140105.17</td>\n",
              "      <td>OTTHUMG00000171572.3</td>\n",
              "      <td>OTTHUMT00000414235.1</td>\n",
              "      <td>WARS-004</td>\n",
              "      <td>2466</td>\n",
              "      <td>protein_coding</td>\n",
              "      <td>NaN</td>\n",
              "    </tr>\n",
              "    <tr>\n",
              "      <th>GABARAP</th>\n",
              "      <td>161755</td>\n",
              "      <td>ENST00000577035.5</td>\n",
              "      <td>ENSG00000170296.9</td>\n",
              "      <td>OTTHUMG00000102156.3</td>\n",
              "      <td>OTTHUMT00000440079.1</td>\n",
              "      <td>GABARAP-005</td>\n",
              "      <td>762</td>\n",
              "      <td>protein_coding</td>\n",
              "      <td>NaN</td>\n",
              "    </tr>\n",
              "  </tbody>\n",
              "</table>\n",
              "</div>"
            ],
            "text/plain": [
              "             ID  EnsemblTranscript  ...     GeneFunction Other\n",
              "Symbol                              ...                       \n",
              "TXNIP    165860  ENST00000582401.5  ...   protein_coding   NaN\n",
              "FKBP9     95425  ENST00000490776.3  ...   protein_coding   NaN\n",
              "OAZ1     174568  ENST00000592787.2  ...  retained_intron   NaN\n",
              "WARS      17417  ENST00000358655.8  ...   protein_coding   NaN\n",
              "GABARAP  161755  ENST00000577035.5  ...   protein_coding   NaN\n",
              "\n",
              "[5 rows x 9 columns]"
            ]
          },
          "metadata": {
            "tags": []
          },
          "execution_count": 81
        }
      ]
    },
    {
      "cell_type": "code",
      "metadata": {
        "id": "P0TZbDed5SoL",
        "colab_type": "code",
        "colab": {
          "base_uri": "https://localhost:8080/",
          "height": 119
        },
        "outputId": "fbae2874-989a-425f-d686-3e75778e812b"
      },
      "source": [
        "# the data matrix is stored in X as a numpy array\n",
        "\n",
        "adata.X[1:5][1:5]"
      ],
      "execution_count": 41,
      "outputs": [
        {
          "output_type": "execute_result",
          "data": {
            "text/plain": [
              "array([[ 507.02  ,   37.8789,   60.387 , ...,   17.5988,   20.761 ,\n",
              "        1399.13  ],\n",
              "       [ 122.317 ,  119.101 ,   93.807 , ...,   55.1742,   13.8157,\n",
              "         722.68  ],\n",
              "       [ 581.908 ,   57.2887,   47.5264, ...,   11.9343,   13.5899,\n",
              "         920.561 ]], dtype=float32)"
            ]
          },
          "metadata": {
            "tags": []
          },
          "execution_count": 41
        }
      ]
    },
    {
      "cell_type": "markdown",
      "metadata": {
        "id": "ldC4tGOb-QR-",
        "colab_type": "text"
      },
      "source": [
        "# Computing dimension reductions"
      ]
    },
    {
      "cell_type": "code",
      "metadata": {
        "id": "qPPm1CO-5FWV",
        "colab_type": "code",
        "colab": {}
      },
      "source": [
        "sc.pp.log1p(adata)\n",
        "sc.pp.scale(adata)"
      ],
      "execution_count": 0,
      "outputs": []
    },
    {
      "cell_type": "code",
      "metadata": {
        "id": "FDTTbGw9etyB",
        "colab_type": "code",
        "colab": {}
      },
      "source": [
        "sc.tl.pca(adata, n_comps=21)"
      ],
      "execution_count": 0,
      "outputs": []
    },
    {
      "cell_type": "code",
      "metadata": {
        "id": "gtmwmhLggJE7",
        "colab_type": "code",
        "colab": {}
      },
      "source": [
        "sc.pp.neighbors(adata)"
      ],
      "execution_count": 0,
      "outputs": []
    },
    {
      "cell_type": "code",
      "metadata": {
        "id": "WeN3ztDXhbtD",
        "colab_type": "code",
        "outputId": "fe7d8405-a41c-43bb-92f0-f63d472e55dc",
        "colab": {
          "base_uri": "https://localhost:8080/",
          "height": 34
        }
      },
      "source": [
        "sc.tl.tsne(adata, n_pcs=4, perplexity=30, early_exaggeration=12, learning_rate=1000)"
      ],
      "execution_count": 45,
      "outputs": [
        {
          "output_type": "stream",
          "text": [
            "WARNING: Consider installing the package MulticoreTSNE (https://github.com/DmitryUlyanov/Multicore-TSNE). Even for n_jobs=1 this speeds up the computation considerably and might yield better converged results.\n"
          ],
          "name": "stdout"
        }
      ]
    },
    {
      "cell_type": "code",
      "metadata": {
        "id": "CYD6qgsB-EI5",
        "colab_type": "code",
        "colab": {}
      },
      "source": [
        "sc.tl.umap(adata)"
      ],
      "execution_count": 0,
      "outputs": []
    },
    {
      "cell_type": "markdown",
      "metadata": {
        "id": "QM9VicPJ6tF0",
        "colab_type": "text"
      },
      "source": [
        "#Accessing the reduced dimensions"
      ]
    },
    {
      "cell_type": "code",
      "metadata": {
        "id": "uiDPKENe61WG",
        "colab_type": "code",
        "colab": {
          "base_uri": "https://localhost:8080/",
          "height": 187
        },
        "outputId": "c7c84597-0b45-43f6-b764-ff43162327ea"
      },
      "source": [
        "adata.uns['pca']"
      ],
      "execution_count": 60,
      "outputs": [
        {
          "output_type": "execute_result",
          "data": {
            "text/plain": [
              "{'variance': array([115.83537  ,  63.47404  ,  28.734423 ,  18.461145 ,  12.111868 ,\n",
              "          9.867868 ,   8.307353 ,   7.152288 ,   6.8425746,   5.562655 ,\n",
              "          5.0288305,   4.685403 ,   4.3127637,   4.0639367,   4.0355854,\n",
              "          3.811512 ,   3.2536268,   2.9959486,   2.8557818,   2.7770097,\n",
              "          2.466013 ], dtype=float32),\n",
              " 'variance_ratio': array([0.2895891 , 0.15868548, 0.07183623, 0.04615297, 0.03027974,\n",
              "        0.02466973, 0.02076843, 0.01788076, 0.01710648, 0.01390667,\n",
              "        0.01257211, 0.01171353, 0.01078193, 0.01015987, 0.01008899,\n",
              "        0.0095288 , 0.00813409, 0.00748989, 0.00713947, 0.00694254,\n",
              "        0.00616505], dtype=float32)}"
            ]
          },
          "metadata": {
            "tags": []
          },
          "execution_count": 60
        }
      ]
    },
    {
      "cell_type": "code",
      "metadata": {
        "id": "Glrn7VGU66Dw",
        "colab_type": "code",
        "colab": {
          "base_uri": "https://localhost:8080/",
          "height": 238
        },
        "outputId": "39adb4a5-f5ea-4323-a6d5-eeef55a76723"
      },
      "source": [
        "adata.obsm['X_pca']"
      ],
      "execution_count": 62,
      "outputs": [
        {
          "output_type": "execute_result",
          "data": {
            "text/plain": [
              "array([[-1.0563870e+01,  1.0456644e+00,  6.6381818e-01, ...,\n",
              "         6.9732338e-01,  1.7263010e+00,  1.2540044e+00],\n",
              "       [-8.7992353e+00,  1.0998660e+01,  2.8111336e+00, ...,\n",
              "        -1.4739747e+00, -5.8063161e-02, -2.1417284e+00],\n",
              "       [-1.0449380e+01,  7.8517425e-01, -1.4215187e+00, ...,\n",
              "        -2.2144916e+00,  2.6720652e-01, -2.1770555e-01],\n",
              "       ...,\n",
              "       [ 1.3360393e+01, -1.0153471e+00, -7.7257697e-03, ...,\n",
              "        -1.9132245e+00, -1.0615816e+00,  1.8909329e+00],\n",
              "       [ 1.3371646e+01,  1.2935674e-01, -3.0149579e+00, ...,\n",
              "        -4.5354936e-02,  7.5846940e-01,  3.4964070e-01],\n",
              "       [ 1.2425893e+01, -3.6036930e+00, -1.5476420e+00, ...,\n",
              "         2.6313119e+00, -2.0768158e-01, -2.8703249e-01]], dtype=float32)"
            ]
          },
          "metadata": {
            "tags": []
          },
          "execution_count": 62
        }
      ]
    },
    {
      "cell_type": "code",
      "metadata": {
        "id": "FU6hrPuW7HNN",
        "colab_type": "code",
        "colab": {
          "base_uri": "https://localhost:8080/",
          "height": 102
        },
        "outputId": "14d8cefe-36c6-45a7-82fb-c317dfe74e7e"
      },
      "source": [
        "adata.obsm['X_tsne'][0:5]"
      ],
      "execution_count": 64,
      "outputs": [
        {
          "output_type": "execute_result",
          "data": {
            "text/plain": [
              "array([[ -32.999065 ,  -37.139954 ],\n",
              "       [-152.90749  ,   -6.2096267],\n",
              "       [-108.95568  , -126.59906  ],\n",
              "       [ -79.289825 ,  -78.568375 ],\n",
              "       [-125.42036  , -129.7473   ]], dtype=float32)"
            ]
          },
          "metadata": {
            "tags": []
          },
          "execution_count": 64
        }
      ]
    },
    {
      "cell_type": "code",
      "metadata": {
        "id": "7wEE2Pb-7NfW",
        "colab_type": "code",
        "colab": {
          "base_uri": "https://localhost:8080/",
          "height": 102
        },
        "outputId": "f58c12ad-9cf2-484b-ee3f-8755d9a731aa"
      },
      "source": [
        "adata.obsm['X_umap'][0:5]"
      ],
      "execution_count": 66,
      "outputs": [
        {
          "output_type": "execute_result",
          "data": {
            "text/plain": [
              "array([[-14.095164 ,  -3.4508712],\n",
              "       [-12.432666 ,  -3.6250107],\n",
              "       [-14.736888 ,  -4.386999 ],\n",
              "       [-14.280496 ,  -2.5550392],\n",
              "       [-14.96286  ,  -3.1173985]], dtype=float32)"
            ]
          },
          "metadata": {
            "tags": []
          },
          "execution_count": 66
        }
      ]
    },
    {
      "cell_type": "markdown",
      "metadata": {
        "id": "YobdArEM-AR5",
        "colab_type": "text"
      },
      "source": [
        "# Making plots"
      ]
    },
    {
      "cell_type": "code",
      "metadata": {
        "id": "pLvyANAx-Gy5",
        "colab_type": "code",
        "outputId": "86231ada-1ba4-4eda-a289-8a071c905f8e",
        "colab": {
          "base_uri": "https://localhost:8080/",
          "height": 300
        }
      },
      "source": [
        "sc.pl.pca(adata, color=['Study', 'CXCL6'], save='_tcga.png')"
      ],
      "execution_count": 51,
      "outputs": [
        {
          "output_type": "stream",
          "text": [
            "WARNING: saving figure to file figures/pca_tcga.png\n"
          ],
          "name": "stdout"
        },
        {
          "output_type": "display_data",
          "data": {
            "image/png": "[encoded data removed]",
            "text/plain": [
              "<Figure size 989.28x288 with 3 Axes>"
            ]
          },
          "metadata": {
            "tags": []
          }
        }
      ]
    },
    {
      "cell_type": "code",
      "metadata": {
        "id": "4MdYs9KfibkP",
        "colab_type": "code",
        "outputId": "3bd82d41-1c20-4aeb-8de0-47f563b280c3",
        "colab": {
          "base_uri": "https://localhost:8080/",
          "height": 300
        }
      },
      "source": [
        "sc.pl.tsne(adata, color=['Study', 'CXCL6'], save='_tcga.png')"
      ],
      "execution_count": 52,
      "outputs": [
        {
          "output_type": "stream",
          "text": [
            "WARNING: saving figure to file figures/tsne_tcga.png\n"
          ],
          "name": "stdout"
        },
        {
          "output_type": "display_data",
          "data": {
            "image/png": "[encoded data removed]",
            "text/plain": [
              "<Figure size 989.28x288 with 3 Axes>"
            ]
          },
          "metadata": {
            "tags": []
          }
        }
      ]
    },
    {
      "cell_type": "code",
      "metadata": {
        "id": "C2oXFC8GrcPC",
        "colab_type": "code",
        "outputId": "95e58196-fbd9-4104-8439-3bd2d9a86660",
        "colab": {
          "base_uri": "https://localhost:8080/",
          "height": 300
        }
      },
      "source": [
        "sc.pl.umap(adata, color=['Study','CXCL6'], save='_tcga.png')"
      ],
      "execution_count": 53,
      "outputs": [
        {
          "output_type": "stream",
          "text": [
            "WARNING: saving figure to file figures/umap_tcga.png\n"
          ],
          "name": "stdout"
        },
        {
          "output_type": "display_data",
          "data": {
            "image/png": "[encoded data removed]",
            "text/plain": [
              "<Figure size 989.28x288 with 3 Axes>"
            ]
          },
          "metadata": {
            "tags": []
          }
        }
      ]
    },
    {
      "cell_type": "code",
      "metadata": {
        "id": "AdUdUZuNrcWC",
        "colab_type": "code",
        "colab": {}
      },
      "source": [
        ""
      ],
      "execution_count": 0,
      "outputs": []
    },
    {
      "cell_type": "markdown",
      "metadata": {
        "id": "3jJyaQ4HihgQ",
        "colab_type": "text"
      },
      "source": [
        "# Wrapping up and writing results and figures  back to our bucket."
      ]
    },
    {
      "cell_type": "code",
      "metadata": {
        "id": "IEoPYXKw8wdg",
        "colab_type": "code",
        "colab": {
          "base_uri": "https://localhost:8080/",
          "height": 119
        },
        "outputId": "f5c04d70-d2a7-442c-f306-0bbf2ca08138"
      },
      "source": [
        "sc.write(filename='tcga.h5ad', adata=adata)\n",
        "\n",
        "# if we wanted to continue the analysis we would read in the data as:\n",
        "# adata = sc.read('tcga.h5ad')\n"
      ],
      "execution_count": 82,
      "outputs": [
        {
          "output_type": "stream",
          "text": [
            "... storing 'EnsemblTranscript' as categorical\n",
            "... storing 'EnsemblGene' as categorical\n",
            "... storing 'VegaGeneID' as categorical\n",
            "... storing 'VegaTranscriptID' as categorical\n",
            "... storing 'SymbolNum' as categorical\n",
            "... storing 'GeneFunction' as categorical\n"
          ],
          "name": "stderr"
        }
      ]
    },
    {
      "cell_type": "code",
      "metadata": {
        "id": "zls3egVB82ev",
        "colab_type": "code",
        "colab": {
          "base_uri": "https://localhost:8080/",
          "height": 34
        },
        "outputId": "bdb93867-eb51-45bd-bcb7-8630d2d9788a"
      },
      "source": [
        "!gsutil cp tcga.h5ad umap_tcga.png tsne_tcga.png gs://my-project/scanpy_adatas"
      ],
      "execution_count": 83,
      "outputs": [
        {
          "output_type": "stream",
          "text": [
            "AccessDeniedException: 403 The project to be billed is associated with an absent billing account.\n"
          ],
          "name": "stdout"
        }
      ]
    },
    {
      "cell_type": "code",
      "metadata": {
        "id": "4lXQVUFl6gk0",
        "colab_type": "code",
        "colab": {}
      },
      "source": [
        "# uh oh!"
      ],
      "execution_count": 0,
      "outputs": []
    },
    {
      "cell_type": "code",
      "metadata": {
        "id": "wb8lERmh-4Cs",
        "colab_type": "code",
        "colab": {}
      },
      "source": [
        ""
      ],
      "execution_count": 0,
      "outputs": []
    }
  ]
}