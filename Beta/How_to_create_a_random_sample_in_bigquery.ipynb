{
  "nbformat": 4,
  "nbformat_minor": 0,
  "metadata": {
    "colab": {
      "name": "How_to_create_a_random_sample_in_bigquery",
      "provenance": [],
      "collapsed_sections": []
    },
    "kernelspec": {
      "name": "python3",
      "display_name": "Python 3"
    }
  },
  "cells": [
    {
      "cell_type": "markdown",
      "metadata": {
        "id": "sEYqWcUtqlRe",
        "colab_type": "text"
      },
      "source": [
        "# ISB-CGC Community Notebooks\n",
        "\n",
        "```\n",
        "Title:   How to Create a Random Sample in BigQuery\n",
        "Author:  Lauren Hagen\n",
        "Created: 2019-10-17\n",
        "Purpose: Demonstrates how to split a data set into multiple groups randomly with BigQuery\n",
        "```\n",
        "***"
      ]
    },
    {
      "cell_type": "markdown",
      "metadata": {
        "id": "WhUTXNzMxy3k",
        "colab_type": "text"
      },
      "source": [
        "# How to Create a Random Sample in BigQuery\n",
        "\n",
        "In this notebook, we will be using BigQuery to create random samples for predicting an outcome with test and training data sets such as in machine learning. In this notebook, we assume that you have set up your GCP and accessed the ISB-CGC WebApp, if not, please visit the [How To Get Started on ISB-CGC](https://isb-cancer-genomics-cloud.readthedocs.io/en/latest/sections/HowToGetStartedonISB-CGC.html) or the [Community Notebook Repository](https://github.com/isb-cgc/Community-Notebooks).\n",
        "\n",
        "We will go over two methods to create the subset data:\n",
        "- `RAND()` Function\n",
        "- `MOD()` and `FARM_FINGERPRINT` Functions"
      ]
    },
    {
      "cell_type": "markdown",
      "metadata": {
        "id": "eQaCa1jtzMzE",
        "colab_type": "text"
      },
      "source": [
        "Before we can begin working with BigQuery, we will need to load the BigQuery module and authenticate ourselves."
      ]
    },
    {
      "cell_type": "code",
      "metadata": {
        "id": "fXpa3o8Gigo2",
        "colab_type": "code",
        "colab": {}
      },
      "source": [
        "from google.cloud import bigquery"
      ],
      "execution_count": 0,
      "outputs": []
    },
    {
      "cell_type": "code",
      "metadata": {
        "id": "LOEQ1QGihzqg",
        "colab_type": "code",
        "outputId": "12728c0e-840d-43a8-8ce4-05e3f4108828",
        "colab": {
          "base_uri": "https://localhost:8080/",
          "height": 275
        }
      },
      "source": [
        "!gcloud auth application-default login"
      ],
      "execution_count": 0,
      "outputs": [
        {
          "output_type": "stream",
          "text": [
            "Go to the following link in your browser:\n",
            "\n",
            "    https://accounts.google.com/o/oauth2/auth?code_challenge=Z6c0Nwb5MzxmnCZrf0GKFkWfYXu4rxFHOC2vTApWSd0&prompt=select_account&code_challenge_method=S256&access_type=offline&redirect_uri=urn%3Aietf%3Awg%3Aoauth%3A2.0%3Aoob&response_type=code&client_id=764086051850-6qr4p6gpi6hn506pt8ejuq83di341hur.apps.googleusercontent.com&scope=https%3A%2F%2Fwww.googleapis.com%2Fauth%2Fuserinfo.email+https%3A%2F%2Fwww.googleapis.com%2Fauth%2Fcloud-platform+https%3A%2F%2Fwww.googleapis.com%2Fauth%2Faccounts.reauth\n",
            "\n",
            "\n",
            "Enter verification code: 4/tAEUZfQbCQUFY5TRqQgluy7FELjvZwsJNnyFHTBQmgG8q2s9woEWXcQ\n",
            "\n",
            "Credentials saved to file: [/content/.config/application_default_credentials.json]\n",
            "\n",
            "These credentials will be used by any library that requests\n",
            "Application Default Credentials.\n",
            "\n",
            "To generate an access token for other uses, run:\n",
            "  gcloud auth application-default print-access-token\n"
          ],
          "name": "stdout"
        }
      ]
    },
    {
      "cell_type": "markdown",
      "metadata": {
        "id": "rzAxA6Cp0ESA",
        "colab_type": "text"
      },
      "source": [
        "## `RAND()` Function for Randomly Splitting data\n",
        "A simple way to create a random sample with BigQuery is to use the `RAND()` function. The `RAND()` function will create a seemingly random number and then the query can select to create a random sample of rows.\n",
        "\n",
        "The final query creates a cohort from a BigQuery table, then generates random sample from the cohort, and finally joins the random sample to the main cohort with the rows labeled for the random sample.\n",
        "\n",
        "To explain this query, we are going to start out with a simple query to create the cohort. Cohorts can be created previously in the WebApp or though other means instead of within this query. For more information on creating cohorts, please see the [ISB-CGC Web Interface (Web App) documentation](https://isb-cancer-genomics-cloud.readthedocs.io/en/latest/sections/Web-UI.html) and the [Community Notebook Repository](https://github.com/isb-cgc/Community-Notebooks)."
      ]
    },
    {
      "cell_type": "code",
      "metadata": {
        "id": "O2_isLlK0DnZ",
        "colab_type": "code",
        "colab": {}
      },
      "source": [
        "# Create a query with the cohort information\n",
        "# This can be replaced with direction to your own cohort stored in BigQuery\n",
        "%%bigquery cohort --project isb-cgc-02-0001\n",
        "SELECT case_barcode, project_short_name, case_gdc_id\n",
        "FROM `isb-cgc.TARGET_bioclin_v0.Clinical`\n",
        "WHERE project_short_name = \"TARGET-NBL\""
      ],
      "execution_count": 0,
      "outputs": []
    },
    {
      "cell_type": "code",
      "metadata": {
        "id": "LNoeLC9BLYAM",
        "colab_type": "code",
        "outputId": "37e17d8b-34d5-4ab2-d671-2fa8519e3466",
        "colab": {
          "base_uri": "https://localhost:8080/",
          "height": 204
        }
      },
      "source": [
        "# View the first 5 rows of the cohort\n",
        "cohort.head(5)"
      ],
      "execution_count": 0,
      "outputs": [
        {
          "output_type": "execute_result",
          "data": {
            "text/html": [
              "<div>\n",
              "<style scoped>\n",
              "    .dataframe tbody tr th:only-of-type {\n",
              "        vertical-align: middle;\n",
              "    }\n",
              "\n",
              "    .dataframe tbody tr th {\n",
              "        vertical-align: top;\n",
              "    }\n",
              "\n",
              "    .dataframe thead th {\n",
              "        text-align: right;\n",
              "    }\n",
              "</style>\n",
              "<table border=\"1\" class=\"dataframe\">\n",
              "  <thead>\n",
              "    <tr style=\"text-align: right;\">\n",
              "      <th></th>\n",
              "      <th>case_barcode</th>\n",
              "      <th>project_short_name</th>\n",
              "      <th>case_gdc_id</th>\n",
              "    </tr>\n",
              "  </thead>\n",
              "  <tbody>\n",
              "    <tr>\n",
              "      <th>0</th>\n",
              "      <td>TARGET-30-PATSRD</td>\n",
              "      <td>TARGET-NBL</td>\n",
              "      <td>fef92ed0-242b-5564-ad92-6b35c21c3bd5</td>\n",
              "    </tr>\n",
              "    <tr>\n",
              "      <th>1</th>\n",
              "      <td>TARGET-30-PATTEF</td>\n",
              "      <td>TARGET-NBL</td>\n",
              "      <td>fef13b6c-d5e9-5ffa-9f55-2404f2f99eeb</td>\n",
              "    </tr>\n",
              "    <tr>\n",
              "      <th>2</th>\n",
              "      <td>TARGET-30-PARJAR</td>\n",
              "      <td>TARGET-NBL</td>\n",
              "      <td>feb97edc-ce83-5fd5-94e3-261ce244ac52</td>\n",
              "    </tr>\n",
              "    <tr>\n",
              "      <th>3</th>\n",
              "      <td>TARGET-30-PAUAZA</td>\n",
              "      <td>TARGET-NBL</td>\n",
              "      <td>fe831368-c7ce-5e2b-b0fd-c35216a7761d</td>\n",
              "    </tr>\n",
              "    <tr>\n",
              "      <th>4</th>\n",
              "      <td>TARGET-30-PAIJGC</td>\n",
              "      <td>TARGET-NBL</td>\n",
              "      <td>fe58a8bf-8306-5aaf-99d1-b65c20fedc58</td>\n",
              "    </tr>\n",
              "  </tbody>\n",
              "</table>\n",
              "</div>"
            ],
            "text/plain": [
              "       case_barcode project_short_name                           case_gdc_id\n",
              "0  TARGET-30-PATSRD         TARGET-NBL  fef92ed0-242b-5564-ad92-6b35c21c3bd5\n",
              "1  TARGET-30-PATTEF         TARGET-NBL  fef13b6c-d5e9-5ffa-9f55-2404f2f99eeb\n",
              "2  TARGET-30-PARJAR         TARGET-NBL  feb97edc-ce83-5fd5-94e3-261ce244ac52\n",
              "3  TARGET-30-PAUAZA         TARGET-NBL  fe831368-c7ce-5e2b-b0fd-c35216a7761d\n",
              "4  TARGET-30-PAIJGC         TARGET-NBL  fe58a8bf-8306-5aaf-99d1-b65c20fedc58"
            ]
          },
          "metadata": {
            "tags": []
          },
          "execution_count": 4
        }
      ]
    },
    {
      "cell_type": "code",
      "metadata": {
        "id": "hBG1MUiZON7d",
        "colab_type": "code",
        "outputId": "79e47fd8-7dde-4c8e-c231-ee99f42b7595",
        "colab": {
          "base_uri": "https://localhost:8080/",
          "height": 34
        }
      },
      "source": [
        "print(\"This cohort has \" + str(len(cohort)) + \" cases (rows).\")"
      ],
      "execution_count": 0,
      "outputs": [
        {
          "output_type": "stream",
          "text": [
            "This cohort has 1180 cases (rows).\n"
          ],
          "name": "stdout"
        }
      ]
    },
    {
      "cell_type": "markdown",
      "metadata": {
        "id": "xR5TRP5xOV81",
        "colab_type": "text"
      },
      "source": [
        "The next part of the query is creating the random sample. This line can be adjusted to pull any percentage of the data table into a random sample. For this example, it is set to create a random sample of ~25% of the data."
      ]
    },
    {
      "cell_type": "code",
      "metadata": {
        "id": "3EbowSgDOVi9",
        "colab_type": "code",
        "colab": {}
      },
      "source": [
        "%%bigquery sample --project isb-cgc-02-0001\n",
        "\n",
        "--- Create Cohort\n",
        "WITH table1 AS (\n",
        "SELECT case_barcode, project_short_name, case_gdc_id, 0 as table_num\n",
        "FROM `isb-cgc.TARGET_bioclin_v0.Clinical`\n",
        "WHERE project_short_name = \"TARGET-NBL\")\n",
        "\n",
        "--- Select a random sample that is ~25% of the data\n",
        "SELECT case_barcode, project_short_name, case_gdc_id, 1 as table_num\n",
        "FROM table1\n",
        "-- Count the number of rows in the cohort, then find how many of them will be 25%\n",
        "-- of the cohort. Divid that number by the total number of rows in the data \n",
        "-- To change the %, change the 0.25 to what ever precentage you need\n",
        "WHERE RAND() < ((SELECT COUNT(*) FROM table1)*0.25)/(SELECT COUNT(*) FROM table1)"
      ],
      "execution_count": 0,
      "outputs": []
    },
    {
      "cell_type": "code",
      "metadata": {
        "id": "ntrs5zZXRY-e",
        "colab_type": "code",
        "outputId": "8648e7fe-81dd-4f80-bb31-a3d651055443",
        "colab": {
          "base_uri": "https://localhost:8080/",
          "height": 34
        }
      },
      "source": [
        "print(\"The random sample of the cohort with \" + str(len(sample)) + \" cases which is around \" + str(round((len(sample)/len(cohort)*100),1)) + \"% of the cohort.\")"
      ],
      "execution_count": 0,
      "outputs": [
        {
          "output_type": "stream",
          "text": [
            "The random sample of the cohort with 289 cases which is around 24.5% of the cohort.\n"
          ],
          "name": "stdout"
        }
      ]
    },
    {
      "cell_type": "markdown",
      "metadata": {
        "id": "7Elxb9tMQa_U",
        "colab_type": "text"
      },
      "source": [
        "This query is nice if we just wanted to grab a smaller sample of the cohort to do some initial analysis on before moving to larger data set but it is not useful if you want to create two separate subsets of data for training a model and then testing the model. The final query joins the new random sample table back with the main table and preserving the split of data with a column for which subset it belongs to."
      ]
    },
    {
      "cell_type": "code",
      "metadata": {
        "id": "0ZwYS1v6zEQr",
        "colab_type": "code",
        "colab": {}
      },
      "source": [
        "%%bigquery dataset --project isb-cgc-02-0001\n",
        "--- Create Cohort\n",
        "WITH table1 AS (\n",
        "SELECT case_barcode, project_short_name, case_gdc_id, 0 as table_num\n",
        "FROM `isb-cgc.TARGET_bioclin_v0.Clinical`\n",
        "WHERE project_short_name = \"TARGET-NBL\"),\n",
        "\n",
        "--- Select a random sample that is ~25% of the data\n",
        "table2 AS (\n",
        "SELECT case_barcode, project_short_name, case_gdc_id, 1 as table_num\n",
        "FROM table1\n",
        "-- Count the number of rows in the cohort, then find how many of them will be 25%\n",
        "-- of the cohort. Divid that number by the total number of rows in the data\n",
        "-- To change the %, change the 0.25 to what ever precentage you need\n",
        "WHERE RAND() < ((SELECT COUNT(*) FROM table1)*0.25)/(SELECT COUNT(*) FROM table1)\n",
        ")\n",
        "\n",
        "--- Join the random sample table back to the main table\n",
        "SELECT a.case_barcode, a.project_short_name, a.case_gdc_id, IFNULL(b.table_num,2) AS table_num\n",
        "FROM table1 AS a\n",
        "FULL OUTER JOIN table2 AS b\n",
        "ON a.case_barcode = b.case_barcode"
      ],
      "execution_count": 0,
      "outputs": []
    },
    {
      "cell_type": "code",
      "metadata": {
        "id": "6dKOnYcEMYDL",
        "colab_type": "code",
        "outputId": "0d12d787-7ecd-48f0-c128-93f13e4b9cba",
        "colab": {
          "base_uri": "https://localhost:8080/",
          "height": 204
        }
      },
      "source": [
        "dataset.head(5)"
      ],
      "execution_count": 0,
      "outputs": [
        {
          "output_type": "execute_result",
          "data": {
            "text/html": [
              "<div>\n",
              "<style scoped>\n",
              "    .dataframe tbody tr th:only-of-type {\n",
              "        vertical-align: middle;\n",
              "    }\n",
              "\n",
              "    .dataframe tbody tr th {\n",
              "        vertical-align: top;\n",
              "    }\n",
              "\n",
              "    .dataframe thead th {\n",
              "        text-align: right;\n",
              "    }\n",
              "</style>\n",
              "<table border=\"1\" class=\"dataframe\">\n",
              "  <thead>\n",
              "    <tr style=\"text-align: right;\">\n",
              "      <th></th>\n",
              "      <th>case_barcode</th>\n",
              "      <th>project_short_name</th>\n",
              "      <th>case_gdc_id</th>\n",
              "      <th>table_num</th>\n",
              "    </tr>\n",
              "  </thead>\n",
              "  <tbody>\n",
              "    <tr>\n",
              "      <th>0</th>\n",
              "      <td>TARGET-30-PAUHHW</td>\n",
              "      <td>TARGET-NBL</td>\n",
              "      <td>ce12dce7-88e2-511c-a1c8-89f96c24b199</td>\n",
              "      <td>2</td>\n",
              "    </tr>\n",
              "    <tr>\n",
              "      <th>1</th>\n",
              "      <td>TARGET-30-PANRRN</td>\n",
              "      <td>TARGET-NBL</td>\n",
              "      <td>bb1bd33c-5ca7-5954-b1ca-2c7e4950d8ce</td>\n",
              "      <td>1</td>\n",
              "    </tr>\n",
              "    <tr>\n",
              "      <th>2</th>\n",
              "      <td>TARGET-30-PASJZC</td>\n",
              "      <td>TARGET-NBL</td>\n",
              "      <td>717c4844-5ef9-553b-bb90-0d62d976f909</td>\n",
              "      <td>2</td>\n",
              "    </tr>\n",
              "    <tr>\n",
              "      <th>3</th>\n",
              "      <td>TARGET-30-PATRJK</td>\n",
              "      <td>TARGET-NBL</td>\n",
              "      <td>67e5b0a5-5af4-5177-9d11-850a0441bb87</td>\n",
              "      <td>2</td>\n",
              "    </tr>\n",
              "    <tr>\n",
              "      <th>4</th>\n",
              "      <td>TARGET-30-PAUJLH</td>\n",
              "      <td>TARGET-NBL</td>\n",
              "      <td>666bc1d4-deb1-5251-894c-220885a1f62e</td>\n",
              "      <td>2</td>\n",
              "    </tr>\n",
              "  </tbody>\n",
              "</table>\n",
              "</div>"
            ],
            "text/plain": [
              "       case_barcode  ... table_num\n",
              "0  TARGET-30-PAUHHW  ...         2\n",
              "1  TARGET-30-PANRRN  ...         1\n",
              "2  TARGET-30-PASJZC  ...         2\n",
              "3  TARGET-30-PATRJK  ...         2\n",
              "4  TARGET-30-PAUJLH  ...         2\n",
              "\n",
              "[5 rows x 4 columns]"
            ]
          },
          "metadata": {
            "tags": []
          },
          "execution_count": 61
        }
      ]
    },
    {
      "cell_type": "code",
      "metadata": {
        "id": "WnvdHJYbNIYp",
        "colab_type": "code",
        "outputId": "29523677-ac83-4b23-80aa-02118dd53d80",
        "colab": {
          "base_uri": "https://localhost:8080/",
          "height": 34
        }
      },
      "source": [
        "print(\"The final table has \" + str(len(dataset)) + \" cases.\")"
      ],
      "execution_count": 0,
      "outputs": [
        {
          "output_type": "stream",
          "text": [
            "The final table has 1180 cases.\n"
          ],
          "name": "stdout"
        }
      ]
    },
    {
      "cell_type": "code",
      "metadata": {
        "colab_type": "code",
        "outputId": "7010a6c0-789c-4aa3-8ee6-078e3e8ee929",
        "id": "VH8O7eW10s71",
        "colab": {
          "base_uri": "https://localhost:8080/",
          "height": 34
        }
      },
      "source": [
        "# Create a list with the sorted initial barcodes\n",
        "case_barcode_initial = list(cohort.case_barcode.sort_values())\n",
        "# Create a list with the sorted final barcodes\n",
        "case_barcode_final = list(dataset.case_barcode.sort_values())\n",
        "# Compare the two lists, if TRUE, no barcodes were lost\n",
        "case_barcode_initial == case_barcode_final "
      ],
      "execution_count": 0,
      "outputs": [
        {
          "output_type": "execute_result",
          "data": {
            "text/plain": [
              "True"
            ]
          },
          "metadata": {
            "tags": []
          },
          "execution_count": 75
        }
      ]
    },
    {
      "cell_type": "markdown",
      "metadata": {
        "id": "CInSjdzQQaL2",
        "colab_type": "text"
      },
      "source": [
        "Each query will have it's own random sample because each time `RAND()` is run, it generates a new set of random numbers. This could be a problem if you want reproducible results each time you run the query. Another way to solve this problem is to use `FARM_FINGERPRINT()` wtih `MOD()` which we will cover next."
      ]
    },
    {
      "cell_type": "markdown",
      "metadata": {
        "id": "lpt-vNk2hMev",
        "colab_type": "text"
      },
      "source": [
        "## `MOD()` and `FARM_FINGERPRINT` Functions\n",
        "\n",
        "`FARM_FINGERPRINT()` will compute a string of BYTES or STRING and will never change. The `MOD()` function will return the remainder of the farm fingerprint number and a number. This method will always return the same values for each subset.\n",
        "\n",
        "For example, we want three approximately equal subsets of the data sets of our cohort. We will create a `WHERE` statement that has the `case_barcode` in the `FARM_FINGERPRINT` function, take the absolute value, put that number into the `MOD()`, and set that equal to 0.\n",
        "\n",
        "Note: You need to run `FARM_FINGERPRINT()` on a column that has unique values for each row or combine two columns with `CONCAT` to create a unique value row.\n",
        "\n",
        "For more information visit the BigQuery documentation:\n",
        "- [`FARM_FINGERPRINT()`](https://cloud.google.com/bigquery/docs/reference/standard-sql/functions-and-operators#farm_fingerprint)\n",
        "- [`MOD()`](https://cloud.google.com/dataprep/docs/html/MOD-Function_57344691)"
      ]
    },
    {
      "cell_type": "code",
      "metadata": {
        "id": "n0bpAC5nfFAc",
        "colab_type": "code",
        "outputId": "a1990a39-faba-4ce5-9164-1f94c69c13f8",
        "colab": {
          "base_uri": "https://localhost:8080/",
          "height": 419
        }
      },
      "source": [
        "%%bigquery  --project isb-cgc-02-0001\n",
        "SELECT case_barcode, project_short_name, case_gdc_id\n",
        "FROM `isb-cgc.TARGET_bioclin_v0.Clinical`\n",
        "WHERE project_short_name = \"TARGET-NBL\" AND MOD(ABS(FARM_FINGERPRINT(case_barcode)),3) = 0"
      ],
      "execution_count": 0,
      "outputs": [
        {
          "output_type": "execute_result",
          "data": {
            "text/html": [
              "<div>\n",
              "<style scoped>\n",
              "    .dataframe tbody tr th:only-of-type {\n",
              "        vertical-align: middle;\n",
              "    }\n",
              "\n",
              "    .dataframe tbody tr th {\n",
              "        vertical-align: top;\n",
              "    }\n",
              "\n",
              "    .dataframe thead th {\n",
              "        text-align: right;\n",
              "    }\n",
              "</style>\n",
              "<table border=\"1\" class=\"dataframe\">\n",
              "  <thead>\n",
              "    <tr style=\"text-align: right;\">\n",
              "      <th></th>\n",
              "      <th>case_barcode</th>\n",
              "      <th>project_short_name</th>\n",
              "      <th>case_gdc_id</th>\n",
              "    </tr>\n",
              "  </thead>\n",
              "  <tbody>\n",
              "    <tr>\n",
              "      <th>0</th>\n",
              "      <td>TARGET-30-PATTEF</td>\n",
              "      <td>TARGET-NBL</td>\n",
              "      <td>fef13b6c-d5e9-5ffa-9f55-2404f2f99eeb</td>\n",
              "    </tr>\n",
              "    <tr>\n",
              "      <th>1</th>\n",
              "      <td>TARGET-30-PARJAR</td>\n",
              "      <td>TARGET-NBL</td>\n",
              "      <td>feb97edc-ce83-5fd5-94e3-261ce244ac52</td>\n",
              "    </tr>\n",
              "    <tr>\n",
              "      <th>2</th>\n",
              "      <td>TARGET-30-PANUVK</td>\n",
              "      <td>TARGET-NBL</td>\n",
              "      <td>fd756a5f-0f9a-57ca-9879-2b18e5fa0b54</td>\n",
              "    </tr>\n",
              "    <tr>\n",
              "      <th>3</th>\n",
              "      <td>TARGET-30-PARZHA</td>\n",
              "      <td>TARGET-NBL</td>\n",
              "      <td>fc9d5f9e-af43-5134-95e7-2d434831580b</td>\n",
              "    </tr>\n",
              "    <tr>\n",
              "      <th>4</th>\n",
              "      <td>TARGET-30-PAPRXW</td>\n",
              "      <td>TARGET-NBL</td>\n",
              "      <td>fc3288a3-ad98-5be3-ab70-e02bf4b8fc7c</td>\n",
              "    </tr>\n",
              "    <tr>\n",
              "      <th>...</th>\n",
              "      <td>...</td>\n",
              "      <td>...</td>\n",
              "      <td>...</td>\n",
              "    </tr>\n",
              "    <tr>\n",
              "      <th>367</th>\n",
              "      <td>TARGET-30-PAHSRS</td>\n",
              "      <td>TARGET-NBL</td>\n",
              "      <td>None</td>\n",
              "    </tr>\n",
              "    <tr>\n",
              "      <th>368</th>\n",
              "      <td>TARGET-30-PAHYBI</td>\n",
              "      <td>TARGET-NBL</td>\n",
              "      <td>None</td>\n",
              "    </tr>\n",
              "    <tr>\n",
              "      <th>369</th>\n",
              "      <td>TARGET-30-PADGWJ</td>\n",
              "      <td>TARGET-NBL</td>\n",
              "      <td>None</td>\n",
              "    </tr>\n",
              "    <tr>\n",
              "      <th>370</th>\n",
              "      <td>TARGET-30-PADTYM</td>\n",
              "      <td>TARGET-NBL</td>\n",
              "      <td>None</td>\n",
              "    </tr>\n",
              "    <tr>\n",
              "      <th>371</th>\n",
              "      <td>TARGET-30-PALGNJ</td>\n",
              "      <td>TARGET-NBL</td>\n",
              "      <td>None</td>\n",
              "    </tr>\n",
              "  </tbody>\n",
              "</table>\n",
              "<p>372 rows × 3 columns</p>\n",
              "</div>"
            ],
            "text/plain": [
              "         case_barcode project_short_name                           case_gdc_id\n",
              "0    TARGET-30-PATTEF         TARGET-NBL  fef13b6c-d5e9-5ffa-9f55-2404f2f99eeb\n",
              "1    TARGET-30-PARJAR         TARGET-NBL  feb97edc-ce83-5fd5-94e3-261ce244ac52\n",
              "2    TARGET-30-PANUVK         TARGET-NBL  fd756a5f-0f9a-57ca-9879-2b18e5fa0b54\n",
              "3    TARGET-30-PARZHA         TARGET-NBL  fc9d5f9e-af43-5134-95e7-2d434831580b\n",
              "4    TARGET-30-PAPRXW         TARGET-NBL  fc3288a3-ad98-5be3-ab70-e02bf4b8fc7c\n",
              "..                ...                ...                                   ...\n",
              "367  TARGET-30-PAHSRS         TARGET-NBL                                  None\n",
              "368  TARGET-30-PAHYBI         TARGET-NBL                                  None\n",
              "369  TARGET-30-PADGWJ         TARGET-NBL                                  None\n",
              "370  TARGET-30-PADTYM         TARGET-NBL                                  None\n",
              "371  TARGET-30-PALGNJ         TARGET-NBL                                  None\n",
              "\n",
              "[372 rows x 3 columns]"
            ]
          },
          "metadata": {
            "tags": []
          },
          "execution_count": 5
        }
      ]
    },
    {
      "cell_type": "markdown",
      "metadata": {
        "id": "q75My5qinjZd",
        "colab_type": "text"
      },
      "source": [
        "The three in the `MOD()` statement is what splits the cohort into three subsets. If we wanted to do ~20% split of the data, we would change the three to a ten and then take any row that less than or equal to 1."
      ]
    },
    {
      "cell_type": "code",
      "metadata": {
        "id": "DMKocoSxoMsO",
        "colab_type": "code",
        "outputId": "0585ecd2-08f8-4451-f695-fd7ef5f26664",
        "colab": {
          "base_uri": "https://localhost:8080/",
          "height": 419
        }
      },
      "source": [
        "%%bigquery  --project isb-cgc-02-0001\n",
        "SELECT case_barcode, project_short_name, case_gdc_id\n",
        "FROM `isb-cgc.TARGET_bioclin_v0.Clinical`\n",
        "WHERE project_short_name = \"TARGET-NBL\" AND MOD(ABS(FARM_FINGERPRINT(case_barcode)),10) <= 1"
      ],
      "execution_count": 0,
      "outputs": [
        {
          "output_type": "execute_result",
          "data": {
            "text/html": [
              "<div>\n",
              "<style scoped>\n",
              "    .dataframe tbody tr th:only-of-type {\n",
              "        vertical-align: middle;\n",
              "    }\n",
              "\n",
              "    .dataframe tbody tr th {\n",
              "        vertical-align: top;\n",
              "    }\n",
              "\n",
              "    .dataframe thead th {\n",
              "        text-align: right;\n",
              "    }\n",
              "</style>\n",
              "<table border=\"1\" class=\"dataframe\">\n",
              "  <thead>\n",
              "    <tr style=\"text-align: right;\">\n",
              "      <th></th>\n",
              "      <th>case_barcode</th>\n",
              "      <th>project_short_name</th>\n",
              "      <th>case_gdc_id</th>\n",
              "    </tr>\n",
              "  </thead>\n",
              "  <tbody>\n",
              "    <tr>\n",
              "      <th>0</th>\n",
              "      <td>TARGET-30-PASWIJ</td>\n",
              "      <td>TARGET-NBL</td>\n",
              "      <td>fe0b727f-3843-5b70-b9c1-8a207b837fc4</td>\n",
              "    </tr>\n",
              "    <tr>\n",
              "      <th>1</th>\n",
              "      <td>TARGET-30-PARABN</td>\n",
              "      <td>TARGET-NBL</td>\n",
              "      <td>fc9d0307-a5f5-51c4-ad9e-6e9ed60f0eba</td>\n",
              "    </tr>\n",
              "    <tr>\n",
              "      <th>2</th>\n",
              "      <td>TARGET-30-PAPRXW</td>\n",
              "      <td>TARGET-NBL</td>\n",
              "      <td>fc3288a3-ad98-5be3-ab70-e02bf4b8fc7c</td>\n",
              "    </tr>\n",
              "    <tr>\n",
              "      <th>3</th>\n",
              "      <td>TARGET-30-PAREAG</td>\n",
              "      <td>TARGET-NBL</td>\n",
              "      <td>fb071e74-40dc-5f67-b4c3-e61dd2c2ef88</td>\n",
              "    </tr>\n",
              "    <tr>\n",
              "      <th>4</th>\n",
              "      <td>TARGET-30-PASKSX</td>\n",
              "      <td>TARGET-NBL</td>\n",
              "      <td>faaed289-3f28-5a16-b18b-5ee164f05f50</td>\n",
              "    </tr>\n",
              "    <tr>\n",
              "      <th>...</th>\n",
              "      <td>...</td>\n",
              "      <td>...</td>\n",
              "      <td>...</td>\n",
              "    </tr>\n",
              "    <tr>\n",
              "      <th>216</th>\n",
              "      <td>TARGET-30-PAMXWK</td>\n",
              "      <td>TARGET-NBL</td>\n",
              "      <td>None</td>\n",
              "    </tr>\n",
              "    <tr>\n",
              "      <th>217</th>\n",
              "      <td>TARGET-30-PAHZRF</td>\n",
              "      <td>TARGET-NBL</td>\n",
              "      <td>None</td>\n",
              "    </tr>\n",
              "    <tr>\n",
              "      <th>218</th>\n",
              "      <td>TARGET-30-PADKLJ</td>\n",
              "      <td>TARGET-NBL</td>\n",
              "      <td>None</td>\n",
              "    </tr>\n",
              "    <tr>\n",
              "      <th>219</th>\n",
              "      <td>TARGET-30-PAIFAU</td>\n",
              "      <td>TARGET-NBL</td>\n",
              "      <td>None</td>\n",
              "    </tr>\n",
              "    <tr>\n",
              "      <th>220</th>\n",
              "      <td>TARGET-30-PALGNJ</td>\n",
              "      <td>TARGET-NBL</td>\n",
              "      <td>None</td>\n",
              "    </tr>\n",
              "  </tbody>\n",
              "</table>\n",
              "<p>221 rows × 3 columns</p>\n",
              "</div>"
            ],
            "text/plain": [
              "         case_barcode project_short_name                           case_gdc_id\n",
              "0    TARGET-30-PASWIJ         TARGET-NBL  fe0b727f-3843-5b70-b9c1-8a207b837fc4\n",
              "1    TARGET-30-PARABN         TARGET-NBL  fc9d0307-a5f5-51c4-ad9e-6e9ed60f0eba\n",
              "2    TARGET-30-PAPRXW         TARGET-NBL  fc3288a3-ad98-5be3-ab70-e02bf4b8fc7c\n",
              "3    TARGET-30-PAREAG         TARGET-NBL  fb071e74-40dc-5f67-b4c3-e61dd2c2ef88\n",
              "4    TARGET-30-PASKSX         TARGET-NBL  faaed289-3f28-5a16-b18b-5ee164f05f50\n",
              "..                ...                ...                                   ...\n",
              "216  TARGET-30-PAMXWK         TARGET-NBL                                  None\n",
              "217  TARGET-30-PAHZRF         TARGET-NBL                                  None\n",
              "218  TARGET-30-PADKLJ         TARGET-NBL                                  None\n",
              "219  TARGET-30-PAIFAU         TARGET-NBL                                  None\n",
              "220  TARGET-30-PALGNJ         TARGET-NBL                                  None\n",
              "\n",
              "[221 rows x 3 columns]"
            ]
          },
          "metadata": {
            "tags": []
          },
          "execution_count": 9
        }
      ]
    },
    {
      "cell_type": "markdown",
      "metadata": {
        "id": "3_G51QCzocut",
        "colab_type": "text"
      },
      "source": [
        "With this method, we can also create a query that will retrieve the remaining subset of data. For the first example, we would change the `=` to `!=` as shown below:"
      ]
    },
    {
      "cell_type": "code",
      "metadata": {
        "id": "PjLVlcLuo1p-",
        "colab_type": "code",
        "outputId": "5c3a5c24-d3c8-46a0-82e2-9079ade80c8c",
        "colab": {
          "base_uri": "https://localhost:8080/",
          "height": 419
        }
      },
      "source": [
        "%%bigquery  --project isb-cgc-02-0001\n",
        "SELECT case_barcode, project_short_name, case_gdc_id\n",
        "FROM `isb-cgc.TARGET_bioclin_v0.Clinical`\n",
        "WHERE project_short_name = \"TARGET-NBL\" AND MOD(ABS(FARM_FINGERPRINT(case_barcode)),3) != 0"
      ],
      "execution_count": 0,
      "outputs": [
        {
          "output_type": "execute_result",
          "data": {
            "text/html": [
              "<div>\n",
              "<style scoped>\n",
              "    .dataframe tbody tr th:only-of-type {\n",
              "        vertical-align: middle;\n",
              "    }\n",
              "\n",
              "    .dataframe tbody tr th {\n",
              "        vertical-align: top;\n",
              "    }\n",
              "\n",
              "    .dataframe thead th {\n",
              "        text-align: right;\n",
              "    }\n",
              "</style>\n",
              "<table border=\"1\" class=\"dataframe\">\n",
              "  <thead>\n",
              "    <tr style=\"text-align: right;\">\n",
              "      <th></th>\n",
              "      <th>case_barcode</th>\n",
              "      <th>project_short_name</th>\n",
              "      <th>case_gdc_id</th>\n",
              "    </tr>\n",
              "  </thead>\n",
              "  <tbody>\n",
              "    <tr>\n",
              "      <th>0</th>\n",
              "      <td>TARGET-30-PATSRD</td>\n",
              "      <td>TARGET-NBL</td>\n",
              "      <td>fef92ed0-242b-5564-ad92-6b35c21c3bd5</td>\n",
              "    </tr>\n",
              "    <tr>\n",
              "      <th>1</th>\n",
              "      <td>TARGET-30-PAUAZA</td>\n",
              "      <td>TARGET-NBL</td>\n",
              "      <td>fe831368-c7ce-5e2b-b0fd-c35216a7761d</td>\n",
              "    </tr>\n",
              "    <tr>\n",
              "      <th>2</th>\n",
              "      <td>TARGET-30-PAIJGC</td>\n",
              "      <td>TARGET-NBL</td>\n",
              "      <td>fe58a8bf-8306-5aaf-99d1-b65c20fedc58</td>\n",
              "    </tr>\n",
              "    <tr>\n",
              "      <th>3</th>\n",
              "      <td>TARGET-30-PASWIJ</td>\n",
              "      <td>TARGET-NBL</td>\n",
              "      <td>fe0b727f-3843-5b70-b9c1-8a207b837fc4</td>\n",
              "    </tr>\n",
              "    <tr>\n",
              "      <th>4</th>\n",
              "      <td>TARGET-30-PANBMJ</td>\n",
              "      <td>TARGET-NBL</td>\n",
              "      <td>fdfb389d-eb9a-5014-b391-9cd5f908720d</td>\n",
              "    </tr>\n",
              "    <tr>\n",
              "      <th>...</th>\n",
              "      <td>...</td>\n",
              "      <td>...</td>\n",
              "      <td>...</td>\n",
              "    </tr>\n",
              "    <tr>\n",
              "      <th>803</th>\n",
              "      <td>TARGET-30-PAKKMP</td>\n",
              "      <td>TARGET-NBL</td>\n",
              "      <td>None</td>\n",
              "    </tr>\n",
              "    <tr>\n",
              "      <th>804</th>\n",
              "      <td>TARGET-30-PADKLJ</td>\n",
              "      <td>TARGET-NBL</td>\n",
              "      <td>None</td>\n",
              "    </tr>\n",
              "    <tr>\n",
              "      <th>805</th>\n",
              "      <td>TARGET-30-PAKHWS</td>\n",
              "      <td>TARGET-NBL</td>\n",
              "      <td>None</td>\n",
              "    </tr>\n",
              "    <tr>\n",
              "      <th>806</th>\n",
              "      <td>TARGET-30-PAHPEL</td>\n",
              "      <td>TARGET-NBL</td>\n",
              "      <td>None</td>\n",
              "    </tr>\n",
              "    <tr>\n",
              "      <th>807</th>\n",
              "      <td>TARGET-30-PAIFAU</td>\n",
              "      <td>TARGET-NBL</td>\n",
              "      <td>None</td>\n",
              "    </tr>\n",
              "  </tbody>\n",
              "</table>\n",
              "<p>808 rows × 3 columns</p>\n",
              "</div>"
            ],
            "text/plain": [
              "         case_barcode project_short_name                           case_gdc_id\n",
              "0    TARGET-30-PATSRD         TARGET-NBL  fef92ed0-242b-5564-ad92-6b35c21c3bd5\n",
              "1    TARGET-30-PAUAZA         TARGET-NBL  fe831368-c7ce-5e2b-b0fd-c35216a7761d\n",
              "2    TARGET-30-PAIJGC         TARGET-NBL  fe58a8bf-8306-5aaf-99d1-b65c20fedc58\n",
              "3    TARGET-30-PASWIJ         TARGET-NBL  fe0b727f-3843-5b70-b9c1-8a207b837fc4\n",
              "4    TARGET-30-PANBMJ         TARGET-NBL  fdfb389d-eb9a-5014-b391-9cd5f908720d\n",
              "..                ...                ...                                   ...\n",
              "803  TARGET-30-PAKKMP         TARGET-NBL                                  None\n",
              "804  TARGET-30-PADKLJ         TARGET-NBL                                  None\n",
              "805  TARGET-30-PAKHWS         TARGET-NBL                                  None\n",
              "806  TARGET-30-PAHPEL         TARGET-NBL                                  None\n",
              "807  TARGET-30-PAIFAU         TARGET-NBL                                  None\n",
              "\n",
              "[808 rows x 3 columns]"
            ]
          },
          "metadata": {
            "tags": []
          },
          "execution_count": 10
        }
      ]
    },
    {
      "cell_type": "markdown",
      "metadata": {
        "id": "8BpXyl4Yo9xv",
        "colab_type": "text"
      },
      "source": [
        "For the second example, we would change the `<=` to `>` as shown below:"
      ]
    },
    {
      "cell_type": "code",
      "metadata": {
        "id": "DLTI11UYor-I",
        "colab_type": "code",
        "outputId": "af8997eb-6b0f-4eb4-ae63-481105ec76ee",
        "colab": {
          "base_uri": "https://localhost:8080/",
          "height": 419
        }
      },
      "source": [
        "%%bigquery  --project isb-cgc-02-0001\n",
        "SELECT case_barcode, project_short_name, case_gdc_id\n",
        "FROM `isb-cgc.TARGET_bioclin_v0.Clinical`\n",
        "WHERE project_short_name = \"TARGET-NBL\" AND MOD(ABS(FARM_FINGERPRINT(case_barcode)),10) > 1"
      ],
      "execution_count": 0,
      "outputs": [
        {
          "output_type": "execute_result",
          "data": {
            "text/html": [
              "<div>\n",
              "<style scoped>\n",
              "    .dataframe tbody tr th:only-of-type {\n",
              "        vertical-align: middle;\n",
              "    }\n",
              "\n",
              "    .dataframe tbody tr th {\n",
              "        vertical-align: top;\n",
              "    }\n",
              "\n",
              "    .dataframe thead th {\n",
              "        text-align: right;\n",
              "    }\n",
              "</style>\n",
              "<table border=\"1\" class=\"dataframe\">\n",
              "  <thead>\n",
              "    <tr style=\"text-align: right;\">\n",
              "      <th></th>\n",
              "      <th>case_barcode</th>\n",
              "      <th>project_short_name</th>\n",
              "      <th>case_gdc_id</th>\n",
              "    </tr>\n",
              "  </thead>\n",
              "  <tbody>\n",
              "    <tr>\n",
              "      <th>0</th>\n",
              "      <td>TARGET-30-PATSRD</td>\n",
              "      <td>TARGET-NBL</td>\n",
              "      <td>fef92ed0-242b-5564-ad92-6b35c21c3bd5</td>\n",
              "    </tr>\n",
              "    <tr>\n",
              "      <th>1</th>\n",
              "      <td>TARGET-30-PATTEF</td>\n",
              "      <td>TARGET-NBL</td>\n",
              "      <td>fef13b6c-d5e9-5ffa-9f55-2404f2f99eeb</td>\n",
              "    </tr>\n",
              "    <tr>\n",
              "      <th>2</th>\n",
              "      <td>TARGET-30-PARJAR</td>\n",
              "      <td>TARGET-NBL</td>\n",
              "      <td>feb97edc-ce83-5fd5-94e3-261ce244ac52</td>\n",
              "    </tr>\n",
              "    <tr>\n",
              "      <th>3</th>\n",
              "      <td>TARGET-30-PAUAZA</td>\n",
              "      <td>TARGET-NBL</td>\n",
              "      <td>fe831368-c7ce-5e2b-b0fd-c35216a7761d</td>\n",
              "    </tr>\n",
              "    <tr>\n",
              "      <th>4</th>\n",
              "      <td>TARGET-30-PAIJGC</td>\n",
              "      <td>TARGET-NBL</td>\n",
              "      <td>fe58a8bf-8306-5aaf-99d1-b65c20fedc58</td>\n",
              "    </tr>\n",
              "    <tr>\n",
              "      <th>...</th>\n",
              "      <td>...</td>\n",
              "      <td>...</td>\n",
              "      <td>...</td>\n",
              "    </tr>\n",
              "    <tr>\n",
              "      <th>954</th>\n",
              "      <td>TARGET-30-PAHXGX</td>\n",
              "      <td>TARGET-NBL</td>\n",
              "      <td>None</td>\n",
              "    </tr>\n",
              "    <tr>\n",
              "      <th>955</th>\n",
              "      <td>TARGET-30-PAKEVZ</td>\n",
              "      <td>TARGET-NBL</td>\n",
              "      <td>None</td>\n",
              "    </tr>\n",
              "    <tr>\n",
              "      <th>956</th>\n",
              "      <td>TARGET-30-PAKKMP</td>\n",
              "      <td>TARGET-NBL</td>\n",
              "      <td>None</td>\n",
              "    </tr>\n",
              "    <tr>\n",
              "      <th>957</th>\n",
              "      <td>TARGET-30-PAKHWS</td>\n",
              "      <td>TARGET-NBL</td>\n",
              "      <td>None</td>\n",
              "    </tr>\n",
              "    <tr>\n",
              "      <th>958</th>\n",
              "      <td>TARGET-30-PAHPEL</td>\n",
              "      <td>TARGET-NBL</td>\n",
              "      <td>None</td>\n",
              "    </tr>\n",
              "  </tbody>\n",
              "</table>\n",
              "<p>959 rows × 3 columns</p>\n",
              "</div>"
            ],
            "text/plain": [
              "         case_barcode project_short_name                           case_gdc_id\n",
              "0    TARGET-30-PATSRD         TARGET-NBL  fef92ed0-242b-5564-ad92-6b35c21c3bd5\n",
              "1    TARGET-30-PATTEF         TARGET-NBL  fef13b6c-d5e9-5ffa-9f55-2404f2f99eeb\n",
              "2    TARGET-30-PARJAR         TARGET-NBL  feb97edc-ce83-5fd5-94e3-261ce244ac52\n",
              "3    TARGET-30-PAUAZA         TARGET-NBL  fe831368-c7ce-5e2b-b0fd-c35216a7761d\n",
              "4    TARGET-30-PAIJGC         TARGET-NBL  fe58a8bf-8306-5aaf-99d1-b65c20fedc58\n",
              "..                ...                ...                                   ...\n",
              "954  TARGET-30-PAHXGX         TARGET-NBL                                  None\n",
              "955  TARGET-30-PAKEVZ         TARGET-NBL                                  None\n",
              "956  TARGET-30-PAKKMP         TARGET-NBL                                  None\n",
              "957  TARGET-30-PAKHWS         TARGET-NBL                                  None\n",
              "958  TARGET-30-PAHPEL         TARGET-NBL                                  None\n",
              "\n",
              "[959 rows x 3 columns]"
            ]
          },
          "metadata": {
            "tags": []
          },
          "execution_count": 11
        }
      ]
    },
    {
      "cell_type": "markdown",
      "metadata": {
        "id": "9ejEUj4mwgdo",
        "colab_type": "text"
      },
      "source": [
        "If you want to label the entire cohort and only create one query instead of two, a column can be added to label each case with the subset number."
      ]
    },
    {
      "cell_type": "code",
      "metadata": {
        "id": "VUbIaY88w5Om",
        "colab_type": "code",
        "outputId": "c97af5be-761d-4d20-ae15-29684098b34d",
        "colab": {
          "base_uri": "https://localhost:8080/",
          "height": 419
        }
      },
      "source": [
        "%%bigquery  --project isb-cgc-02-0001\n",
        "SELECT case_barcode, project_short_name, case_gdc_id, MOD(ABS(FARM_FINGERPRINT(case_barcode)),3) as subset\n",
        "FROM `isb-cgc.TARGET_bioclin_v0.Clinical`\n",
        "WHERE project_short_name = \"TARGET-NBL\""
      ],
      "execution_count": 0,
      "outputs": [
        {
          "output_type": "execute_result",
          "data": {
            "text/html": [
              "<div>\n",
              "<style scoped>\n",
              "    .dataframe tbody tr th:only-of-type {\n",
              "        vertical-align: middle;\n",
              "    }\n",
              "\n",
              "    .dataframe tbody tr th {\n",
              "        vertical-align: top;\n",
              "    }\n",
              "\n",
              "    .dataframe thead th {\n",
              "        text-align: right;\n",
              "    }\n",
              "</style>\n",
              "<table border=\"1\" class=\"dataframe\">\n",
              "  <thead>\n",
              "    <tr style=\"text-align: right;\">\n",
              "      <th></th>\n",
              "      <th>case_barcode</th>\n",
              "      <th>project_short_name</th>\n",
              "      <th>case_gdc_id</th>\n",
              "      <th>subset</th>\n",
              "    </tr>\n",
              "  </thead>\n",
              "  <tbody>\n",
              "    <tr>\n",
              "      <th>0</th>\n",
              "      <td>TARGET-30-PATSRD</td>\n",
              "      <td>TARGET-NBL</td>\n",
              "      <td>fef92ed0-242b-5564-ad92-6b35c21c3bd5</td>\n",
              "      <td>1</td>\n",
              "    </tr>\n",
              "    <tr>\n",
              "      <th>1</th>\n",
              "      <td>TARGET-30-PATTEF</td>\n",
              "      <td>TARGET-NBL</td>\n",
              "      <td>fef13b6c-d5e9-5ffa-9f55-2404f2f99eeb</td>\n",
              "      <td>0</td>\n",
              "    </tr>\n",
              "    <tr>\n",
              "      <th>2</th>\n",
              "      <td>TARGET-30-PARJAR</td>\n",
              "      <td>TARGET-NBL</td>\n",
              "      <td>feb97edc-ce83-5fd5-94e3-261ce244ac52</td>\n",
              "      <td>0</td>\n",
              "    </tr>\n",
              "    <tr>\n",
              "      <th>3</th>\n",
              "      <td>TARGET-30-PAUAZA</td>\n",
              "      <td>TARGET-NBL</td>\n",
              "      <td>fe831368-c7ce-5e2b-b0fd-c35216a7761d</td>\n",
              "      <td>2</td>\n",
              "    </tr>\n",
              "    <tr>\n",
              "      <th>4</th>\n",
              "      <td>TARGET-30-PAIJGC</td>\n",
              "      <td>TARGET-NBL</td>\n",
              "      <td>fe58a8bf-8306-5aaf-99d1-b65c20fedc58</td>\n",
              "      <td>2</td>\n",
              "    </tr>\n",
              "    <tr>\n",
              "      <th>...</th>\n",
              "      <td>...</td>\n",
              "      <td>...</td>\n",
              "      <td>...</td>\n",
              "      <td>...</td>\n",
              "    </tr>\n",
              "    <tr>\n",
              "      <th>1175</th>\n",
              "      <td>TARGET-30-PADKLJ</td>\n",
              "      <td>TARGET-NBL</td>\n",
              "      <td>None</td>\n",
              "      <td>2</td>\n",
              "    </tr>\n",
              "    <tr>\n",
              "      <th>1176</th>\n",
              "      <td>TARGET-30-PAKHWS</td>\n",
              "      <td>TARGET-NBL</td>\n",
              "      <td>None</td>\n",
              "      <td>2</td>\n",
              "    </tr>\n",
              "    <tr>\n",
              "      <th>1177</th>\n",
              "      <td>TARGET-30-PAHPEL</td>\n",
              "      <td>TARGET-NBL</td>\n",
              "      <td>None</td>\n",
              "      <td>2</td>\n",
              "    </tr>\n",
              "    <tr>\n",
              "      <th>1178</th>\n",
              "      <td>TARGET-30-PAIFAU</td>\n",
              "      <td>TARGET-NBL</td>\n",
              "      <td>None</td>\n",
              "      <td>2</td>\n",
              "    </tr>\n",
              "    <tr>\n",
              "      <th>1179</th>\n",
              "      <td>TARGET-30-PALGNJ</td>\n",
              "      <td>TARGET-NBL</td>\n",
              "      <td>None</td>\n",
              "      <td>0</td>\n",
              "    </tr>\n",
              "  </tbody>\n",
              "</table>\n",
              "<p>1180 rows × 4 columns</p>\n",
              "</div>"
            ],
            "text/plain": [
              "          case_barcode  ... subset\n",
              "0     TARGET-30-PATSRD  ...      1\n",
              "1     TARGET-30-PATTEF  ...      0\n",
              "2     TARGET-30-PARJAR  ...      0\n",
              "3     TARGET-30-PAUAZA  ...      2\n",
              "4     TARGET-30-PAIJGC  ...      2\n",
              "...                ...  ...    ...\n",
              "1175  TARGET-30-PADKLJ  ...      2\n",
              "1176  TARGET-30-PAKHWS  ...      2\n",
              "1177  TARGET-30-PAHPEL  ...      2\n",
              "1178  TARGET-30-PAIFAU  ...      2\n",
              "1179  TARGET-30-PALGNJ  ...      0\n",
              "\n",
              "[1180 rows x 4 columns]"
            ]
          },
          "metadata": {
            "tags": []
          },
          "execution_count": 12
        }
      ]
    },
    {
      "cell_type": "markdown",
      "metadata": {
        "id": "7SXSobW1xDM2",
        "colab_type": "text"
      },
      "source": [
        "The subsets can then be filtered out and manipulated in python. Please let us know if you have questions by emailing feedback@isb-cgc.org."
      ]
    }
  ]
}