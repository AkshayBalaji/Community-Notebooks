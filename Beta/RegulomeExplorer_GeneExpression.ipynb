{
 "cells": [
  {
   "cell_type": "markdown",
   "metadata": {},
   "source": [
    "# Regulome Explorer Notebook - Gene Expression\n",
    "\n",
    "This notebook computes associations between Gene expression of a list of genes and other molecular features available in TCGA BigQuery tables. The specific statistical tests used between Gene expression and the molecular features (Molecular feature 2) are described in the following table. \n",
    "\n",
    "|Molecular feature 2  |Data type  | Statistics     |\n",
    "|:---                 |:---       |         ---------- : |\n",
    "|Gene expression      |numerical  | Spearman Correlation |\n",
    "|Somatic Copy number  |numerical  | Spearman Correlation |\n",
    "|Clinical numerical   |numerical  | Spearman Correlation |\n",
    "|Somatic mutation Spearman  |binary     | Spearman Correlation           |\n",
    "|Somatic mutation t-test    |binary     | T-score           |\n",
    "|Clinical categorical |categorial | Kruskal-Wallis score (H)      |\n",
    "\n",
    "The output of the notebook is a table sorted by association scores, so that strongest associations between Gene expression and the user specified molecular feature is  displayed at the top of the resulting table.\n",
    "\n",
    "This notebook also performs a more detailed analysis from a user specified pair of features names (genes, mutation, clinical annotations, etc.). The analysis includes the computation of p-values, additional statistics, and figures in a similar style than Regulome explorer."
   ]
  },
  {
   "cell_type": "markdown",
   "metadata": {},
   "source": [
    "### Authentication\n",
    "The first step is to authorize access to BigQuery and the Google Cloud. For more information see ['Quick Start Guide to ISB-CGC'](https://isb-cancer-genomics-cloud.readthedocs.io/en/latest/sections/HowToGetStartedonISB-CGC.html) and alternative authentication methods can be found [here](https://googleapis.github.io/google-cloud-python/latest/core/auth.html)."
   ]
  },
  {
   "cell_type": "markdown",
   "metadata": {},
   "source": [
    "### Import Python libraries"
   ]
  },
  {
   "cell_type": "code",
   "execution_count": 224,
   "metadata": {
    "scrolled": true
   },
   "outputs": [],
   "source": [
    "#%load_ext autoreload\n",
    "#%autoreload 2\n",
    "from google.cloud import bigquery\n",
    "import numpy as np\n",
    "import pandas as pd\n",
    "import seaborn as sns\n",
    "from scipy import stats\n",
    "import ipywidgets as widgets\n",
    "import re_module.bq_functions as regulome"
   ]
  },
  {
   "cell_type": "markdown",
   "metadata": {},
   "source": [
    "### Specify Parameters\n",
    "The parameters for this experiment are the cancer type (study), a list of genes, a molecular feature that will be compared with gene expression, and the minimum number of samples required for the statistical analysis. "
   ]
  },
  {
   "cell_type": "code",
   "execution_count": 225,
   "metadata": {},
   "outputs": [
    {
     "data": {
      "application/vnd.jupyter.widget-view+json": {
       "model_id": "f40a71ce646b4d3d8b5ac848c444a597",
       "version_major": 2,
       "version_minor": 0
      },
      "text/plain": [
       "HBox(children=(HTML(value='<em>Select a study </em>'), Dropdown(index=30, options=('ACC', 'BLCA', 'BRCA', 'CES…"
      ]
     },
     "metadata": {},
     "output_type": "display_data"
    },
    {
     "data": {
      "application/vnd.jupyter.widget-view+json": {
       "model_id": "5db385e0a9624e608b32deaab4c67e4a",
       "version_major": 2,
       "version_minor": 0
      },
      "text/plain": [
       "HBox(children=(HTML(value='<em>Select a molecular feature </em>'), Dropdown(options=('Gene Expression', 'Somat…"
      ]
     },
     "metadata": {},
     "output_type": "display_data"
    },
    {
     "data": {
      "application/vnd.jupyter.widget-view+json": {
       "model_id": "4baa4be06d7d4ecd9fb85303ac1f0e10",
       "version_major": 2,
       "version_minor": 0
      },
      "text/plain": [
       "HBox(children=(HTML(value='<em>Type gene names </em>'), Text(value='IGF2, ADAM6', placeholder='Type gene names…"
      ]
     },
     "metadata": {},
     "output_type": "display_data"
    },
    {
     "data": {
      "application/vnd.jupyter.widget-view+json": {
       "model_id": "3d7a4dd1b7d547fb8c738e555d074fd4",
       "version_major": 2,
       "version_minor": 0
      },
      "text/plain": [
       "HBox(children=(HTML(value='<em>Minimum number of samples</em>'), IntSlider(value=25, max=50, min=5)))"
      ]
     },
     "metadata": {},
     "output_type": "display_data"
    }
   ],
   "source": [
    "[study, feature2_name, gene_names, size] = regulome.makeWidgets()"
   ]
  },
  {
   "cell_type": "markdown",
   "metadata": {},
   "source": [
    "### Build Bigquery string\n",
    "The Bigquery to compute associations between gene expression and 'molecular feature' is composed of the following four tables: \n",
    "  - The first table contains Gene Expression data from user list of gene names\n",
    "  - The second table contains data of the molecular feature 2. \n",
    "  - The third table is a combination of tables 1 and 2 \n",
    "  - The fourth table contains final statistics"
   ]
  },
  {
   "cell_type": "code",
   "execution_count": 226,
   "metadata": {},
   "outputs": [],
   "source": [
    "query_table1= \"\"\"\n",
    "table1 AS (\n",
    "SELECT  symbol, data, ParticipantBarcode,\n",
    "        (RANK() OVER (PARTITION BY symbol ORDER BY data ASC)) + (COUNT(*) OVER ( PARTITION BY symbol, CAST(data as STRING)) - 1)/2.0 AS rnkdata \n",
    "FROM ( \n",
    "   SELECT \n",
    "         Symbol AS symbol, AVG( LOG10( normalized_count + 1 )) AS data, ParticipantBarcode,\n",
    "         COUNT( SampleBarcode)  as nsample \n",
    "   FROM  `pancancer-atlas.Filtered.EBpp_AdjustPANCAN_IlluminaHiSeq_RNASeqV2_genExp_filtered` \n",
    "   WHERE Study = '{0}' AND Symbol in UNNEST(@PARAMETERLIST) AND normalized_count IS NOT NULL\n",
    "   GROUP BY \n",
    "         ParticipantBarcode, symbol\n",
    "   )\n",
    "   \n",
    ")\n",
    "\"\"\".format( study.value )"
   ]
  },
  {
   "cell_type": "markdown",
   "metadata": {},
   "source": [
    "The following tables are specific to the selected molecular feature, and are created using functions in the 'regulome' module. The final query ('sql') can be printed and modified for other applications "
   ]
  },
  {
   "cell_type": "code",
   "execution_count": 227,
   "metadata": {
    "scrolled": true
   },
   "outputs": [],
   "source": [
    "query_table2 = regulome.get_feature2_table( study.value, feature2_name.value )\n",
    "str_summarized = regulome.get_summarized_table( 'Gene Expression',feature2_name.value  )\n",
    "str_stats = regulome.get_stat_table( feature2_name.value, size.value )\n",
    "\n",
    "sql = ( 'WITH' + query_table1 + ',' + query_table2 + ',' + str_summarized + str_stats)\n",
    "#print(sql)"
   ]
  },
  {
   "cell_type": "markdown",
   "metadata": {},
   "source": [
    "### Run the Bigquery"
   ]
  },
  {
   "cell_type": "code",
   "execution_count": 228,
   "metadata": {},
   "outputs": [
    {
     "name": "stdout",
     "output_type": "stream",
     "text": [
      "\n",
      " in runQuery ... \n",
      "    this query processed 7828848022 bytes \n",
      "    Approx. elpased time : 22508 miliseconds \n"
     ]
    }
   ],
   "source": [
    "bqclient = bigquery.Client()\n",
    "gene_list = [ x.strip() for x in gene_names.value.split(',') ]\n",
    "df_results = regulome.runQuery ( bqclient, sql, gene_list , dryRun=False )\n"
   ]
  },
  {
   "cell_type": "code",
   "execution_count": 229,
   "metadata": {},
   "outputs": [
    {
     "data": {
      "text/html": [
       "<div>\n",
       "<style scoped>\n",
       "    .dataframe tbody tr th:only-of-type {\n",
       "        vertical-align: middle;\n",
       "    }\n",
       "\n",
       "    .dataframe tbody tr th {\n",
       "        vertical-align: top;\n",
       "    }\n",
       "\n",
       "    .dataframe thead th {\n",
       "        text-align: right;\n",
       "    }\n",
       "</style>\n",
       "<table border=\"1\" class=\"dataframe\">\n",
       "  <thead>\n",
       "    <tr style=\"text-align: right;\">\n",
       "      <th></th>\n",
       "      <th>symbol1</th>\n",
       "      <th>symbol2</th>\n",
       "      <th>n_1</th>\n",
       "      <th>n_0</th>\n",
       "      <th>avg1</th>\n",
       "      <th>avg0</th>\n",
       "      <th>tscore</th>\n",
       "    </tr>\n",
       "  </thead>\n",
       "  <tbody>\n",
       "    <tr>\n",
       "      <th>0</th>\n",
       "      <td>IGF2</td>\n",
       "      <td>ADCY6</td>\n",
       "      <td>30</td>\n",
       "      <td>510</td>\n",
       "      <td>2.528557</td>\n",
       "      <td>3.232999</td>\n",
       "      <td>8.646479</td>\n",
       "    </tr>\n",
       "    <tr>\n",
       "      <th>1</th>\n",
       "      <td>ADAM6</td>\n",
       "      <td>TTC14</td>\n",
       "      <td>35</td>\n",
       "      <td>505</td>\n",
       "      <td>4.563166</td>\n",
       "      <td>3.720492</td>\n",
       "      <td>7.637177</td>\n",
       "    </tr>\n",
       "    <tr>\n",
       "      <th>2</th>\n",
       "      <td>IGF2</td>\n",
       "      <td>PHACTR4</td>\n",
       "      <td>31</td>\n",
       "      <td>509</td>\n",
       "      <td>2.639206</td>\n",
       "      <td>3.227644</td>\n",
       "      <td>7.267107</td>\n",
       "    </tr>\n",
       "    <tr>\n",
       "      <th>3</th>\n",
       "      <td>ADAM6</td>\n",
       "      <td>PHLPP1</td>\n",
       "      <td>36</td>\n",
       "      <td>504</td>\n",
       "      <td>4.437801</td>\n",
       "      <td>3.727775</td>\n",
       "      <td>7.190469</td>\n",
       "    </tr>\n",
       "    <tr>\n",
       "      <th>4</th>\n",
       "      <td>IGF2</td>\n",
       "      <td>ASPM</td>\n",
       "      <td>70</td>\n",
       "      <td>470</td>\n",
       "      <td>2.723918</td>\n",
       "      <td>3.263855</td>\n",
       "      <td>7.078710</td>\n",
       "    </tr>\n",
       "    <tr>\n",
       "      <th>5</th>\n",
       "      <td>IGF2</td>\n",
       "      <td>PRRC2A</td>\n",
       "      <td>40</td>\n",
       "      <td>500</td>\n",
       "      <td>2.661358</td>\n",
       "      <td>3.236464</td>\n",
       "      <td>7.068822</td>\n",
       "    </tr>\n",
       "    <tr>\n",
       "      <th>6</th>\n",
       "      <td>ADAM6</td>\n",
       "      <td>PLXNB3</td>\n",
       "      <td>51</td>\n",
       "      <td>489</td>\n",
       "      <td>4.339592</td>\n",
       "      <td>3.716238</td>\n",
       "      <td>7.028194</td>\n",
       "    </tr>\n",
       "    <tr>\n",
       "      <th>7</th>\n",
       "      <td>ADAM6</td>\n",
       "      <td>SYNJ1</td>\n",
       "      <td>42</td>\n",
       "      <td>498</td>\n",
       "      <td>4.374923</td>\n",
       "      <td>3.724523</td>\n",
       "      <td>6.994572</td>\n",
       "    </tr>\n",
       "    <tr>\n",
       "      <th>8</th>\n",
       "      <td>IGF2</td>\n",
       "      <td>OBSCN</td>\n",
       "      <td>108</td>\n",
       "      <td>432</td>\n",
       "      <td>2.817412</td>\n",
       "      <td>3.287976</td>\n",
       "      <td>6.936299</td>\n",
       "    </tr>\n",
       "    <tr>\n",
       "      <th>9</th>\n",
       "      <td>ADAM6</td>\n",
       "      <td>CHD7</td>\n",
       "      <td>59</td>\n",
       "      <td>481</td>\n",
       "      <td>4.315077</td>\n",
       "      <td>3.708877</td>\n",
       "      <td>6.932297</td>\n",
       "    </tr>\n",
       "  </tbody>\n",
       "</table>\n",
       "</div>"
      ],
      "text/plain": [
       "  symbol1  symbol2  n_1  n_0      avg1      avg0    tscore\n",
       "0    IGF2    ADCY6   30  510  2.528557  3.232999  8.646479\n",
       "1   ADAM6    TTC14   35  505  4.563166  3.720492  7.637177\n",
       "2    IGF2  PHACTR4   31  509  2.639206  3.227644  7.267107\n",
       "3   ADAM6   PHLPP1   36  504  4.437801  3.727775  7.190469\n",
       "4    IGF2     ASPM   70  470  2.723918  3.263855  7.078710\n",
       "5    IGF2   PRRC2A   40  500  2.661358  3.236464  7.068822\n",
       "6   ADAM6   PLXNB3   51  489  4.339592  3.716238  7.028194\n",
       "7   ADAM6    SYNJ1   42  498  4.374923  3.724523  6.994572\n",
       "8    IGF2    OBSCN  108  432  2.817412  3.287976  6.936299\n",
       "9   ADAM6     CHD7   59  481  4.315077  3.708877  6.932297"
      ]
     },
     "execution_count": 229,
     "metadata": {},
     "output_type": "execute_result"
    }
   ],
   "source": [
    "df_results[0:10]"
   ]
  },
  {
   "cell_type": "markdown",
   "metadata": {},
   "source": [
    "## Analyze a pair of features\n",
    "From the table above please select a pair of features names to perform a statitical analysis and display the data. You can print the variable 'pair_query' to obtain the query used to retrieve the data. "
   ]
  },
  {
   "cell_type": "code",
   "execution_count": 220,
   "metadata": {},
   "outputs": [
    {
     "data": {
      "application/vnd.jupyter.widget-view+json": {
       "model_id": "44903d73fbd84ef883ed584e4fae23c7",
       "version_major": 2,
       "version_minor": 0
      },
      "text/plain": [
       "HBox(children=(HTML(value='<em>Type label 1 </em>'), Text(value='', placeholder='label name')))"
      ]
     },
     "metadata": {},
     "output_type": "display_data"
    },
    {
     "data": {
      "application/vnd.jupyter.widget-view+json": {
       "model_id": "1b60c58609394826aae39e88f13b67e1",
       "version_major": 2,
       "version_minor": 0
      },
      "text/plain": [
       "HBox(children=(HTML(value='<em>Type label 2 </em>'), Text(value='', placeholder='label name')))"
      ]
     },
     "metadata": {},
     "output_type": "display_data"
    }
   ],
   "source": [
    "[name1 , name2 ] = regulome.makeWidgetsPair()"
   ]
  },
  {
   "cell_type": "code",
   "execution_count": 230,
   "metadata": {},
   "outputs": [],
   "source": [
    "pair_query = regulome.get_query_pair(name1.value,name2.value,study.value,'Gene Expression',feature2_name.value)"
   ]
  },
  {
   "cell_type": "code",
   "execution_count": 231,
   "metadata": {},
   "outputs": [
    {
     "name": "stdout",
     "output_type": "stream",
     "text": [
      "\n",
      " in runQuery ... \n",
      "    the results for this query were previously cached \n"
     ]
    }
   ],
   "source": [
    "df_pair = regulome.runQuery( bqclient, pair_query, [] , dryRun=False )"
   ]
  },
  {
   "cell_type": "code",
   "execution_count": 232,
   "metadata": {},
   "outputs": [
    {
     "name": "stdout",
     "output_type": "stream",
     "text": [
      "                       ADAM6 (gene expression)      \n",
      "                                          mean count\n",
      "HLX (Somatic Mutation)                              \n",
      "0                                     3.750624   521\n",
      "1                                     4.446533    19\n",
      "\n",
      "T-test statistics : \n",
      "Ttest_indResult(statistic=-9.119885921394625, pvalue=2.557011683315096e-10)\n"
     ]
    },
    {
     "data": {
      "image/png": "[encoded data removed]",
      "text/plain": [
       "<Figure size 432x288 with 1 Axes>"
      ]
     },
     "metadata": {
      "needs_background": "light"
     },
     "output_type": "display_data"
    }
   ],
   "source": [
    "regulome.plot_statistics_pair ( df_pair, feature2_name.value, name1.value, name2.value, size.value )  "
   ]
  },
  {
   "cell_type": "code",
   "execution_count": null,
   "metadata": {},
   "outputs": [],
   "source": []
  }
 ],
 "metadata": {
  "kernelspec": {
   "display_name": "Python 3",
   "language": "python",
   "name": "python3"
  },
  "language_info": {
   "codemirror_mode": {
    "name": "ipython",
    "version": 3
   },
   "file_extension": ".py",
   "mimetype": "text/x-python",
   "name": "python",
   "nbconvert_exporter": "python",
   "pygments_lexer": "ipython3",
   "version": "3.7.1"
  }
 },
 "nbformat": 4,
 "nbformat_minor": 2
}
