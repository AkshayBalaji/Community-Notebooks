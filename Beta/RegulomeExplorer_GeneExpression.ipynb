{
 "cells": [
  {
   "cell_type": "markdown",
   "metadata": {},
   "source": [
    "# Regulome Explorer - Gene Expression\n",
    "\n",
    "Computing associations of between Gene expression of a list of genes and other molecular features available in TCGA\n"
   ]
  },
  {
   "cell_type": "markdown",
   "metadata": {},
   "source": [
    "### Authentication\n",
    "Authorize our access to BigQuery and the Google Cloud. For more information see ['Quick Start Guide to ISB-CGC'](https://isb-cancer-genomics-cloud.readthedocs.io/en/latest/sections/HowToGetStartedonISB-CGC.html) and alternative authentication methods can be found [here ](https://googleapis.github.io/google-cloud-python/latest/core/auth.html)."
   ]
  },
  {
   "cell_type": "markdown",
   "metadata": {},
   "source": [
    "### Import Python libraries"
   ]
  },
  {
   "cell_type": "code",
   "execution_count": 167,
   "metadata": {},
   "outputs": [],
   "source": [
    "#%load_ext autoreload\n",
    "#%autoreload 2\n",
    "from google.cloud import bigquery\n",
    "import numpy as np\n",
    "import pandas as pd\n",
    "import seaborn as sns\n",
    "from scipy import stats\n",
    "import ipywidgets as widgets\n",
    "import re_module.bq_functions as regulome"
   ]
  },
  {
   "cell_type": "markdown",
   "metadata": {},
   "source": [
    "### Specify Parameters\n",
    "The parameters for this experiment are the cancer type (study) and a list of genes. The list of genes is used to generate a table with gene expression data for these genes, however the user can generate the data acoording to some criteria, for example we could have generated a table with the most variables gene, please refer to other notebooks for ways to generate a table of genes."
   ]
  },
  {
   "cell_type": "code",
   "execution_count": 159,
   "metadata": {},
   "outputs": [
    {
     "data": {
      "application/vnd.jupyter.widget-view+json": {
       "model_id": "fb925b78eac8446ba835320ef2e5c6b6",
       "version_major": 2,
       "version_minor": 0
      },
      "text/plain": [
       "HBox(children=(HTML(value='<em>Select a study </em>'), Dropdown(index=30, options=('ACC', 'BLCA', 'BRCA', 'CES…"
      ]
     },
     "metadata": {},
     "output_type": "display_data"
    },
    {
     "data": {
      "application/vnd.jupyter.widget-view+json": {
       "model_id": "830bd7b960af44399b57b18a418c62b4",
       "version_major": 2,
       "version_minor": 0
      },
      "text/plain": [
       "HBox(children=(HTML(value='<em>Select a molecular feature </em>'), Dropdown(options=('Gene Expression', 'Somat…"
      ]
     },
     "metadata": {},
     "output_type": "display_data"
    },
    {
     "data": {
      "application/vnd.jupyter.widget-view+json": {
       "model_id": "b9736370867d49c68b89716f9735eb28",
       "version_major": 2,
       "version_minor": 0
      },
      "text/plain": [
       "HBox(children=(HTML(value='<em>Type gene names </em>'), Text(value='IGF2, ADAM2', placeholder='Type gene names…"
      ]
     },
     "metadata": {},
     "output_type": "display_data"
    }
   ],
   "source": [
    "[study, feature2_name, gene_names] = regulome.makeWidgets()"
   ]
  },
  {
   "cell_type": "markdown",
   "metadata": {},
   "source": [
    "### Build Bigquery string\n",
    "The Bigquery to compute associations is composed of the following four tables: \n",
    "  - The first table contains Gene Expression data from\n",
    "  - The second table contains data of the molecular feature 2. \n",
    "  - The third table is a combination of tables 1 and 2 \n",
    "  - The fourth table is contains the statistics"
   ]
  },
  {
   "cell_type": "code",
   "execution_count": 160,
   "metadata": {},
   "outputs": [],
   "source": [
    "query_table1= \"\"\"\n",
    "table1 AS (\n",
    "SELECT  symbol, data, SampleBarcode,\n",
    "        DENSE_RANK() OVER (PARTITION BY symbol ORDER BY data ASC) AS rnkdata \n",
    "FROM ( \n",
    "   SELECT \n",
    "         Symbol AS symbol, AVG( LOG10( normalized_count + 1 )) AS data, SampleBarcode,\n",
    "         COUNT( SampleBarcode)  as nsample \n",
    "   FROM  `pancancer-atlas.Filtered.EBpp_AdjustPANCAN_IlluminaHiSeq_RNASeqV2_genExp_filtered` \n",
    "   WHERE Study = '{0}' AND Symbol in UNNEST(@PARAMETERLIST)\n",
    "   GROUP BY \n",
    "         SampleBarcode, symbol\n",
    ")\n",
    "WHERE nsample = 1\n",
    ")\n",
    "\"\"\".format( study.value )"
   ]
  },
  {
   "cell_type": "markdown",
   "metadata": {},
   "source": [
    "The following tables are specific to the selected molecular feature.  The final query (sql) can printed and run directly on Bigquery console. "
   ]
  },
  {
   "cell_type": "code",
   "execution_count": 161,
   "metadata": {},
   "outputs": [],
   "source": [
    "query_table2 = regulome.get_feature2_table( study.value, feature2_name.value )\n",
    "str_summarized = regulome.get_summarized_table( feature2_name.value )\n",
    "str_stats = regulome.get_stat_table( feature2_name.value )\n",
    "\n",
    "sql = ( 'WITH' + query_table1 + ',' + query_table2 + ',' + str_summarized + str_stats) "
   ]
  },
  {
   "cell_type": "markdown",
   "metadata": {},
   "source": [
    "### Run the Bigquery"
   ]
  },
  {
   "cell_type": "code",
   "execution_count": 162,
   "metadata": {},
   "outputs": [
    {
     "name": "stdout",
     "output_type": "stream",
     "text": [
      "\n",
      " in runQuery ... \n",
      "    this query processed 8633483721 bytes \n"
     ]
    }
   ],
   "source": [
    "bqclient = bigquery.Client()\n",
    "gene_list = [ x.strip() for x in gene_names.value.split(',') ]\n",
    "df_results = regulome.runQuery ( bqclient, sql, gene_list , dryRun=False )"
   ]
  },
  {
   "cell_type": "code",
   "execution_count": 163,
   "metadata": {},
   "outputs": [
    {
     "data": {
      "text/html": [
       "<div>\n",
       "<style scoped>\n",
       "    .dataframe tbody tr th:only-of-type {\n",
       "        vertical-align: middle;\n",
       "    }\n",
       "\n",
       "    .dataframe tbody tr th {\n",
       "        vertical-align: top;\n",
       "    }\n",
       "\n",
       "    .dataframe thead th {\n",
       "        text-align: right;\n",
       "    }\n",
       "</style>\n",
       "<table border=\"1\" class=\"dataframe\">\n",
       "  <thead>\n",
       "    <tr style=\"text-align: right;\">\n",
       "      <th></th>\n",
       "      <th>symbol1</th>\n",
       "      <th>symbol2</th>\n",
       "      <th>rho</th>\n",
       "    </tr>\n",
       "  </thead>\n",
       "  <tbody>\n",
       "    <tr>\n",
       "      <th>0</th>\n",
       "      <td>IGF2</td>\n",
       "      <td>IGF2AS</td>\n",
       "      <td>0.760481</td>\n",
       "    </tr>\n",
       "    <tr>\n",
       "      <th>1</th>\n",
       "      <td>IGF2</td>\n",
       "      <td>INS-IGF2</td>\n",
       "      <td>0.666674</td>\n",
       "    </tr>\n",
       "    <tr>\n",
       "      <th>2</th>\n",
       "      <td>IGF2</td>\n",
       "      <td>LRRC4B</td>\n",
       "      <td>0.637915</td>\n",
       "    </tr>\n",
       "    <tr>\n",
       "      <th>3</th>\n",
       "      <td>IGF2</td>\n",
       "      <td>ZBTB46</td>\n",
       "      <td>0.612028</td>\n",
       "    </tr>\n",
       "    <tr>\n",
       "      <th>4</th>\n",
       "      <td>IGF2</td>\n",
       "      <td>ADAM33</td>\n",
       "      <td>0.602187</td>\n",
       "    </tr>\n",
       "    <tr>\n",
       "      <th>5</th>\n",
       "      <td>IGF2</td>\n",
       "      <td>NRXN2</td>\n",
       "      <td>0.601245</td>\n",
       "    </tr>\n",
       "    <tr>\n",
       "      <th>6</th>\n",
       "      <td>IGF2</td>\n",
       "      <td>F10</td>\n",
       "      <td>0.599612</td>\n",
       "    </tr>\n",
       "    <tr>\n",
       "      <th>7</th>\n",
       "      <td>IGF2</td>\n",
       "      <td>CPXM1</td>\n",
       "      <td>0.591952</td>\n",
       "    </tr>\n",
       "    <tr>\n",
       "      <th>8</th>\n",
       "      <td>IGF2</td>\n",
       "      <td>MAGEL2</td>\n",
       "      <td>0.580652</td>\n",
       "    </tr>\n",
       "    <tr>\n",
       "      <th>9</th>\n",
       "      <td>IGF2</td>\n",
       "      <td>PSD</td>\n",
       "      <td>0.574342</td>\n",
       "    </tr>\n",
       "  </tbody>\n",
       "</table>\n",
       "</div>"
      ],
      "text/plain": [
       "  symbol1   symbol2       rho\n",
       "0    IGF2    IGF2AS  0.760481\n",
       "1    IGF2  INS-IGF2  0.666674\n",
       "2    IGF2    LRRC4B  0.637915\n",
       "3    IGF2    ZBTB46  0.612028\n",
       "4    IGF2    ADAM33  0.602187\n",
       "5    IGF2     NRXN2  0.601245\n",
       "6    IGF2       F10  0.599612\n",
       "7    IGF2     CPXM1  0.591952\n",
       "8    IGF2    MAGEL2  0.580652\n",
       "9    IGF2       PSD  0.574342"
      ]
     },
     "execution_count": 163,
     "metadata": {},
     "output_type": "execute_result"
    }
   ],
   "source": [
    "df_results[0:10]"
   ]
  },
  {
   "cell_type": "markdown",
   "metadata": {},
   "source": [
    "## Analyze a pair of features\n",
    "From the table above please select a pair of features names to perform a statitical analysis and display the data\n"
   ]
  },
  {
   "cell_type": "code",
   "execution_count": 154,
   "metadata": {},
   "outputs": [
    {
     "data": {
      "application/vnd.jupyter.widget-view+json": {
       "model_id": "1c0038cc39294046bed9b3eadc1dc090",
       "version_major": 2,
       "version_minor": 0
      },
      "text/plain": [
       "HBox(children=(HTML(value='<em>Type name 1 </em>'), Text(value='', placeholder='gene name')))"
      ]
     },
     "metadata": {},
     "output_type": "display_data"
    },
    {
     "data": {
      "application/vnd.jupyter.widget-view+json": {
       "model_id": "75a78a9fe5d84b11972f8936d723540d",
       "version_major": 2,
       "version_minor": 0
      },
      "text/plain": [
       "HBox(children=(HTML(value='<em>Type name 2 </em>'), Text(value='', placeholder='gene name')))"
      ]
     },
     "metadata": {},
     "output_type": "display_data"
    }
   ],
   "source": [
    "[name1 , name2 ] = regulome.makeWidgetsPair()"
   ]
  },
  {
   "cell_type": "code",
   "execution_count": 164,
   "metadata": {},
   "outputs": [],
   "source": [
    "pair_query = regulome.get_query_pair(name1.value,name2.value,study.value,'Gene Expression',feature2_name.value)"
   ]
  },
  {
   "cell_type": "code",
   "execution_count": 165,
   "metadata": {},
   "outputs": [
    {
     "name": "stdout",
     "output_type": "stream",
     "text": [
      "\n",
      " in runQuery ... \n",
      "    the results for this query were previously cached \n"
     ]
    }
   ],
   "source": [
    "df_pair = regulome.runQuery( bqclient, pair_query, [] , dryRun=False )"
   ]
  },
  {
   "cell_type": "code",
   "execution_count": 166,
   "metadata": {},
   "outputs": [
    {
     "name": "stdout",
     "output_type": "stream",
     "text": [
      "SpearmanrResult(correlation=0.5993988063342942, pvalue=3.302482942871283e-56)\n"
     ]
    },
    {
     "data": {
      "image/png": "[encoded data removed]",
      "text/plain": [
       "<Figure size 432x288 with 1 Axes>"
      ]
     },
     "metadata": {
      "needs_background": "light"
     },
     "output_type": "display_data"
    }
   ],
   "source": [
    "regulome.plot_statistics_pair ( df_pair, feature2_name.value )  "
   ]
  }
 ],
 "metadata": {
  "kernelspec": {
   "display_name": "Python 3",
   "language": "python",
   "name": "python3"
  },
  "language_info": {
   "codemirror_mode": {
    "name": "ipython",
    "version": 3
   },
   "file_extension": ".py",
   "mimetype": "text/x-python",
   "name": "python",
   "nbconvert_exporter": "python",
   "pygments_lexer": "ipython3",
   "version": "3.7.1"
  }
 },
 "nbformat": 4,
 "nbformat_minor": 2
}
